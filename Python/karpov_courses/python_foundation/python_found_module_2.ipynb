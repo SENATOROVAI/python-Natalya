{
  "cells": [
    {
      "cell_type": "markdown",
      "metadata": {
        "id": "fMXe20JhahjD"
      },
      "source": [
        "# Урок_2. Переменные и основные  типы данных (практика)"
      ]
    },
    {
      "cell_type": "code",
      "execution_count": null,
      "metadata": {
        "id": "rVt0-Wbri0Ck"
      },
      "outputs": [],
      "source": [
        "# Task_1\n",
        "cat_name = \"Vasya\"\n",
        "cat_age = 5\n",
        "is_fluffy = False"
      ]
    },
    {
      "cell_type": "code",
      "execution_count": null,
      "metadata": {
        "colab": {
          "base_uri": "https://localhost:8080/"
        },
        "id": "5UY7umHUj8bb",
        "outputId": "a57cb89d-892c-4138-8658-9318af9f6993"
      },
      "outputs": [
        {
          "name": "stdout",
          "output_type": "stream",
          "text": [
            "14\n"
          ]
        }
      ],
      "source": [
        "# Task_3\n",
        "# посчитать через сколько лет отец будет вдвое старше сына\n",
        "# father_age = 20\n",
        "# son_age = 3\n",
        "# result = 14\n",
        "father_age = 20\n",
        "son_age = 3\n",
        "result = abs((son_age * 2) - father_age)\n",
        "print(result)"
      ]
    },
    {
      "cell_type": "code",
      "execution_count": null,
      "metadata": {
        "colab": {
          "base_uri": "https://localhost:8080/"
        },
        "id": "mkHvbwcfT1Lw",
        "outputId": "b4e8457c-976c-4663-fb38-1797f790cc65"
      },
      "outputs": [
        {
          "name": "stdout",
          "output_type": "stream",
          "text": [
            "6.4031242374328485\n"
          ]
        }
      ],
      "source": [
        "# Task_З_1 Давайте напишем программу для поиска длины гипотенузы.\n",
        "import math\n",
        "\n",
        "a = 4\n",
        "b = 5\n",
        "c = math.sqrt(a**2 + b**2)\n",
        "print(c)"
      ]
    },
    {
      "cell_type": "markdown",
      "metadata": {
        "id": "J5xCxxMCVf_a"
      },
      "source": [
        "## Task_4\n"
      ]
    },
    {
      "cell_type": "markdown",
      "metadata": {
        "id": "wtuUHGeXnRqS"
      },
      "source": [
        "Заданы вещественные числа a, b и с – стороны треугольника. Вычислите периметр и площадь треугольника. Результат сохраните в переменные **perimeter** и **area** соответственно."
      ]
    },
    {
      "cell_type": "code",
      "execution_count": null,
      "metadata": {
        "colab": {
          "base_uri": "https://localhost:8080/"
        },
        "id": "Oi1iEj7IViBy",
        "outputId": "6648e244-327d-4789-d1e3-0d244daaeb7e"
      },
      "outputs": [
        {
          "name": "stdout",
          "output_type": "stream",
          "text": [
            "6.0\n"
          ]
        }
      ],
      "source": [
        "a = 3\n",
        "b = 4\n",
        "c = 5\n",
        "perimeter = a + b + c\n",
        "p = perimeter / 2  # или *0.5\n",
        "area = (p * (p - a) * (p - b) * (p - c)) ** 0.5\n",
        "print(area)"
      ]
    },
    {
      "cell_type": "markdown",
      "metadata": {
        "id": "IxET5jOknlNa"
      },
      "source": [
        "## Task_5"
      ]
    },
    {
      "cell_type": "markdown",
      "metadata": {
        "id": "4_59653cWE9v"
      },
      "source": [
        " В переменную **n** сохранено целое число — количество секунд. Напишите программу, которая конвертирует заданное количество секунд **n** в часы, минуты и секунды. Результат сохраните в переменные hours, minutes, seconds.\n",
        "\n"
      ]
    },
    {
      "cell_type": "markdown",
      "metadata": {
        "id": "mBEQzItynxFS"
      },
      "source": [
        "То есть сначала нужно посчитать, сколько в число **n** поместилось целых часов, целых минут и сколько после этого осталось секунд.  "
      ]
    },
    {
      "cell_type": "code",
      "execution_count": null,
      "metadata": {
        "colab": {
          "base_uri": "https://localhost:8080/"
        },
        "id": "MiwKPu6XWJKx",
        "outputId": "6f7b332c-4091-42ff-a38a-dc93671cd65f"
      },
      "outputs": [
        {
          "name": "stdout",
          "output_type": "stream",
          "text": [
            "0\n",
            "2\n",
            "5\n"
          ]
        }
      ],
      "source": [
        "n = 125\n",
        "hours = n // 3600\n",
        "minutes = (n - hours * 3600) // 60\n",
        "seconds = (n - hours * 3600 - minutes * 60) % 60\n",
        "print(hours)\n",
        "print(minutes)\n",
        "print(seconds)"
      ]
    },
    {
      "cell_type": "code",
      "execution_count": null,
      "metadata": {
        "colab": {
          "base_uri": "https://localhost:8080/"
        },
        "id": "ABKiEZrQW3Fz",
        "outputId": "c456719c-7e01-467e-ade0-14c8d0054ad3"
      },
      "outputs": [
        {
          "name": "stdout",
          "output_type": "stream",
          "text": [
            "3.14\n"
          ]
        }
      ],
      "source": [
        "# round() — функция округления числа до указанного количества знаков после запятой.\n",
        "number = 3.14159\n",
        "result = round(number, 2)\n",
        "print(result)  # Вывод: 3.14"
      ]
    },
    {
      "cell_type": "code",
      "execution_count": null,
      "metadata": {
        "id": "8VvFUhs7W_T0"
      },
      "outputs": [],
      "source": [
        "# abs() — функция, которая возвращает абсолютное значение числа.\n",
        "number = -10\n",
        "result = abs(number)\n",
        "print(result)  # Вывод: 10"
      ]
    },
    {
      "cell_type": "markdown",
      "metadata": {
        "id": "gq5feBQRoVcJ"
      },
      "source": [
        "## Task_6"
      ]
    },
    {
      "cell_type": "markdown",
      "metadata": {
        "id": "d4wCsCEFXOiW"
      },
      "source": [
        "В переменной **price_new** хранится цена килограмма бананов в числовом формате, а в переменной **price_old** — цена килограмма бананов год назад. Вычислите, на сколько процентов по модулю изменилась цена за год. Результат сохраните в переменную **result**. Результат округлите до двух знаков после запятой."
      ]
    },
    {
      "cell_type": "code",
      "execution_count": null,
      "metadata": {
        "colab": {
          "base_uri": "https://localhost:8080/"
        },
        "id": "v8l1L8KtXP8T",
        "outputId": "6ae28013-849c-40ff-8fae-61a441b45a18"
      },
      "outputs": [
        {
          "name": "stdout",
          "output_type": "stream",
          "text": [
            "19.19\n"
          ]
        }
      ],
      "source": [
        "price_new = 89.99\n",
        "price_old = 75.50\n",
        "p_n = float(price_new)\n",
        "p_o = float(price_old)\n",
        "result = abs(((p_n / p_o) - 1) * 100)\n",
        "result = round(result, 2)\n",
        "print(result)"
      ]
    },
    {
      "cell_type": "code",
      "execution_count": null,
      "metadata": {
        "colab": {
          "base_uri": "https://localhost:8080/"
        },
        "id": "_V-aAXbTXmo5",
        "outputId": "52320c0c-12b2-4be8-ceec-715ef00bfe20"
      },
      "outputs": [
        {
          "name": "stdout",
          "output_type": "stream",
          "text": [
            "19.19\n"
          ]
        }
      ],
      "source": [
        "result = abs(round(100 * (price_new - price_old) / price_old, 2))\n",
        "print(result)"
      ]
    },
    {
      "cell_type": "code",
      "execution_count": null,
      "metadata": {
        "colab": {
          "base_uri": "https://localhost:8080/"
        },
        "id": "6cNjG8UcX2h6",
        "outputId": "e6fe4f3b-62e0-4bc6-fdcf-57f50ffd26af"
      },
      "outputs": [
        {
          "name": "stdout",
          "output_type": "stream",
          "text": [
            "16\n"
          ]
        }
      ],
      "source": [
        "# Task_7\n",
        "a = 5\n",
        "b = str(\"10\")  # b = '10'\n",
        "c = True\n",
        "my_sum = a + int(b) + int(c)  # сумма созданных переменных, где  b и с\n",
        "# преобразовано в int.\n",
        "print(my_sum)"
      ]
    },
    {
      "cell_type": "markdown",
      "metadata": {
        "id": "iN9dtKIrqDy4"
      },
      "source": [
        "## Task_8"
      ]
    },
    {
      "cell_type": "markdown",
      "metadata": {
        "id": "xZ_GdZaTYbHv"
      },
      "source": [
        "В переменной **a** сохранено число с десятичной частью но в формате строки, например '3.14'. В переменную **с** сохраните целую часть из числа в переменной **a**."
      ]
    },
    {
      "cell_type": "code",
      "execution_count": null,
      "metadata": {
        "colab": {
          "base_uri": "https://localhost:8080/"
        },
        "id": "8P2-q1aSYdD_",
        "outputId": "73f978af-3c55-47c3-ae52-68c4a10398a9"
      },
      "outputs": [
        {
          "data": {
            "text/plain": [
              "3.0"
            ]
          },
          "execution_count": 14,
          "metadata": {},
          "output_type": "execute_result"
        }
      ],
      "source": [
        "a = \"3.14\"\n",
        "c = float(a)\n",
        "c = round(c, 0)\n",
        "c"
      ]
    },
    {
      "cell_type": "code",
      "execution_count": null,
      "metadata": {
        "colab": {
          "base_uri": "https://localhost:8080/"
        },
        "id": "Zgv65omZYxpP",
        "outputId": "6099aa44-c3fb-49b2-dbdf-9c44738a4e58"
      },
      "outputs": [
        {
          "data": {
            "text/plain": [
              "5"
            ]
          },
          "execution_count": 4,
          "metadata": {},
          "output_type": "execute_result"
        }
      ],
      "source": [
        "c = int(float(a))\n",
        "c"
      ]
    },
    {
      "cell_type": "markdown",
      "metadata": {
        "id": "Ekt1sQbzrRO4"
      },
      "source": [
        "## Task_9"
      ]
    },
    {
      "cell_type": "markdown",
      "metadata": {
        "id": "Kz1qbEGiZGQQ"
      },
      "source": [
        "В переменной **х** уже сохранено целое положительное число. Вычислите **x + x0x0x**. Результат сохраните в переменную **result**.\n",
        "\n",
        "То есть, если **x = 2**, то нужно вычислить **2 + 20202**."
      ]
    },
    {
      "cell_type": "code",
      "execution_count": null,
      "metadata": {
        "colab": {
          "base_uri": "https://localhost:8080/"
        },
        "id": "_IqwMuGqZJ48",
        "outputId": "047c1bfd-7c02-4b67-acce-d2fb2a652577"
      },
      "outputs": [
        {
          "name": "stdout",
          "output_type": "stream",
          "text": [
            "2\n"
          ]
        },
        {
          "data": {
            "text/plain": [
              "20204"
            ]
          },
          "execution_count": 18,
          "metadata": {},
          "output_type": "execute_result"
        }
      ],
      "source": [
        "x = int(input())\n",
        "result = x + int(str(x) + \"0\" + str(x) + \"0\" + str(x))\n",
        "result"
      ]
    },
    {
      "cell_type": "code",
      "execution_count": null,
      "metadata": {
        "colab": {
          "base_uri": "https://localhost:8080/"
        },
        "id": "YiyeNlo6r-xn",
        "outputId": "f999145c-ec8f-493c-8065-7fa96925404b"
      },
      "outputs": [
        {
          "name": "stdout",
          "output_type": "stream",
          "text": [
            "5\n"
          ]
        },
        {
          "data": {
            "text/plain": [
              "50510"
            ]
          },
          "execution_count": 5,
          "metadata": {},
          "output_type": "execute_result"
        }
      ],
      "source": [
        "x = int(input())\n",
        "result = x + int(str(x) + str(0) + str(x) + str(0) + str(x))\n",
        "result"
      ]
    },
    {
      "cell_type": "code",
      "execution_count": null,
      "metadata": {
        "colab": {
          "base_uri": "https://localhost:8080/"
        },
        "id": "cKeFUfx8sO6P",
        "outputId": "522a6e15-0138-48aa-b32d-53bc3de5af45"
      },
      "outputs": [
        {
          "data": {
            "text/plain": [
              "50510"
            ]
          },
          "execution_count": 7,
          "metadata": {},
          "output_type": "execute_result"
        }
      ],
      "source": [
        "# более элегантное решение\n",
        "result = x + int(f\"{x}0{x}0{x}\")\n",
        "result"
      ]
    },
    {
      "cell_type": "markdown",
      "metadata": {
        "id": "cvBsTk6atWN_"
      },
      "source": [
        "## Task_12"
      ]
    },
    {
      "cell_type": "markdown",
      "metadata": {
        "id": "TWkmRhv7tZ4-"
      },
      "source": [
        "В переменной **x** хранится целое число. Проверьте, делится ли это число без остатка на **3** и на **7**. Результат сохраните в переменную **result**. Переменная **result** должна иметь логический тип данных.\n",
        "\n",
        "Если **x = 7**, то **result = False**. Если **x = 21**, то **result = True**."
      ]
    },
    {
      "cell_type": "code",
      "execution_count": null,
      "metadata": {
        "colab": {
          "base_uri": "https://localhost:8080/"
        },
        "id": "VQIi3WDlZrH2",
        "outputId": "dbfbe0ae-d1ee-4bc6-c2ea-43b07687c39d"
      },
      "outputs": [
        {
          "name": "stdout",
          "output_type": "stream",
          "text": [
            "7\n"
          ]
        },
        {
          "data": {
            "text/plain": [
              "False"
            ]
          },
          "execution_count": 8,
          "metadata": {},
          "output_type": "execute_result"
        }
      ],
      "source": [
        "x = int(input())\n",
        "if x % 3 == 0 and x % 7 == 0:\n",
        "    result = True\n",
        "else:\n",
        "    result = False\n",
        "result"
      ]
    },
    {
      "cell_type": "code",
      "execution_count": null,
      "metadata": {
        "colab": {
          "base_uri": "https://localhost:8080/"
        },
        "id": "1kZbFaRruo_Y",
        "outputId": "68d82cb7-0fd0-43cb-86e9-f2060000a62e"
      },
      "outputs": [
        {
          "data": {
            "text/plain": [
              "False"
            ]
          },
          "execution_count": 10,
          "metadata": {},
          "output_type": "execute_result"
        }
      ],
      "source": [
        "result = x % 7 == 0 and x % 3 == 0\n",
        "result"
      ]
    },
    {
      "cell_type": "markdown",
      "metadata": {
        "id": "o1vI8Qh2via-"
      },
      "source": [
        "# Экранированные (служебные символы) в Python"
      ]
    },
    {
      "cell_type": "code",
      "execution_count": null,
      "metadata": {
        "colab": {
          "base_uri": "https://localhost:8080/"
        },
        "id": "C3t8dU2v5XR-",
        "outputId": "9f622c4a-0d69-4caf-c586-1aa74866c793"
      },
      "outputs": [
        {
          "name": "stdout",
          "output_type": "stream",
          "text": [
            "'Манчестер Юнайтед' - чемпион Англии!\n",
            "2013\n"
          ]
        }
      ],
      "source": [
        "string1 = \"'Манчестер Юнайтед' - чемпион Англии!\\n2013\"\n",
        "print(string1)"
      ]
    },
    {
      "cell_type": "code",
      "execution_count": null,
      "metadata": {
        "colab": {
          "base_uri": "https://localhost:8080/"
        },
        "id": "wtMu6sBK5jn2",
        "outputId": "9dad636f-05c0-44d4-989c-bf4e92606976"
      },
      "outputs": [
        {
          "name": "stdout",
          "output_type": "stream",
          "text": [
            "Hello\n",
            "world!\n",
            "C:\\Users\\user\\Desktop\\file.txt\n",
            "Name:\tJohn\n",
            "It's a beautiful day!\n",
            "It's a beautiful day!\n"
          ]
        }
      ],
      "source": [
        "print(\"Hello\\nworld!\")\n",
        "print(\"C:\\\\Users\\\\user\\\\Desktop\\\\file.txt\")\n",
        "print(\"Name:\\tJohn\")\n",
        "print(\"It's a beautiful day!\")\n",
        "print(\"It's a beautiful day!\")  # так тоже можно"
      ]
    },
    {
      "cell_type": "markdown",
      "metadata": {
        "id": "QDOMvdWuvmaG"
      },
      "source": [
        "## Task_14"
      ]
    },
    {
      "cell_type": "markdown",
      "metadata": {
        "id": "QdAi-IC6v8_2"
      },
      "source": [
        "Сохраните в переменную **square** строку, которая выводит на экран прямоугольник 4 x 4, сформированный из звездочек, разделенных пробелом."
      ]
    },
    {
      "cell_type": "code",
      "execution_count": null,
      "metadata": {
        "colab": {
          "base_uri": "https://localhost:8080/"
        },
        "id": "uoCWAPkUaB1o",
        "outputId": "447317b8-d84f-4be9-b29d-b1118887bf27"
      },
      "outputs": [
        {
          "name": "stdout",
          "output_type": "stream",
          "text": [
            "* * * *\n",
            "* * * *\n",
            "* * * *\n",
            "* * * *\n",
            "\n"
          ]
        }
      ],
      "source": [
        "square = \"* * * *\\n\" + \"* * * *\\n\" + \"* * * *\\n\" + \"* * * *\\n\"\n",
        "print(square)"
      ]
    },
    {
      "cell_type": "code",
      "execution_count": null,
      "metadata": {
        "colab": {
          "base_uri": "https://localhost:8080/"
        },
        "id": "62GJBz8kaFzK",
        "outputId": "fb72fcc4-8333-46d8-ed8c-07b7bf0515ac"
      },
      "outputs": [
        {
          "name": "stdout",
          "output_type": "stream",
          "text": [
            "* * * *\n",
            "* * * *\n",
            "* * * *\n",
            "* * * *\n"
          ]
        }
      ],
      "source": [
        "square = \"* * * *\\n* * * *\\n* * * *\\n* * * *\"\n",
        "print(square)"
      ]
    }
  ],
  "metadata": {
    "colab": {
      "provenance": []
    },
    "kernelspec": {
      "display_name": "Python 3",
      "name": "python3"
    },
    "language_info": {
      "name": "python"
    }
  },
  "nbformat": 4,
  "nbformat_minor": 0
}
