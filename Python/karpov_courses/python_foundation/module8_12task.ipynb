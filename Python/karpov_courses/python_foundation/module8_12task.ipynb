{
 "cells": [
  {
   "cell_type": "code",
   "execution_count": 2,
   "metadata": {},
   "outputs": [
    {
     "ename": "AttributeError",
     "evalue": "'bool' object has no attribute 'append'",
     "output_type": "error",
     "traceback": [
      "\u001b[1;31m---------------------------------------------------------------------------\u001b[0m",
      "\u001b[1;31mAttributeError\u001b[0m                            Traceback (most recent call last)",
      "Cell \u001b[1;32mIn[2], line 14\u001b[0m\n\u001b[0;32m     11\u001b[0m     is_multiple \u001b[38;5;241m=\u001b[39m (digit \u001b[38;5;241m%\u001b[39m prev_digit \u001b[38;5;241m==\u001b[39m \u001b[38;5;241m0\u001b[39m)  \u001b[38;5;66;03m# сделай двойную проверку , с использованием оператора and \u001b[39;00m\n\u001b[0;32m     12\u001b[0m     \u001b[38;5;66;03m# первая проверка должна быть на то не равняется ли prev_digit 0 ,иначе если ты этого не сделаешь \u001b[39;00m\n\u001b[0;32m     13\u001b[0m     \u001b[38;5;66;03m# то получишь ошибку errordivision by zero \u001b[39;00m\n\u001b[1;32m---> 14\u001b[0m     \u001b[43mresult\u001b[49m\u001b[38;5;241;43m.\u001b[39;49m\u001b[43mappend\u001b[49m(is_multiple)  \u001b[38;5;66;03m# сейчас ты пытаешься делать аппенд в переменную булевого типа,когда\u001b[39;00m\n\u001b[0;32m     15\u001b[0m     \u001b[38;5;66;03m#ты сделаешь result списком то все будет работать нормально\u001b[39;00m\n\u001b[0;32m     18\u001b[0m \u001b[38;5;28mprint\u001b[39m(result)  \u001b[38;5;66;03m# выводим результат \u001b[39;00m\n",
      "\u001b[1;31mAttributeError\u001b[0m: 'bool' object has no attribute 'append'"
     ]
    }
   ],
   "source": [
    "# https://lab.karpov.courses/learning/243/module/2453/lesson/23855/68546/331882/\n",
    "\n",
    "n = 736451\n",
    "n_str = str(n)  # преобразуем число в строку\n",
    "result = False  # начальное значение всегда False\n",
    "# сделай переменную result списком , с единственным значением False\n",
    "\n",
    "for i in range(1, len(n_str)):\n",
    "    digit = int(n_str[i])  # текущая цифра\n",
    "    prev_digit = int(n_str[i - 1])  # цифра, стоящая слева от текущей\n",
    "    is_multiple = (\n",
    "        digit % prev_digit == 0\n",
    "    )  # сделай двойную проверку , с использованием оператора and\n",
    "    # первая проверка должна быть на то не равняется ли prev_digit 0 ,иначе если ты этого не сделаешь\n",
    "    # то получишь ошибку errordivision by zero\n",
    "    result.append(\n",
    "        is_multiple\n",
    "    )  # 'bool' object has no attribute 'append'; сейчас ты пытаешься делать аппенд в переменную булевого типа,когда\n",
    "    # ты сделаешь result списком то все будет работать нормально\n",
    "\n",
    "\n",
    "print(result)  # выводим результат\n",
    "\n",
    "\n",
    "# Тест, на котором получена ошибка"
   ]
  },
  {
   "cell_type": "code",
   "execution_count": 3,
   "metadata": {},
   "outputs": [
    {
     "data": {
      "text/plain": [
       "False"
      ]
     },
     "execution_count": 3,
     "metadata": {},
     "output_type": "execute_result"
    }
   ],
   "source": [
    "hasattr(result, 'append') # у объекта нет метода append"
   ]
  },
  {
   "cell_type": "code",
   "execution_count": 5,
   "metadata": {},
   "outputs": [
    {
     "data": {
      "text/plain": [
       "['__abs__',\n",
       " '__add__',\n",
       " '__and__',\n",
       " '__bool__',\n",
       " '__ceil__',\n",
       " '__class__',\n",
       " '__delattr__',\n",
       " '__dir__',\n",
       " '__divmod__',\n",
       " '__doc__',\n",
       " '__eq__',\n",
       " '__float__',\n",
       " '__floor__',\n",
       " '__floordiv__',\n",
       " '__format__',\n",
       " '__ge__',\n",
       " '__getattribute__',\n",
       " '__getnewargs__',\n",
       " '__getstate__',\n",
       " '__gt__',\n",
       " '__hash__',\n",
       " '__index__',\n",
       " '__init__',\n",
       " '__init_subclass__',\n",
       " '__int__',\n",
       " '__invert__',\n",
       " '__le__',\n",
       " '__lshift__',\n",
       " '__lt__',\n",
       " '__mod__',\n",
       " '__mul__',\n",
       " '__ne__',\n",
       " '__neg__',\n",
       " '__new__',\n",
       " '__or__',\n",
       " '__pos__',\n",
       " '__pow__',\n",
       " '__radd__',\n",
       " '__rand__',\n",
       " '__rdivmod__',\n",
       " '__reduce__',\n",
       " '__reduce_ex__',\n",
       " '__repr__',\n",
       " '__rfloordiv__',\n",
       " '__rlshift__',\n",
       " '__rmod__',\n",
       " '__rmul__',\n",
       " '__ror__',\n",
       " '__round__',\n",
       " '__rpow__',\n",
       " '__rrshift__',\n",
       " '__rshift__',\n",
       " '__rsub__',\n",
       " '__rtruediv__',\n",
       " '__rxor__',\n",
       " '__setattr__',\n",
       " '__sizeof__',\n",
       " '__str__',\n",
       " '__sub__',\n",
       " '__subclasshook__',\n",
       " '__truediv__',\n",
       " '__trunc__',\n",
       " '__xor__',\n",
       " 'as_integer_ratio',\n",
       " 'bit_count',\n",
       " 'bit_length',\n",
       " 'conjugate',\n",
       " 'denominator',\n",
       " 'from_bytes',\n",
       " 'imag',\n",
       " 'numerator',\n",
       " 'real',\n",
       " 'to_bytes']"
      ]
     },
     "execution_count": 5,
     "metadata": {},
     "output_type": "execute_result"
    }
   ],
   "source": [
    "dir(result) # все методы объекта "
   ]
  },
  {
   "cell_type": "code",
   "execution_count": 6,
   "metadata": {},
   "outputs": [
    {
     "data": {
      "text/plain": [
       "bool"
      ]
     },
     "execution_count": 6,
     "metadata": {},
     "output_type": "execute_result"
    }
   ],
   "source": [
    "type(result) # тип данных bool - не структура данных, туда нельзя ничего положить. Поэтому у result нет append"
   ]
  }
 ],
 "metadata": {
  "kernelspec": {
   "display_name": "conda_venv",
   "language": "python",
   "name": "python3"
  },
  "language_info": {
   "codemirror_mode": {
    "name": "ipython",
    "version": 3
   },
   "file_extension": ".py",
   "mimetype": "text/x-python",
   "name": "python",
   "nbconvert_exporter": "python",
   "pygments_lexer": "ipython3",
   "version": "3.11.4"
  }
 },
 "nbformat": 4,
 "nbformat_minor": 2
}
