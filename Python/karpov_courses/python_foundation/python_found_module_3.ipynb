{
  "nbformat": 4,
  "nbformat_minor": 0,
  "metadata": {
    "colab": {
      "provenance": [],
      "collapsed_sections": [
        "PrcV_g6lz9tR"
      ]
    },
    "kernelspec": {
      "name": "python3",
      "display_name": "Python 3"
    },
    "language_info": {
      "name": "python"
    }
  },
  "cells": [
    {
      "cell_type": "markdown",
      "source": [
        "# Урок 3 Списки и множества"
      ],
      "metadata": {
        "id": "dthw3RSsbcAA"
      }
    },
    {
      "cell_type": "markdown",
      "source": [
        "## **Списки**"
      ],
      "metadata": {
        "id": "PrcV_g6lz9tR"
      }
    },
    {
      "cell_type": "markdown",
      "source": [
        "### **Список** - упорядоченный набор элементов произвольной длины и элементов произвольного типа"
      ],
      "metadata": {
        "id": "d4PUOWJjgtJw"
      }
    },
    {
      "cell_type": "markdown",
      "source": [
        "### **Создание списков**"
      ],
      "metadata": {
        "id": "wKm_uEf2lCd1"
      }
    },
    {
      "cell_type": "code",
      "source": [
        "student1 = 'Anatoly'\n",
        "student2 ='Ivan'\n",
        "student3 = 'Fedor'\n",
        "\n",
        "student4 = 'Beslan'\n",
        "student5 = 'Ivan'\n",
        "student6 = 'Oksana'\n",
        "\n",
        "\n"
      ],
      "metadata": {
        "id": "IOMIDDtjhVt4"
      },
      "execution_count": null,
      "outputs": []
    },
    {
      "cell_type": "code",
      "source": [
        "python_students = [student1, student2, student3]"
      ],
      "metadata": {
        "id": "8ify2ew-iKay"
      },
      "execution_count": null,
      "outputs": []
    },
    {
      "cell_type": "code",
      "source": [
        "sql_students = [student4, student5, student6]"
      ],
      "metadata": {
        "id": "E-MzhUq5j4mr"
      },
      "execution_count": null,
      "outputs": []
    },
    {
      "cell_type": "code",
      "source": [
        "python_students"
      ],
      "metadata": {
        "colab": {
          "base_uri": "https://localhost:8080/"
        },
        "id": "aqqCYtGqibet",
        "outputId": "eaebd506-7e9b-4e61-b309-131fd7b8c3c3"
      },
      "execution_count": null,
      "outputs": [
        {
          "output_type": "execute_result",
          "data": {
            "text/plain": [
              "['Anatoly', 'Ivan', 'Fedor']"
            ]
          },
          "metadata": {},
          "execution_count": 7
        }
      ]
    },
    {
      "cell_type": "code",
      "source": [
        "sql_students"
      ],
      "metadata": {
        "colab": {
          "base_uri": "https://localhost:8080/"
        },
        "id": "JSF8d0XgkZkZ",
        "outputId": "c4989421-2ef5-4caa-a6e7-c276353d4caa"
      },
      "execution_count": null,
      "outputs": [
        {
          "output_type": "execute_result",
          "data": {
            "text/plain": [
              "['Beslan', 'Ivan', 'Oksana']"
            ]
          },
          "metadata": {},
          "execution_count": 8
        }
      ]
    },
    {
      "cell_type": "code",
      "source": [
        "my_list = [1, 2, 3,\n",
        "           \"hi\", True]"
      ],
      "metadata": {
        "id": "B-KNL8kYi1ty"
      },
      "execution_count": null,
      "outputs": []
    },
    {
      "cell_type": "code",
      "source": [
        "# my_list"
      ],
      "metadata": {
        "id": "impU8W5KjFyI"
      },
      "execution_count": null,
      "outputs": []
    },
    {
      "cell_type": "markdown",
      "source": [
        "### **Индексация списков**"
      ],
      "metadata": {
        "id": "keJzrfi7lS85"
      }
    },
    {
      "cell_type": "code",
      "source": [
        "python_students[1]"
      ],
      "metadata": {
        "colab": {
          "base_uri": "https://localhost:8080/",
          "height": 36
        },
        "id": "kOCFIj_SmHKW",
        "outputId": "5abcf9a2-c316-4a69-84b7-84a6e2ec475f"
      },
      "execution_count": null,
      "outputs": [
        {
          "output_type": "execute_result",
          "data": {
            "text/plain": [
              "'Ivan'"
            ],
            "application/vnd.google.colaboratory.intrinsic+json": {
              "type": "string"
            }
          },
          "metadata": {},
          "execution_count": 11
        }
      ]
    },
    {
      "cell_type": "code",
      "source": [
        "python_students[0:2]\n"
      ],
      "metadata": {
        "colab": {
          "base_uri": "https://localhost:8080/"
        },
        "id": "nj020fc1mmfS",
        "outputId": "2ccbec2d-7652-4c5f-9940-159ade1dad95"
      },
      "execution_count": null,
      "outputs": [
        {
          "output_type": "execute_result",
          "data": {
            "text/plain": [
              "['Anatoly', 'Ivan']"
            ]
          },
          "metadata": {},
          "execution_count": 12
        }
      ]
    },
    {
      "cell_type": "code",
      "source": [
        "# [0, 2)]"
      ],
      "metadata": {
        "id": "Si1HANBmm1ly"
      },
      "execution_count": null,
      "outputs": []
    },
    {
      "cell_type": "code",
      "source": [
        "python_students[0:2]"
      ],
      "metadata": {
        "colab": {
          "base_uri": "https://localhost:8080/"
        },
        "id": "ok28zTtfnQC1",
        "outputId": "8f95524f-e1ee-4119-ecf4-152a84f30684"
      },
      "execution_count": null,
      "outputs": [
        {
          "output_type": "execute_result",
          "data": {
            "text/plain": [
              "['Anatoly', 'Ivan']"
            ]
          },
          "metadata": {},
          "execution_count": 14
        }
      ]
    },
    {
      "cell_type": "code",
      "source": [
        "python_students[0:10]\n"
      ],
      "metadata": {
        "colab": {
          "base_uri": "https://localhost:8080/"
        },
        "id": "jXNvJVqinmA2",
        "outputId": "ef5df881-2b1b-443b-ad9d-a86bd691e4ad"
      },
      "execution_count": null,
      "outputs": [
        {
          "output_type": "execute_result",
          "data": {
            "text/plain": [
              "['Anatoly', 'Ivan', 'Fedor']"
            ]
          },
          "metadata": {},
          "execution_count": 15
        }
      ]
    },
    {
      "cell_type": "code",
      "source": [
        "# my_index = 1\n",
        "# python _students[my_index]"
      ],
      "metadata": {
        "id": "fn_eG3Hxpc8A"
      },
      "execution_count": null,
      "outputs": []
    },
    {
      "cell_type": "code",
      "source": [
        "# start_i == start_index\n",
        "# start_i = 0\n",
        "# end_i = 2\n",
        "# python_students[start_i:end_i]"
      ],
      "metadata": {
        "id": "Fr10o2FjpyVA"
      },
      "execution_count": null,
      "outputs": []
    },
    {
      "cell_type": "code",
      "source": [
        "python_students[-2]"
      ],
      "metadata": {
        "colab": {
          "base_uri": "https://localhost:8080/",
          "height": 36
        },
        "id": "vO5_V0qmp97w",
        "outputId": "e6f365ca-cad7-4171-c47d-37c19e8423da"
      },
      "execution_count": null,
      "outputs": [
        {
          "output_type": "execute_result",
          "data": {
            "text/plain": [
              "'Ivan'"
            ],
            "application/vnd.google.colaboratory.intrinsic+json": {
              "type": "string"
            }
          },
          "metadata": {},
          "execution_count": 16
        }
      ]
    },
    {
      "cell_type": "code",
      "source": [
        "# my_list1 = list(range(5))\n",
        "my_list1 = list(range(50, 150))"
      ],
      "metadata": {
        "id": "v6psV6EysMEL"
      },
      "execution_count": null,
      "outputs": []
    },
    {
      "cell_type": "code",
      "source": [
        "#my_list1[10:20]\n",
        "# my_list1[:20] по 19\n",
        "my_list1\n",
        "print (my_list1[0:10:2]) # [start, end, 2 - шаг]\n",
        "my_list1[8]"
      ],
      "metadata": {
        "colab": {
          "base_uri": "https://localhost:8080/"
        },
        "id": "DT7FqRYisy0S",
        "outputId": "175661df-93c7-432b-f0c7-cd3baf19673b"
      },
      "execution_count": null,
      "outputs": [
        {
          "output_type": "stream",
          "name": "stdout",
          "text": [
            "[50, 52, 54, 56, 58]\n"
          ]
        },
        {
          "output_type": "execute_result",
          "data": {
            "text/plain": [
              "58"
            ]
          },
          "metadata": {},
          "execution_count": 21
        }
      ]
    },
    {
      "cell_type": "code",
      "source": [
        "my_list1[0:10:1]\n"
      ],
      "metadata": {
        "colab": {
          "base_uri": "https://localhost:8080/"
        },
        "id": "V3LUCxCG3LOS",
        "outputId": "9cb12e20-7513-409c-ac30-56c4a8dbf698"
      },
      "execution_count": null,
      "outputs": [
        {
          "output_type": "execute_result",
          "data": {
            "text/plain": [
              "[50, 51, 52, 53, 54, 55, 56, 57, 58, 59]"
            ]
          },
          "metadata": {},
          "execution_count": 22
        }
      ]
    },
    {
      "cell_type": "code",
      "source": [
        "my_list1[0:10:1]\n"
      ],
      "metadata": {
        "colab": {
          "base_uri": "https://localhost:8080/"
        },
        "id": "V-rXPX973znI",
        "outputId": "814d8efc-0b6b-4e8c-bd96-3cd60ffcbff3"
      },
      "execution_count": null,
      "outputs": [
        {
          "output_type": "execute_result",
          "data": {
            "text/plain": [
              "[50, 51, 52, 53, 54, 55, 56, 57, 58, 59]"
            ]
          },
          "metadata": {},
          "execution_count": 23
        }
      ]
    },
    {
      "cell_type": "code",
      "source": [
        "my_list1[10:0:-1] # 0 не включен\n"
      ],
      "metadata": {
        "colab": {
          "base_uri": "https://localhost:8080/"
        },
        "id": "w5RglP1e84vJ",
        "outputId": "22d4c6bc-e591-4d84-80e9-358ea919a6da"
      },
      "execution_count": null,
      "outputs": [
        {
          "output_type": "execute_result",
          "data": {
            "text/plain": [
              "[60, 59, 58, 57, 56, 55, 54, 53, 52, 51]"
            ]
          },
          "metadata": {},
          "execution_count": 24
        }
      ]
    },
    {
      "cell_type": "code",
      "source": [
        "my_list1[::-1] # позволяет по сути нам развернуть список\n"
      ],
      "metadata": {
        "colab": {
          "base_uri": "https://localhost:8080/"
        },
        "id": "ughaaavb984P",
        "outputId": "667a3a9d-5058-4661-f1ac-99748d8e1458"
      },
      "execution_count": null,
      "outputs": [
        {
          "output_type": "execute_result",
          "data": {
            "text/plain": [
              "[149,\n",
              " 148,\n",
              " 147,\n",
              " 146,\n",
              " 145,\n",
              " 144,\n",
              " 143,\n",
              " 142,\n",
              " 141,\n",
              " 140,\n",
              " 139,\n",
              " 138,\n",
              " 137,\n",
              " 136,\n",
              " 135,\n",
              " 134,\n",
              " 133,\n",
              " 132,\n",
              " 131,\n",
              " 130,\n",
              " 129,\n",
              " 128,\n",
              " 127,\n",
              " 126,\n",
              " 125,\n",
              " 124,\n",
              " 123,\n",
              " 122,\n",
              " 121,\n",
              " 120,\n",
              " 119,\n",
              " 118,\n",
              " 117,\n",
              " 116,\n",
              " 115,\n",
              " 114,\n",
              " 113,\n",
              " 112,\n",
              " 111,\n",
              " 110,\n",
              " 109,\n",
              " 108,\n",
              " 107,\n",
              " 106,\n",
              " 105,\n",
              " 104,\n",
              " 103,\n",
              " 102,\n",
              " 101,\n",
              " 100,\n",
              " 99,\n",
              " 98,\n",
              " 97,\n",
              " 96,\n",
              " 95,\n",
              " 94,\n",
              " 93,\n",
              " 92,\n",
              " 91,\n",
              " 90,\n",
              " 89,\n",
              " 88,\n",
              " 87,\n",
              " 86,\n",
              " 85,\n",
              " 84,\n",
              " 83,\n",
              " 82,\n",
              " 81,\n",
              " 80,\n",
              " 79,\n",
              " 78,\n",
              " 77,\n",
              " 76,\n",
              " 75,\n",
              " 74,\n",
              " 73,\n",
              " 72,\n",
              " 71,\n",
              " 70,\n",
              " 69,\n",
              " 68,\n",
              " 67,\n",
              " 66,\n",
              " 65,\n",
              " 64,\n",
              " 63,\n",
              " 62,\n",
              " 61,\n",
              " 60,\n",
              " 59,\n",
              " 58,\n",
              " 57,\n",
              " 56,\n",
              " 55,\n",
              " 54,\n",
              " 53,\n",
              " 52,\n",
              " 51,\n",
              " 50]"
            ]
          },
          "metadata": {},
          "execution_count": 25
        }
      ]
    },
    {
      "cell_type": "markdown",
      "source": [
        "**Методы списков**\n"
      ],
      "metadata": {
        "id": "gbU7r23s_FKw"
      }
    },
    {
      "cell_type": "markdown",
      "source": [
        "**.append and .extend**"
      ],
      "metadata": {
        "id": "kPogOJsryCJl"
      }
    },
    {
      "cell_type": "code",
      "source": [
        "python_students"
      ],
      "metadata": {
        "colab": {
          "base_uri": "https://localhost:8080/"
        },
        "id": "sr1wQLpB_LSd",
        "outputId": "68d95851-832e-4980-e4a4-6fdd406bfa69"
      },
      "execution_count": null,
      "outputs": [
        {
          "output_type": "execute_result",
          "data": {
            "text/plain": [
              "['Anatoly', 'Ivan', 'Fedor']"
            ]
          },
          "metadata": {},
          "execution_count": 26
        }
      ]
    },
    {
      "cell_type": "code",
      "source": [
        "python_students.append('Masha') # добавляем элемент\n"
      ],
      "metadata": {
        "id": "14UbsGeM_hAL"
      },
      "execution_count": null,
      "outputs": []
    },
    {
      "cell_type": "code",
      "source": [
        "python_students\n"
      ],
      "metadata": {
        "colab": {
          "base_uri": "https://localhost:8080/"
        },
        "id": "h5SGOrX1_voj",
        "outputId": "17a84e79-fe3f-41b5-9b24-f6234dc0c2e3"
      },
      "execution_count": null,
      "outputs": [
        {
          "output_type": "execute_result",
          "data": {
            "text/plain": [
              "['Anatoly', 'Ivan', 'Fedor', 'Masha', 'Masha', 'Masha', 'Masha']"
            ]
          },
          "metadata": {},
          "execution_count": 35
        }
      ]
    },
    {
      "cell_type": "code",
      "source": [
        "python_students.extend(['Igor', 'Daniil']) # добавляем список, а не элемент\n",
        "\n",
        "\n"
      ],
      "metadata": {
        "id": "rkhdqYR3AAWL"
      },
      "execution_count": null,
      "outputs": []
    },
    {
      "cell_type": "code",
      "source": [
        "python_students\n"
      ],
      "metadata": {
        "colab": {
          "base_uri": "https://localhost:8080/"
        },
        "id": "I06hnSA5AfL9",
        "outputId": "fe8f8b11-59e5-4b43-d949-352a9353eb33"
      },
      "execution_count": null,
      "outputs": [
        {
          "output_type": "execute_result",
          "data": {
            "text/plain": [
              "['Anatoly',\n",
              " 'Ivan',\n",
              " 'Fedor',\n",
              " 'Masha',\n",
              " 'Masha',\n",
              " 'Masha',\n",
              " 'Masha',\n",
              " 'Igor',\n",
              " 'Daniil']"
            ]
          },
          "metadata": {},
          "execution_count": 37
        }
      ]
    },
    {
      "cell_type": "code",
      "source": [
        "python_students.extend(sql_students)\n"
      ],
      "metadata": {
        "id": "a8jbN9ytAv5T"
      },
      "execution_count": null,
      "outputs": []
    },
    {
      "cell_type": "code",
      "source": [
        "python_students"
      ],
      "metadata": {
        "colab": {
          "base_uri": "https://localhost:8080/"
        },
        "id": "Q7aWKEQWBTs6",
        "outputId": "54a0d06c-2afe-43d5-fc44-e237e2725f4a"
      },
      "execution_count": null,
      "outputs": [
        {
          "output_type": "execute_result",
          "data": {
            "text/plain": [
              "['Anatoly',\n",
              " 'Ivan',\n",
              " 'Fedor',\n",
              " 'Masha',\n",
              " 'Masha',\n",
              " 'Masha',\n",
              " 'Masha',\n",
              " 'Igor',\n",
              " 'Daniil',\n",
              " 'Beslan',\n",
              " 'Ivan',\n",
              " 'Oksana']"
            ]
          },
          "metadata": {},
          "execution_count": 39
        }
      ]
    },
    {
      "cell_type": "markdown",
      "source": [
        "**.insert**"
      ],
      "metadata": {
        "id": "P2_4el5DzTCX"
      }
    },
    {
      "cell_type": "code",
      "source": [
        "python_students.insert(0,'Vera') # куда добавить, что добавить\n",
        "print(python_students)"
      ],
      "metadata": {
        "colab": {
          "base_uri": "https://localhost:8080/"
        },
        "id": "GNRTrpQFBxzs",
        "outputId": "50b9acaf-f44e-4773-fa94-d50b669ffb34"
      },
      "execution_count": null,
      "outputs": [
        {
          "output_type": "stream",
          "name": "stdout",
          "text": [
            "['Vera', 'Anatoly', 'Ivan', 'Fedor', 'Masha', 'Masha', 'Masha', 'Masha', 'Igor', 'Daniil', 'Beslan', 'Ivan', 'Oksana']\n"
          ]
        }
      ]
    },
    {
      "cell_type": "code",
      "source": [
        "python_students.insert(0, ['Vera','Fedor'])# куда добавить, что добавить\n"
      ],
      "metadata": {
        "id": "WovGie95DRMt"
      },
      "execution_count": null,
      "outputs": []
    },
    {
      "cell_type": "code",
      "source": [
        "python_students\n"
      ],
      "metadata": {
        "colab": {
          "base_uri": "https://localhost:8080/"
        },
        "id": "QZ8RgoLnDrKE",
        "outputId": "8002611d-3902-41f0-8c02-11995d1aa266"
      },
      "execution_count": null,
      "outputs": [
        {
          "output_type": "execute_result",
          "data": {
            "text/plain": [
              "['Anatoly', 'Ivan', 'Fedor']"
            ]
          },
          "metadata": {},
          "execution_count": 17
        }
      ]
    },
    {
      "cell_type": "markdown",
      "source": [
        "**.pop and .remove**"
      ],
      "metadata": {
        "id": "NikZXp_SziAs"
      }
    },
    {
      "cell_type": "code",
      "source": [
        "python_students.pop(0)# удаляет элемент и выводит его на печать\n"
      ],
      "metadata": {
        "colab": {
          "base_uri": "https://localhost:8080/",
          "height": 36
        },
        "id": "EYiPm_SUD7rc",
        "outputId": "316c9d40-793d-48ba-c503-90bddf115465"
      },
      "execution_count": null,
      "outputs": [
        {
          "output_type": "execute_result",
          "data": {
            "text/plain": [
              "'Vera'"
            ],
            "application/vnd.google.colaboratory.intrinsic+json": {
              "type": "string"
            }
          },
          "metadata": {},
          "execution_count": 41
        }
      ]
    },
    {
      "cell_type": "code",
      "source": [
        "python_students.remove('Ivan')# удаляет элемент по названию, только первый какой найдет, остальные остануться\n"
      ],
      "metadata": {
        "id": "inUuUazPEc3Q"
      },
      "execution_count": null,
      "outputs": []
    },
    {
      "cell_type": "code",
      "source": [
        "python_students\n"
      ],
      "metadata": {
        "colab": {
          "base_uri": "https://localhost:8080/"
        },
        "id": "8AzyQJvcEuXx",
        "outputId": "04cb0089-61d8-411d-b544-a0fe75e75b05"
      },
      "execution_count": null,
      "outputs": [
        {
          "output_type": "execute_result",
          "data": {
            "text/plain": [
              "['Anatoly',\n",
              " 'Fedor',\n",
              " 'Masha',\n",
              " 'Masha',\n",
              " 'Masha',\n",
              " 'Masha',\n",
              " 'Igor',\n",
              " 'Daniil',\n",
              " 'Beslan',\n",
              " 'Oksana']"
            ]
          },
          "metadata": {},
          "execution_count": 45
        }
      ]
    },
    {
      "cell_type": "code",
      "source": [
        "fruits = ['apple', 'banana', 'orange']\n",
        "removed_fruit = fruits.pop()  # удалит 'orange' из списка и вернет его\n",
        "print(fruits)  # ['apple', 'banana']\n",
        "print(removed_fruit)  # 'orange'"
      ],
      "metadata": {
        "colab": {
          "base_uri": "https://localhost:8080/"
        },
        "id": "Y6EXj4BKM9Vd",
        "outputId": "c292daca-520a-44e0-dbb1-3191caab30a0"
      },
      "execution_count": null,
      "outputs": [
        {
          "output_type": "stream",
          "name": "stdout",
          "text": [
            "['apple', 'banana']\n",
            "orange\n"
          ]
        }
      ]
    },
    {
      "cell_type": "code",
      "source": [
        "fruits = ['apple', 'banana', 'orange']\n",
        "removed_fruit = fruits.pop(1)  # удалит 'banana' из списка и вернет его\n",
        "print(fruits)  # ['apple', 'orange']\n",
        "print(removed_fruit)  # 'banana'"
      ],
      "metadata": {
        "colab": {
          "base_uri": "https://localhost:8080/"
        },
        "id": "Dx9TAwwkNEjo",
        "outputId": "865a5a7c-09c6-4e09-c045-665c311c4a41"
      },
      "execution_count": null,
      "outputs": [
        {
          "output_type": "stream",
          "name": "stdout",
          "text": [
            "['apple', 'orange']\n",
            "banana\n"
          ]
        }
      ]
    },
    {
      "cell_type": "code",
      "source": [
        "fruits = ['apple', 'banana', 'orange']\n",
        "fruits.remove('banana')  # удалит 'banana' из списка\n",
        "print(fruits)  # ['apple', 'orange']"
      ],
      "metadata": {
        "colab": {
          "base_uri": "https://localhost:8080/"
        },
        "id": "xf1g0e9RNRgo",
        "outputId": "109c64a6-44b6-44b3-b47f-e4842fd9c505"
      },
      "execution_count": null,
      "outputs": [
        {
          "output_type": "stream",
          "name": "stdout",
          "text": [
            "['apple', 'orange']\n"
          ]
        }
      ]
    },
    {
      "cell_type": "code",
      "source": [
        "# Метод remove(), с другой стороны, удаляет первый найденный элемент с\n",
        "#указанным значением в списке."
      ],
      "metadata": {
        "id": "vOoXCIqvNY1G"
      },
      "execution_count": null,
      "outputs": []
    },
    {
      "cell_type": "markdown",
      "source": [
        "## **Множества**"
      ],
      "metadata": {
        "id": "dn_eKLZxOYvk"
      }
    },
    {
      "cell_type": "code",
      "source": [
        "my_set = {1, 1, 2, 3}"
      ],
      "metadata": {
        "id": "DQMq9WjOOkr4"
      },
      "execution_count": null,
      "outputs": []
    },
    {
      "cell_type": "code",
      "source": [
        "students_set = set(python_students)"
      ],
      "metadata": {
        "id": "xrhIlOvsO01m"
      },
      "execution_count": null,
      "outputs": []
    },
    {
      "cell_type": "code",
      "source": [
        "print(my_set) # set это такая коробка в питоне, где хранятся уникальные элементы\n",
        "# не могут элементы повторяться"
      ],
      "metadata": {
        "colab": {
          "base_uri": "https://localhost:8080/"
        },
        "id": "VsDq5QGmLfMR",
        "outputId": "a7cc5e6e-a530-48c1-b5ff-e5450fb88af4"
      },
      "execution_count": null,
      "outputs": [
        {
          "output_type": "stream",
          "name": "stdout",
          "text": [
            "{1, 2, 3}\n"
          ]
        }
      ]
    },
    {
      "cell_type": "code",
      "source": [
        "print(students_set)"
      ],
      "metadata": {
        "colab": {
          "base_uri": "https://localhost:8080/"
        },
        "id": "63mqKh3MMQXQ",
        "outputId": "7a1497b3-8d1a-4b57-8e42-feb57a2c9137"
      },
      "execution_count": null,
      "outputs": [
        {
          "output_type": "stream",
          "name": "stdout",
          "text": [
            "{'Anatoly', 'Igor', 'Beslan', 'Daniil', 'Oksana', 'Masha', 'Fedor'}\n"
          ]
        }
      ]
    },
    {
      "cell_type": "code",
      "source": [
        "sql_students_set = set(sql_students)"
      ],
      "metadata": {
        "id": "xa3dulxOuUU2"
      },
      "execution_count": null,
      "outputs": []
    },
    {
      "cell_type": "markdown",
      "source": [
        "Для множества  не применимы индексы."
      ],
      "metadata": {
        "id": "ThKEzdnfMddK"
      }
    },
    {
      "cell_type": "code",
      "source": [
        "students_set.difference(sql_students_set) # есть в 1м , но нет во 2м"
      ],
      "metadata": {
        "colab": {
          "base_uri": "https://localhost:8080/"
        },
        "id": "coWCL7BNNIcG",
        "outputId": "f93a4979-4260-4e1c-c828-057c3f9caaf6"
      },
      "execution_count": null,
      "outputs": [
        {
          "output_type": "execute_result",
          "data": {
            "text/plain": [
              "{'Anatoly', 'Daniil', 'Fedor', 'Igor', 'Masha'}"
            ]
          },
          "metadata": {},
          "execution_count": 53
        }
      ]
    },
    {
      "cell_type": "code",
      "source": [
        "students_set.intersection(sql_students_set) # нашли элементы, которые есть в обоих множествах\n"
      ],
      "metadata": {
        "colab": {
          "base_uri": "https://localhost:8080/"
        },
        "id": "XCeLRtSEw_Si",
        "outputId": "add7e049-c888-433c-88c4-cba1b1e6a340"
      },
      "execution_count": null,
      "outputs": [
        {
          "output_type": "execute_result",
          "data": {
            "text/plain": [
              "{'Beslan', 'Oksana'}"
            ]
          },
          "metadata": {},
          "execution_count": 54
        }
      ]
    },
    {
      "cell_type": "markdown",
      "source": [
        "## **Методы списков ++**"
      ],
      "metadata": {
        "id": "myGfyiE3z_Cs"
      }
    },
    {
      "cell_type": "code",
      "source": [
        "# append() — добавляет новый элемент в список.\n",
        "my_list = [1, 2, 3]\n",
        "my_list.append(4)\n",
        "print(my_list) # [1, 2, 3, 4]"
      ],
      "metadata": {
        "colab": {
          "base_uri": "https://localhost:8080/"
        },
        "id": "CQibNl_L0Iqq",
        "outputId": "2cb477ee-8de6-4b08-b6e0-7d6a0b6505e0"
      },
      "execution_count": null,
      "outputs": [
        {
          "output_type": "stream",
          "name": "stdout",
          "text": [
            "[1, 2, 3, 4]\n"
          ]
        }
      ]
    },
    {
      "cell_type": "code",
      "source": [
        "# clear() — удаляет все элементы списка:\n",
        "my_list = [1, 2, 3]\n",
        "my_list.clear()\n",
        "print(my_list) # []"
      ],
      "metadata": {
        "id": "qHkEEegh0RPX"
      },
      "execution_count": null,
      "outputs": []
    },
    {
      "cell_type": "code",
      "source": [
        "# copy() — возвращает копию списка:\n",
        "my_list = [1, 2, 3]\n",
        "new_list = my_list.copy()\n",
        "print(new_list) # [1, 2, 3]"
      ],
      "metadata": {
        "id": "jCuNrhd70fht"
      },
      "execution_count": null,
      "outputs": []
    },
    {
      "cell_type": "code",
      "source": [
        "# count(item)  — возвращает количество элементов item в списке:\n",
        "my_list = [1, 2, 2, 3, 2]\n",
        "count = my_list.count(2)\n",
        "print(count) # 3"
      ],
      "metadata": {
        "id": "qpk5b6BK0oE7"
      },
      "execution_count": null,
      "outputs": []
    },
    {
      "cell_type": "code",
      "source": [
        "# extend(iterable) — добавляет элементы из другого списка в конец списка:\n",
        "my_list = [1, 2, 3]\n",
        "my_list.extend([4, 5])\n",
        "print(my_list) # [1, 2, 3, 4, 5]"
      ],
      "metadata": {
        "id": "srPFtRFg00te"
      },
      "execution_count": null,
      "outputs": []
    },
    {
      "cell_type": "code",
      "source": [
        "# index(item, start, end)  — возвращает индекс первого элемента, равного item, в диапазоне от start до end:\n",
        "my_list = [1, 2, 2, 3, 2]\n",
        "index = my_list.index(2, 2, 5)\n",
        "print(index) # 2"
      ],
      "metadata": {
        "colab": {
          "base_uri": "https://localhost:8080/"
        },
        "id": "gD46DwvQ0_IF",
        "outputId": "441e73c9-61ad-4059-d56b-3f933c7ecb47"
      },
      "execution_count": null,
      "outputs": [
        {
          "output_type": "stream",
          "name": "stdout",
          "text": [
            "2\n"
          ]
        }
      ]
    },
    {
      "cell_type": "code",
      "source": [
        "# insert(index, item)  — добавляет элемент item на позицию index в списке:\n",
        "my_list = [1, 2, 3]\n",
        "my_list.insert(1, 4)\n",
        "print(my_list) # [1, 4, 2, 3]"
      ],
      "metadata": {
        "id": "Ta5M8_2-1V00"
      },
      "execution_count": null,
      "outputs": []
    },
    {
      "cell_type": "code",
      "source": [
        "# pop(index) — удаляет и возвращает элемент на позиции index в списке:\n",
        "my_list = [1, 2, 3]\n",
        "removed_item = my_list.pop(1)\n",
        "print(my_list) # [1, 3]\n",
        "print(removed_item) # 2"
      ],
      "metadata": {
        "id": "YGFkIEnI1kDL"
      },
      "execution_count": null,
      "outputs": []
    },
    {
      "cell_type": "code",
      "source": [
        "# remove(item) — удаляет первый элемент, равный item, из списка:\n",
        "my_list = [1, 2, 3, 2]\n",
        "my_list.remove(2)\n",
        "print(my_list) # [1, 3, 2]"
      ],
      "metadata": {
        "id": "0NWuu8Xg1yX3"
      },
      "execution_count": null,
      "outputs": []
    },
    {
      "cell_type": "code",
      "source": [
        "# reverse()  — переворачивает порядок следования элементов в списке:\n",
        "my_list = [1, 2, 3]\n",
        "my_list.reverse()\n",
        "print(my_list) # [3, 2, 1]"
      ],
      "metadata": {
        "id": "j6qzoMZ014Qx"
      },
      "execution_count": null,
      "outputs": []
    },
    {
      "cell_type": "code",
      "source": [
        "# sort(key, reverse) — сортирует элементы в списке:\n",
        "my_list = [3, 1, 2]\n",
        "my_list.sort()\n",
        "print(my_list) # [1, 2, 3]\n",
        "my_list.sort(reverse=True)\n",
        "print(my_list) # [3, 2, 1]"
      ],
      "metadata": {
        "colab": {
          "base_uri": "https://localhost:8080/"
        },
        "id": "CDcEfokq2Ed5",
        "outputId": "e9e24234-648b-4f6c-f885-18b68e31ee07"
      },
      "execution_count": null,
      "outputs": [
        {
          "output_type": "stream",
          "name": "stdout",
          "text": [
            "[1, 2, 3]\n",
            "[3, 2, 1]\n"
          ]
        }
      ]
    },
    {
      "cell_type": "markdown",
      "source": [
        "## **Методы множеств**"
      ],
      "metadata": {
        "id": "VR7edHfu3FFU"
      }
    },
    {
      "cell_type": "code",
      "source": [
        "# add(element) — добавляет элемент в множество.\n",
        "fruits = {\"apple\", \"banana\", \"cherry\"}\n",
        "fruits.add(\"orange\")\n",
        "print(fruits)  # выведет {'banana', 'cherry', 'orange', 'apple'}"
      ],
      "metadata": {
        "id": "_jpPv1Tg3JQH"
      },
      "execution_count": null,
      "outputs": []
    },
    {
      "cell_type": "code",
      "source": [
        "# union() — объединяет два множества\n",
        "a = {1, 2, 3}\n",
        "b = {3, 4, 5}\n",
        "\n",
        "c = a.union(b)\n",
        "print(c)  # {1, 2, 3, 4, 5}"
      ],
      "metadata": {
        "colab": {
          "base_uri": "https://localhost:8080/"
        },
        "id": "Ig7CJvou3Wah",
        "outputId": "1e80d7d4-5f32-49e2-990c-1cc392333787"
      },
      "execution_count": null,
      "outputs": [
        {
          "output_type": "stream",
          "name": "stdout",
          "text": [
            "{1, 2, 3, 4, 5}\n"
          ]
        }
      ]
    },
    {
      "cell_type": "code",
      "source": [
        "# clear() — удаляет все элементы из множества.\n",
        "fruits = {\"apple\", \"banana\", \"cherry\"}\n",
        "fruits.clear()\n",
        "print(fruits)  # выведет set()"
      ],
      "metadata": {
        "id": "qpCasixv4vcK"
      },
      "execution_count": null,
      "outputs": []
    },
    {
      "cell_type": "code",
      "source": [
        "# copy() — создает копию множества.\n",
        "fruits = {\"apple\", \"banana\", \"cherry\"}\n",
        "new_fruits = fruits.copy()\n",
        "print(new_fruits)  # выведет {'banana', 'cherry', 'apple'}"
      ],
      "metadata": {
        "id": "A83MKUp140O4"
      },
      "execution_count": null,
      "outputs": []
    },
    {
      "cell_type": "code",
      "source": [
        "# difference() — возвращает разность между двумя множествами.\n",
        "set1 = {1, 2, 3, 4, 5}\n",
        "set2 = {4, 5, 6, 7, 8}\n",
        "diff_set1_set2 = set1.difference(set2)\n",
        "print(diff_set1_set2)  # выведет {1, 2, 3}"
      ],
      "metadata": {
        "id": "N4ezR3tg5KiD"
      },
      "execution_count": null,
      "outputs": []
    },
    {
      "cell_type": "code",
      "source": [
        "# discard(element) — удаляет элемент из множества, если он присутствует. Если элемент отсутствует, то никаких ошибок не возникает. Просто ничего не происходит.\n",
        "fruits = {\"apple\", \"banana\", \"cherry\"}\n",
        "fruits.discard(\"banana\")\n",
        "print(fruits)  # выведет {'cherry', 'apple'}\n",
        "\n",
        "fruits = {\"apple\", \"banana\", \"cherry\"}\n",
        "fruits.discard(\"aaaaaaaa\")\n",
        "print(fruits)  # выведет {'cherry', 'banana', 'apple'}"
      ],
      "metadata": {
        "colab": {
          "base_uri": "https://localhost:8080/"
        },
        "id": "oTJL9PNa5TOT",
        "outputId": "0a625c1b-9547-4358-8db4-30c9f91b8336"
      },
      "execution_count": null,
      "outputs": [
        {
          "output_type": "stream",
          "name": "stdout",
          "text": [
            "{'apple', 'cherry'}\n",
            "{'apple', 'banana', 'cherry'}\n"
          ]
        }
      ]
    },
    {
      "cell_type": "code",
      "source": [
        "# remove(element) - Этот метод удаляет элемент из множества, если он\n",
        "# присутствует. Если элемент отсутствует, то вызывается ошибка KeyError.\n",
        "my_set = {1, 2, 3}\n",
        "my_set.remove(2)\n",
        "print(my_set)  # Output: {1, 3}\n",
        "my_set.remove(5)  # Вызовет ошибку KeyError, так как элемент 5 отсутствует\n"
      ],
      "metadata": {
        "id": "epSvgm4d5fFW"
      },
      "execution_count": null,
      "outputs": []
    },
    {
      "cell_type": "code",
      "source": [
        "# intersection() — возвращает пересечение двух множеств.\n",
        "set1 = {1, 2, 3, 4, 5}\n",
        "set2 = {4, 5, 6, 7, 8}\n",
        "intersection_set = set1.intersection(set2)\n",
        "print(intersection_set)  # выведет {4, 5}"
      ],
      "metadata": {
        "id": "BhhoaWBX5rsn"
      },
      "execution_count": null,
      "outputs": []
    },
    {
      "cell_type": "code",
      "source": [
        "# isdisjoint() — возвращает True, если два множества не имеют общих элементов.\n",
        "set1 = {1, 2, 3}\n",
        "set2 = {4, 5, 6}\n",
        "disjoint_sets = set1.isdisjoint(set2)\n",
        "print(disjoint_sets)  # выведет True"
      ],
      "metadata": {
        "colab": {
          "base_uri": "https://localhost:8080/"
        },
        "id": "6J8_ePCo52x_",
        "outputId": "a2597b56-e163-4d98-e2ea-be00aca30f6d"
      },
      "execution_count": null,
      "outputs": [
        {
          "output_type": "stream",
          "name": "stdout",
          "text": [
            "True\n"
          ]
        }
      ]
    },
    {
      "cell_type": "code",
      "source": [
        "# issubset() — возвращает True, если одно множество является подмножеством друг\n",
        "set1 = {1, 2, 3, 4, 5}\n",
        "set2 = {1, 2, 3}\n",
        "\n",
        "result = set2.issubset(set1)\n",
        "print(result) # выведет True"
      ],
      "metadata": {
        "colab": {
          "base_uri": "https://localhost:8080/"
        },
        "id": "vB4KzE5Gwj1t",
        "outputId": "b6ba2c7a-2c8f-49b7-907b-2e3e2917aad1"
      },
      "execution_count": null,
      "outputs": [
        {
          "output_type": "stream",
          "name": "stdout",
          "text": [
            "True\n"
          ]
        }
      ]
    },
    {
      "cell_type": "code",
      "source": [],
      "metadata": {
        "id": "PuMrQTCDO2b2"
      },
      "execution_count": null,
      "outputs": []
    },
    {
      "cell_type": "markdown",
      "source": [
        "# Полезные функции"
      ],
      "metadata": {
        "id": "aHYRUhT7xcT8"
      }
    },
    {
      "cell_type": "markdown",
      "source": [
        "**len** - функция, которая возвращает количество элементов в последовательности:"
      ],
      "metadata": {
        "id": "Vz9cCW_630aR"
      }
    },
    {
      "cell_type": "code",
      "source": [
        "my_list = [1, 2, 3, 4, 5]\n",
        "print(len(my_list)) # выведет 5\n",
        "my_set = {1, 2, 3, 4, 5}\n",
        "print(len(my_set)) # выведет 5"
      ],
      "metadata": {
        "colab": {
          "base_uri": "https://localhost:8080/"
        },
        "id": "KdPZYHw24GCB",
        "outputId": "cedb082d-cc4e-473d-c77b-07894f88a902"
      },
      "execution_count": null,
      "outputs": [
        {
          "output_type": "stream",
          "name": "stdout",
          "text": [
            "5\n",
            "5\n"
          ]
        }
      ]
    },
    {
      "cell_type": "markdown",
      "source": [
        "**max** - функция, которая возвращает максимальное значение из последовательности. Например:"
      ],
      "metadata": {
        "id": "40YpNCzL2f4C"
      }
    },
    {
      "cell_type": "code",
      "source": [
        "my_list = [5, 2, 8, 1, 9]\n",
        "print(max(my_list)) # выведет 9\n",
        "my_set = [5, 2, 8, 1, 9]\n",
        "print(max(my_set)) # выведет 9"
      ],
      "metadata": {
        "colab": {
          "base_uri": "https://localhost:8080/"
        },
        "id": "dPuyfbr74dWp",
        "outputId": "5ce527f3-de33-4bf8-9e78-07d4b029a3d6"
      },
      "execution_count": null,
      "outputs": [
        {
          "output_type": "stream",
          "name": "stdout",
          "text": [
            "9\n",
            "9\n"
          ]
        }
      ]
    },
    {
      "cell_type": "markdown",
      "source": [
        "**min** - функция, которая возвращает минимальное значение из последовательности. Например:"
      ],
      "metadata": {
        "id": "FrGNRopw5P7A"
      }
    },
    {
      "cell_type": "code",
      "source": [
        "my_list = [5, 2, 8, 1, 9]\n",
        "print(min(my_list)) # выведет 1\n",
        "my_set = [5, 2, 8, 1, 9]\n",
        "print(min(my_set)) # выведет 1"
      ],
      "metadata": {
        "colab": {
          "base_uri": "https://localhost:8080/"
        },
        "outputId": "1507981d-867b-408b-b47f-b36f5338de10",
        "id": "GiBoT52V54jQ"
      },
      "execution_count": null,
      "outputs": [
        {
          "output_type": "stream",
          "name": "stdout",
          "text": [
            "1\n",
            "1\n"
          ]
        }
      ]
    },
    {
      "cell_type": "markdown",
      "source": [
        "**sorted** — функция, которая сортирует последовательность. Она может принимать\n",
        "параметр **reverse=True**, чтобы отсортировать последовательность в обратном порядке (по убыванию). Например:"
      ],
      "metadata": {
        "id": "-9k87OkX2DAj"
      }
    },
    {
      "cell_type": "code",
      "source": [
        "\n",
        "my_list = [5, 2, 8, 1, 9]\n",
        "sorted_list = sorted(my_list)\n",
        "print(sorted_list)  # выведет [1, 2, 5, 8, 9]\n",
        "sorted_list_descending = sorted(my_list, reverse=True)\n",
        "print(sorted_list_descending)  # выведет [9, 8, 5, 2, 1]\n",
        "\n",
        "# А вот если отсортировать множество, то получится список!\n",
        "\n",
        "my_set = {1, 1, 2, 2}\n",
        "print(sorted(my_set)) # выведет [1, 2]"
      ],
      "metadata": {
        "colab": {
          "base_uri": "https://localhost:8080/"
        },
        "id": "CO3gpoqlxPHR",
        "outputId": "8af7bff3-78c8-4138-e027-5216a13fc2b3"
      },
      "execution_count": null,
      "outputs": [
        {
          "output_type": "stream",
          "name": "stdout",
          "text": [
            "[1, 2, 5, 8, 9]\n",
            "[9, 8, 5, 2, 1]\n",
            "[1, 2]\n"
          ]
        }
      ]
    },
    {
      "cell_type": "code",
      "source": [
        "# my_list[0] - первый элемент списка\n",
        "# my_list[-1] - последний элемент списка\n",
        "\n"
      ],
      "metadata": {
        "id": "qPAWFbjRO9Qp"
      },
      "execution_count": null,
      "outputs": []
    },
    {
      "cell_type": "markdown",
      "source": [
        "Так же мы можем сделать **срезы**:"
      ],
      "metadata": {
        "id": "kfOi1kI-8Q1f"
      }
    },
    {
      "cell_type": "code",
      "source": [
        "# my_list[START:STOP:STEP] - срез от START до STOP с шагом STEP"
      ],
      "metadata": {
        "id": "MoEgyoDR8YTA"
      },
      "execution_count": null,
      "outputs": []
    },
    {
      "cell_type": "markdown",
      "source": [
        "## Task_1:\n",
        "\n"
      ],
      "metadata": {
        "id": "oYAl74MYEpBp"
      }
    },
    {
      "cell_type": "markdown",
      "source": [
        "В **my_list** сохранен список как минимум с двумя элементами.\n",
        "\n",
        "В переменную **first_item** сохраните первый элемент списка.\n",
        "\n",
        "В переменную **last_item** сохраните последний элемент списка.\n",
        "\n",
        "В переменную **reversed_list** сохраните все элементы списка **my_list** в обратном порядке.\n",
        "\n",
        "В переменную **even_items** сохраните все элементы **my_list** с четными индексами."
      ],
      "metadata": {
        "id": "W3KwjREo72DQ"
      }
    },
    {
      "cell_type": "code",
      "source": [
        "my_list = ['Anatoly', 'Fedor', 1, 2, 3]\n",
        "first_item = my_list[0]\n",
        "last_item = my_list[-1]\n",
        "reversed_list = my_list[::-1]\n",
        "even_items = my_list[::2]\n",
        "print(first_item)\n",
        "print(last_item)\n",
        "print(reversed_list)\n",
        "print(even_items)"
      ],
      "metadata": {
        "colab": {
          "base_uri": "https://localhost:8080/"
        },
        "id": "aG1Uhux3Eond",
        "outputId": "6a90201f-73a7-42fb-deb9-81f98b477850"
      },
      "execution_count": null,
      "outputs": [
        {
          "output_type": "stream",
          "name": "stdout",
          "text": [
            "Anatoly\n",
            "3\n",
            "[3, 2, 1, 'Fedor', 'Anatoly']\n",
            "['Anatoly', 1, 3]\n"
          ]
        }
      ]
    },
    {
      "cell_type": "markdown",
      "source": [
        "Давайте подробнее остановимся на функции **range()**."
      ],
      "metadata": {
        "id": "v-VAxbWICNa1"
      }
    },
    {
      "cell_type": "code",
      "source": [
        "# range(start, stop, step)\n",
        "# start - с этого числа начнем, по умолчанию 0.\n",
        "# stop - конец последовательности, но само число stop не включено в результат.\n",
        "# step - шаг перехода между числами, по умолчанию 1."
      ],
      "metadata": {
        "id": "aL-UJZ--CZT-"
      },
      "execution_count": null,
      "outputs": []
    },
    {
      "cell_type": "markdown",
      "source": [
        "После выполнения функция возвращает специальный тип данных - range. Для более удобной работы с последовательностью можно перевести range в список."
      ],
      "metadata": {
        "id": "_tGBerrnDZA3"
      }
    },
    {
      "cell_type": "code",
      "source": [
        "list(range(5))"
      ],
      "metadata": {
        "colab": {
          "base_uri": "https://localhost:8080/"
        },
        "id": "MsXDvAdqDzyM",
        "outputId": "918c39b8-41e8-464c-8951-0617bfd07e85"
      },
      "execution_count": null,
      "outputs": [
        {
          "output_type": "execute_result",
          "data": {
            "text/plain": [
              "[0, 1, 2, 3, 4]"
            ]
          },
          "metadata": {},
          "execution_count": 64
        }
      ]
    },
    {
      "cell_type": "code",
      "source": [
        "list(range(2, 10, 2))"
      ],
      "metadata": {
        "colab": {
          "base_uri": "https://localhost:8080/"
        },
        "id": "qBlz14emD68T",
        "outputId": "8af43b17-b689-44a4-a33a-acd3477901c5"
      },
      "execution_count": null,
      "outputs": [
        {
          "output_type": "execute_result",
          "data": {
            "text/plain": [
              "[2, 4, 6, 8]"
            ]
          },
          "metadata": {},
          "execution_count": 65
        }
      ]
    },
    {
      "cell_type": "code",
      "source": [
        "list(range(10, 1, -1))"
      ],
      "metadata": {
        "colab": {
          "base_uri": "https://localhost:8080/"
        },
        "id": "-KfdaM-FEBVl",
        "outputId": "33dd38c4-4650-45aa-eb4e-6c1e1f10f7ee"
      },
      "execution_count": null,
      "outputs": [
        {
          "output_type": "execute_result",
          "data": {
            "text/plain": [
              "[10, 9, 8, 7, 6, 5, 4, 3, 2]"
            ]
          },
          "metadata": {},
          "execution_count": 66
        }
      ]
    },
    {
      "cell_type": "markdown",
      "source": [
        "## Task_2\n",
        "\n",
        "\n",
        "\n"
      ],
      "metadata": {
        "id": "DMShckzmFhY7"
      }
    },
    {
      "cell_type": "markdown",
      "source": [
        "В переменную **var_1** сохраните список с числами от -100 до 100 включительно с шагом в 1.\n",
        "\n",
        "В переменную **var_2** сохраните список с числами от 250 до 0 включительно с шагом в 2.\n",
        "\n",
        "В переменную **var_3** сохраните список со всеми нечетными числами от 100 до 200."
      ],
      "metadata": {
        "id": "eI_3BhFp9akm"
      }
    },
    {
      "cell_type": "code",
      "source": [
        "var_1 = list(range(-100, 101, 1)) # от -100 до 100 с шагом 1\n",
        "var_2 = list(range(250, -1, -2))\n",
        "var_3 = list(range(101, 200, 2))\n",
        "print(var_1)\n",
        "print (var_2)\n",
        "print(var_3)\n"
      ],
      "metadata": {
        "colab": {
          "base_uri": "https://localhost:8080/"
        },
        "id": "VkjwIRmFFkaX",
        "outputId": "0db7816c-708f-4a99-cf82-a6575bad2152"
      },
      "execution_count": null,
      "outputs": [
        {
          "output_type": "stream",
          "name": "stdout",
          "text": [
            "[-100, -99, -98, -97, -96, -95, -94, -93, -92, -91, -90, -89, -88, -87, -86, -85, -84, -83, -82, -81, -80, -79, -78, -77, -76, -75, -74, -73, -72, -71, -70, -69, -68, -67, -66, -65, -64, -63, -62, -61, -60, -59, -58, -57, -56, -55, -54, -53, -52, -51, -50, -49, -48, -47, -46, -45, -44, -43, -42, -41, -40, -39, -38, -37, -36, -35, -34, -33, -32, -31, -30, -29, -28, -27, -26, -25, -24, -23, -22, -21, -20, -19, -18, -17, -16, -15, -14, -13, -12, -11, -10, -9, -8, -7, -6, -5, -4, -3, -2, -1, 0, 1, 2, 3, 4, 5, 6, 7, 8, 9, 10, 11, 12, 13, 14, 15, 16, 17, 18, 19, 20, 21, 22, 23, 24, 25, 26, 27, 28, 29, 30, 31, 32, 33, 34, 35, 36, 37, 38, 39, 40, 41, 42, 43, 44, 45, 46, 47, 48, 49, 50, 51, 52, 53, 54, 55, 56, 57, 58, 59, 60, 61, 62, 63, 64, 65, 66, 67, 68, 69, 70, 71, 72, 73, 74, 75, 76, 77, 78, 79, 80, 81, 82, 83, 84, 85, 86, 87, 88, 89, 90, 91, 92, 93, 94, 95, 96, 97, 98, 99, 100]\n",
            "[250, 248, 246, 244, 242, 240, 238, 236, 234, 232, 230, 228, 226, 224, 222, 220, 218, 216, 214, 212, 210, 208, 206, 204, 202, 200, 198, 196, 194, 192, 190, 188, 186, 184, 182, 180, 178, 176, 174, 172, 170, 168, 166, 164, 162, 160, 158, 156, 154, 152, 150, 148, 146, 144, 142, 140, 138, 136, 134, 132, 130, 128, 126, 124, 122, 120, 118, 116, 114, 112, 110, 108, 106, 104, 102, 100, 98, 96, 94, 92, 90, 88, 86, 84, 82, 80, 78, 76, 74, 72, 70, 68, 66, 64, 62, 60, 58, 56, 54, 52, 50, 48, 46, 44, 42, 40, 38, 36, 34, 32, 30, 28, 26, 24, 22, 20, 18, 16, 14, 12, 10, 8, 6, 4, 2, 0]\n",
            "[101, 103, 105, 107, 109, 111, 113, 115, 117, 119, 121, 123, 125, 127, 129, 131, 133, 135, 137, 139, 141, 143, 145, 147, 149, 151, 153, 155, 157, 159, 161, 163, 165, 167, 169, 171, 173, 175, 177, 179, 181, 183, 185, 187, 189, 191, 193, 195, 197, 199]\n"
          ]
        }
      ]
    },
    {
      "cell_type": "markdown",
      "source": [
        "## Task_3\n"
      ],
      "metadata": {
        "id": "vnvYOoAUGC4L"
      }
    },
    {
      "cell_type": "markdown",
      "source": [
        "В переменных  **a** и **b** хранятся числа — начало и конец диапазона. Напишите программу, которая вернет сумму всех чисел из этого диапазона. Сохраните значение в переменную result."
      ],
      "metadata": {
        "id": "tJBkeDivF9Qt"
      }
    },
    {
      "cell_type": "code",
      "source": [
        "a = int(input())\n",
        "b = int(input())\n",
        "result = 0\n",
        "for num in range(a, b+1):\n",
        "    result += num\n",
        "print(result)\n",
        "# 1\n",
        "# 3"
      ],
      "metadata": {
        "colab": {
          "base_uri": "https://localhost:8080/"
        },
        "id": "qOyRBl7fGIJL",
        "outputId": "3829f848-db22-42f9-dc59-34ce33c54787"
      },
      "execution_count": null,
      "outputs": [
        {
          "output_type": "stream",
          "name": "stdout",
          "text": [
            "1\n",
            "3\n",
            "6\n"
          ]
        }
      ]
    },
    {
      "cell_type": "code",
      "source": [
        "result = sum(range(a, b + 1))\n",
        "print(result)"
      ],
      "metadata": {
        "colab": {
          "base_uri": "https://localhost:8080/"
        },
        "id": "5jMys3JyGnMo",
        "outputId": "4ce4b504-414e-42af-84b9-79d29e603d3e"
      },
      "execution_count": null,
      "outputs": [
        {
          "output_type": "stream",
          "name": "stdout",
          "text": [
            "6\n"
          ]
        }
      ]
    },
    {
      "cell_type": "markdown",
      "source": [
        "## Task_4\n"
      ],
      "metadata": {
        "id": "QIafwmfkI2dL"
      }
    },
    {
      "cell_type": "markdown",
      "source": [
        "Давайте потренируемся использовать различные **методы** списков. В переменной **my_list** сохранен не пустой список, в котором есть число 11.\n",
        "\n",
        "Найдите первый индекс числа 11 в **my_list**, сохраните индекс в переменную **eleven_index**.  \n",
        "\n",
        "В переменную **ten_count** сохраните, сколько раз в списке **my_list** встречается число 10."
      ],
      "metadata": {
        "id": "0ae5FfAjJZX5"
      }
    },
    {
      "cell_type": "code",
      "source": [
        "my_list = [1, 10, 0, 10, 11]\n",
        "eleven_index = my_list.index(11)\n",
        "ten_count = my_list.count(10)\n",
        "print(eleven_index)\n",
        "print(ten_count)"
      ],
      "metadata": {
        "colab": {
          "base_uri": "https://localhost:8080/"
        },
        "id": "o4Dh8IPAJEjo",
        "outputId": "3b6579cf-8d81-4439-8e2d-73d7d8863095"
      },
      "execution_count": null,
      "outputs": [
        {
          "output_type": "stream",
          "name": "stdout",
          "text": [
            "4\n",
            "2\n"
          ]
        }
      ]
    },
    {
      "cell_type": "markdown",
      "source": [
        "## Task_5"
      ],
      "metadata": {
        "id": "2J7S4ZWpJKfJ"
      }
    },
    {
      "cell_type": "markdown",
      "source": [
        "В **student_names** сохранен список с именами студентов, добавьте в список два имени 'Anatoly' и 'Oksana'.\n",
        "\n",
        "В **scores** сохранен список из десяти целых чисел, удалите из него второй, пятый и последний элемент.\n",
        "\n",
        "В **lessons** сохранен список с названием уроков, отсортируйте названия уроков в списке по алфавиту."
      ],
      "metadata": {
        "id": "jhAleijOJnrh"
      }
    },
    {
      "cell_type": "code",
      "source": [
        "student_names = ['Ivan', 'Ivan']\n",
        "scores = [0, 1, 2, 3, 4, 5, 6, 7, 8, 9, 10]\n",
        "lessons = ['Python', 'Analytics']\n",
        "student_names.append(\"Anatoly\")\n",
        "student_names.append(\"Oksana\")\n",
        "print(scores.pop(1))\n",
        "print(scores.pop(3)) # 5й элемнент стал 4м, после удаления 2ого\n",
        "print(scores.pop()) # pop без параметра равен индексу последнего элемента == -1\n",
        "lessons.sort()\n",
        "print(student_names)\n",
        "print(scores)\n",
        "print(lessons)"
      ],
      "metadata": {
        "colab": {
          "base_uri": "https://localhost:8080/"
        },
        "id": "XHouzsLXK1Go",
        "outputId": "15493331-c284-4348-a6b3-559821199227"
      },
      "execution_count": null,
      "outputs": [
        {
          "output_type": "stream",
          "name": "stdout",
          "text": [
            "1\n",
            "4\n",
            "10\n",
            "['Ivan', 'Ivan', 'Anatoly', 'Oksana']\n",
            "[0, 2, 3, 5, 6, 7, 8, 9]\n",
            "['Analytics', 'Python']\n"
          ]
        }
      ]
    },
    {
      "cell_type": "markdown",
      "source": [
        "# Изменяемые и неизменяемые объекты\n"
      ],
      "metadata": {
        "id": "4PfgYtmu-3qF"
      }
    },
    {
      "cell_type": "code",
      "source": [
        "# сохраним список в переменную my_list_1\n",
        "my_list_1 = [3, 1, 2]\n",
        "\n",
        "# в переменную my_list_2 сохраним список my_list_1\n",
        "my_list_2 = my_list_1"
      ],
      "metadata": {
        "id": "0kAyB6iz_F77"
      },
      "execution_count": null,
      "outputs": []
    },
    {
      "cell_type": "code",
      "source": [
        "# изменим список my_list_1\n",
        "my_list_1.append(4)\n",
        "my_list_1.sort()\n",
        "my_list_1[0] = 100\n",
        "\n",
        "# посмотрим на оба списка\n",
        "print(my_list_1) # => [100, 2, 3, 4]\n",
        "print(my_list_2) # => [100, 2, 3, 4]"
      ],
      "metadata": {
        "colab": {
          "base_uri": "https://localhost:8080/"
        },
        "id": "6SdXaT8d_Lp1",
        "outputId": "8f7ba4d8-f22e-40c7-dbf0-fd91817d2c47"
      },
      "execution_count": null,
      "outputs": [
        {
          "output_type": "stream",
          "name": "stdout",
          "text": [
            "[100, 2, 3, 4]\n",
            "[100, 2, 3, 4]\n"
          ]
        }
      ]
    },
    {
      "cell_type": "markdown",
      "source": [
        "Cписки, массивы и словари — это изменяемые объекты."
      ],
      "metadata": {
        "id": "ps_RpeGG_c_M"
      }
    },
    {
      "cell_type": "markdown",
      "source": [
        "Теперь на коробочку памяти ссылаются две переменные: my_list_1 и my_list_2. И наоборот при изменении my_list_2, изменится и my_list_1."
      ],
      "metadata": {
        "id": "4BK74plCPXVO"
      }
    },
    {
      "cell_type": "markdown",
      "source": [
        "Именно поэтому у списка есть метод **copy()**. Он позволяет создать копию первого списка в новой переменной. В таком случае изменения первого списка уже никак не повлияют на копию этого списка."
      ],
      "metadata": {
        "id": "AjMjqiZbQj9G"
      }
    },
    {
      "cell_type": "code",
      "source": [
        "# сохраним список в переменную my_list_1\n",
        "my_list_1 = [3, 1, 2]\n",
        "\n",
        "# в переменную my_list_2 сохраним список my_list_1 с методом copy()\n",
        "my_list_2 = my_list_1.copy()\n",
        "\n",
        "# изменим список my_list_1\n",
        "my_list_1.append(4)\n",
        "my_list_1.sort()\n",
        "my_list_1[0] = 100\n",
        "\n",
        "# посмотрим на оба списка\n",
        "print(my_list_1) # => [100, 2, 3, 4]\n",
        "print(my_list_2) # => [3, 2, 1]"
      ],
      "metadata": {
        "id": "5RPXsY6L_gA0",
        "colab": {
          "base_uri": "https://localhost:8080/"
        },
        "outputId": "44b851e7-ef24-4277-abc5-4d147b9721b5"
      },
      "execution_count": null,
      "outputs": [
        {
          "output_type": "stream",
          "name": "stdout",
          "text": [
            "[100, 2, 3, 4]\n",
            "[3, 1, 2]\n"
          ]
        }
      ]
    },
    {
      "cell_type": "markdown",
      "source": [
        "Поэтому при работу с объектами в питоне важно понимать, изменяем мы исходный объект или создаем новый. Внимательно читайте документацию функций и методов. Предположим, у нас есть список my_list, мы хотим завести новый список my_list_ordered с отсортированными элементами из списка my_list."
      ],
      "metadata": {
        "id": "atVc4lzM_7Yw"
      }
    },
    {
      "cell_type": "code",
      "source": [
        "my_list = [1, 2, 3, -2]\n",
        "\n",
        "# так правильно\n",
        "my_list_ordered = sorted(my_list) # функция sorted возвращает новый список, не изменяет список my_list\n",
        "print(my_list_ordered) # получим [-2, 1, 2, 3]\n",
        "print(my_list) # получим [1, 2, 3, -2]\n",
        "\n",
        "# так неправильно\n",
        "my_list_ordered = my_list.sort() # метод sort ничего не возвращает, а только изменяет список my_list\n",
        "print(my_list_ordered) # получим None\n",
        "print(my_list) # получим [-2, 1, 2, 3]"
      ],
      "metadata": {
        "colab": {
          "base_uri": "https://localhost:8080/"
        },
        "id": "AjKgk1D4AVsp",
        "outputId": "f3c18436-ae56-427b-b354-4a81e7031acc"
      },
      "execution_count": null,
      "outputs": [
        {
          "output_type": "stream",
          "name": "stdout",
          "text": [
            "[-2, 1, 2, 3]\n",
            "[1, 2, 3, -2]\n",
            "None\n",
            "[-2, 1, 2, 3]\n"
          ]
        }
      ]
    },
    {
      "cell_type": "markdown",
      "source": [
        "А вот уже знакомые нам числа int и float, строки и логические значения — это неизменяемые объекты. То есть после создания объекта нельзя изменить его значение, только создать новый объект с измененным значением."
      ],
      "metadata": {
        "id": "l7NjsxTzRd-V"
      }
    },
    {
      "cell_type": "markdown",
      "source": [
        "## **Кортеж**\n"
      ],
      "metadata": {
        "id": "ccq9H-3IOsWl"
      }
    },
    {
      "cell_type": "markdown",
      "source": [
        "Иногда могут возникнуть ситуации, когда мы хотим хранить набор элементов без возможности изменять его. Поэтому у списков существует их неизменяемый аналог — кортежи (tuple). Кортежи создаются с помощью круглых скобок (), а элементы разделены запятыми. Кортежи нельзя изменять после их создания, т.е. нельзя добавлять, удалять или изменять элементы в кортеже. Поэтому кортежи лучше использовать, когда надо хранить значения, которые не будут меняться. Например, названия месяцев:"
      ],
      "metadata": {
        "id": "7eKh5jqwR_ZF"
      }
    },
    {
      "cell_type": "code",
      "source": [
        "# создадим кортеж\n",
        "months = ('January', 'February', 'March', 'April', 'May',\n",
        "          'June', 'July', 'August', 'September', 'October', 'November', 'December')\n",
        "\n",
        "# попытаемся добавить тринадцатый месяц\n",
        "# months[12] = 'Undecimber'\n",
        "\n",
        "# или изменить второй месяц\n",
        "# months[1] = 'Февраль'\n",
        "# Ошибка говорит о том, что кортеж не поддерживает изменение или добавление\n",
        "# элементов, поэтому попытка присваивания нового значения элементу вызывает\n",
        "# ошибку TypeError."
      ],
      "metadata": {
        "id": "mM4-8YMrO8zm"
      },
      "execution_count": null,
      "outputs": []
    },
    {
      "cell_type": "markdown",
      "source": [
        "Кортежи в основном используются в тех местах, где нужна эффективность и производительность. Кортежи занимают меньше места, чем списки, и обрабатываются быстрее. При этом кортежи, так же как и списки, поддерживают индексацию. Например, если мы хотим получить название первого месяца, можем использовать уже привычную запись:"
      ],
      "metadata": {
        "id": "jSh2gTmLJAvg"
      }
    },
    {
      "cell_type": "code",
      "source": [
        "month_index = 0\n",
        "month_name = months[month_index]\n",
        "print(month_name) # => 'January'"
      ],
      "metadata": {
        "colab": {
          "base_uri": "https://localhost:8080/"
        },
        "id": "QOVPv2ovJFrB",
        "outputId": "5569ff94-fef1-4613-ec10-ce00e8a8381d"
      },
      "execution_count": null,
      "outputs": [
        {
          "output_type": "stream",
          "name": "stdout",
          "text": [
            "January\n"
          ]
        }
      ]
    },
    {
      "cell_type": "markdown",
      "source": [
        "## Task_6"
      ],
      "metadata": {
        "id": "GwQDER0ZSmtl"
      }
    },
    {
      "cell_type": "markdown",
      "source": [
        "Создате кортеж с названиями дней недели и сохраните его в переменную **days_of_the_week**."
      ],
      "metadata": {
        "id": "MldSywX0Ss7N"
      }
    },
    {
      "cell_type": "code",
      "source": [
        "days_of_the_week = ('Monday', 'Tuesday', 'Wednesday', 'Thursday', 'Friday', 'Saturday', 'Sunday')"
      ],
      "metadata": {
        "id": "9bYoKIX3KrCg"
      },
      "execution_count": null,
      "outputs": []
    },
    {
      "cell_type": "markdown",
      "source": [
        "### **frosenset**"
      ],
      "metadata": {
        "id": "7cSAZif4UN4k"
      }
    },
    {
      "cell_type": "markdown",
      "source": [
        "У множества тоже есть неизменяемый аналог. **Frozenset** — это неизменяемый набор объектов, он имеет ту же функциональность, что и **set**, но его элементы не могут быть изменены после создания."
      ],
      "metadata": {
        "id": "6K3fgDUgUuIs"
      }
    },
    {
      "cell_type": "code",
      "source": [
        "my_frozenset = frozenset([1, 2, 3])\n",
        "my_frozenset"
      ],
      "metadata": {
        "id": "dL3Eict4K1oK",
        "colab": {
          "base_uri": "https://localhost:8080/"
        },
        "outputId": "816a3bed-831d-4f3b-9350-643356f28610"
      },
      "execution_count": null,
      "outputs": [
        {
          "output_type": "execute_result",
          "data": {
            "text/plain": [
              "frozenset({1, 2, 3})"
            ]
          },
          "metadata": {},
          "execution_count": 92
        }
      ]
    },
    {
      "cell_type": "markdown",
      "source": [
        "На старте вы не так часто будете сталкиваться с **frozenset**, но чем глубже вы будете погружаться в разработку, тем выше вероятность, что вы встретитесь с **frozenset** при работе с множествами.\n",
        "\n",
        "Сейчас нам просто полезно знать, что существует неизменяемый аналог множеств, в дальнейшем мы еще вернемся к **frozenset** и продемонстрируем несколько примеров его использования."
      ],
      "metadata": {
        "id": "2t3pV7IKdhW6"
      }
    },
    {
      "cell_type": "markdown",
      "source": [
        "## Task_7\n",
        "\n"
      ],
      "metadata": {
        "id": "idpxtMX7d4Rh"
      }
    },
    {
      "cell_type": "markdown",
      "source": [
        "В переменной **numbers_list** сохранен список с целыми числами. В списке минимум два разных целых числа.\n",
        "\n",
        "В переменную **numbers_list_ordered** сохраните все числа из списка **numbers_list**, отсортированные по убыванию. При этом сам список **numbers_list** не должен изменяться.\n",
        "\n",
        "В переменную **numbers_set** сохраните множество из уникальных чисел из списка **numbers_list**. Дополните это множество следующим целым числом после максимального числа из **numbers_list**.\n",
        "\n",
        "В переменную **numbers_frozenset** сохраните неизменяемое множество из всех уникальных чисел из списка **numbers_list**, кроме минимального числа."
      ],
      "metadata": {
        "id": "_d8n3k5yVhTM"
      }
    },
    {
      "cell_type": "code",
      "source": [
        "numbers_list = [1, 5, 3, 3, 5]\n",
        "min_number = min(numbers_list)\n",
        "print(min_number)\n",
        "numbers_list_ordered = sorted(numbers_list, reverse = True)\n",
        "print(numbers_list_ordered)\n",
        "numbers_set = set(numbers_list)\n",
        "print(numbers_set)\n",
        "numbers_set.add(max(numbers_list) + 1)\n",
        "print(numbers_set)\n",
        "numbers_frozenset = frozenset([num for num in numbers_list if num != min_number])\n",
        "print(numbers_frozenset)"
      ],
      "metadata": {
        "id": "MkLuCdWweDqY",
        "colab": {
          "base_uri": "https://localhost:8080/"
        },
        "outputId": "ee5af104-2544-4380-e6f7-21ce157922e7"
      },
      "execution_count": null,
      "outputs": [
        {
          "output_type": "stream",
          "name": "stdout",
          "text": [
            "1\n",
            "[5, 5, 3, 3, 1]\n",
            "{1, 3, 5}\n",
            "{1, 3, 5, 6}\n",
            "frozenset({3, 5})\n"
          ]
        }
      ]
    },
    {
      "cell_type": "code",
      "source": [
        "numbers_list = [1, 5, 3, 3, 5]\n",
        "\n",
        "numbers_list_ordered = sorted(numbers_list, reverse=True)\n",
        "numbers_set = set(numbers_list)\n",
        "numbers_set.add(max(numbers_list) + 1)\n",
        "numbers_frozenset = frozenset(sorted(set(numbers_list))[1:])\n",
        "print(numbers_frozenset)"
      ],
      "metadata": {
        "id": "5bJroxWceiPv",
        "colab": {
          "base_uri": "https://localhost:8080/"
        },
        "outputId": "3c41c63d-e8a5-482f-f04d-42d29839ec67"
      },
      "execution_count": null,
      "outputs": [
        {
          "output_type": "stream",
          "name": "stdout",
          "text": [
            "frozenset({3, 5})\n"
          ]
        }
      ]
    },
    {
      "cell_type": "markdown",
      "source": [
        "## Task_8"
      ],
      "metadata": {
        "id": "vE6SbzI3a0Tx"
      }
    },
    {
      "cell_type": "markdown",
      "source": [
        "Даны два списка **list_1** и **list_2**. Отсортируйте **list_1** по возрастанию, а **list_2** по убыванию.\n",
        "Объедините **list_1** и **list_2** в один отсортированный по возрастанию список **list_3**.  \n",
        "В переменную **list_3_len** сохраните длину **list_3**."
      ],
      "metadata": {
        "id": "emxirsgGX-LL"
      }
    },
    {
      "cell_type": "code",
      "source": [
        "list_1 = [1, 5, 3]\n",
        "list_2 = [2, 8]\n",
        "list_1.sort()\n",
        "list_2.sort(reverse=True)\n",
        "list_3 = list_1 + list_2\n",
        "list_3_len = len(list_3)\n",
        "list_3.sort()\n",
        "\n",
        "print(list_3)\n",
        "print(list_3_len)"
      ],
      "metadata": {
        "colab": {
          "base_uri": "https://localhost:8080/"
        },
        "id": "4TWi8sguitqk",
        "outputId": "79b12559-a1dc-4ef4-f747-d8cc7f64dc33"
      },
      "execution_count": null,
      "outputs": [
        {
          "output_type": "stream",
          "name": "stdout",
          "text": [
            "[1, 2, 3, 5, 8]\n",
            "5\n"
          ]
        }
      ]
    },
    {
      "cell_type": "code",
      "source": [
        "list_1 = [1, 5, 3]\n",
        "list_2 = [2, 8]\n",
        "list_1.sort()\n",
        "list_2.sort(reverse=True)\n",
        "list_3 = []\n",
        "list_3.extend(list_1)\n",
        "list_3.extend(list_2)\n",
        "list_3.sort()\n",
        "list_3_len = len(list_3)\n",
        "print(list_3)\n",
        "print(list_3_len)\n"
      ],
      "metadata": {
        "colab": {
          "base_uri": "https://localhost:8080/"
        },
        "id": "cFBIMkhdi-TC",
        "outputId": "efdc3ede-172a-4cfd-e00e-9d6a2f0ea145"
      },
      "execution_count": null,
      "outputs": [
        {
          "output_type": "stream",
          "name": "stdout",
          "text": [
            "[1, 2, 3, 5, 8]\n",
            "5\n"
          ]
        }
      ]
    },
    {
      "cell_type": "markdown",
      "source": [
        "## Task_9\n"
      ],
      "metadata": {
        "id": "yk--PL4pisGW"
      }
    },
    {
      "cell_type": "markdown",
      "source": [
        "В переменной **menu** хранится множество всех позиций меню кофейни, а в переменной **stop** — множество позиций меню кофейни, недоступных для заказа сегодня. Сохраните в переменную **menu_today** позиции меню, которые доступны для заказа сегодня."
      ],
      "metadata": {
        "id": "acVPko-VaiTq"
      }
    },
    {
      "cell_type": "code",
      "source": [
        "menu1 = {'White Chocolate Mocha', 'Americano', 'Flat White', 'Latte',\n",
        "        'Blueberry Muffin', 'Chocolate Chip Cookie'}\n",
        "stop1 = {'White Chocolate Mocha', 'Blueberry Muffin'}\n",
        "\n",
        "menu_today1 = sorted(menu1 - stop1)\n",
        "menu_today2 = menu1 - stop1\n",
        "print(menu_today1)\n",
        "print(menu_today2)"
      ],
      "metadata": {
        "colab": {
          "base_uri": "https://localhost:8080/"
        },
        "id": "iUOKc-rDbE7n",
        "outputId": "c33da88f-cf86-4f10-a6ba-3763288c3ba2"
      },
      "execution_count": null,
      "outputs": [
        {
          "output_type": "stream",
          "name": "stdout",
          "text": [
            "['Americano', 'Chocolate Chip Cookie', 'Flat White', 'Latte']\n",
            "{'Latte', 'Chocolate Chip Cookie', 'Americano', 'Flat White'}\n"
          ]
        }
      ]
    },
    {
      "cell_type": "code",
      "source": [
        "menu = {'White Chocolate Mocha', 'Americano', 'Flat White', 'Latte',\n",
        "        'Blueberry Muffin', 'Chocolate Chip Cookie'}\n",
        "stop = {'White Chocolate Mocha', 'Blueberry Muffin'}\n",
        "menu_today = menu.difference(stop)\n",
        "menu_today"
      ],
      "metadata": {
        "colab": {
          "base_uri": "https://localhost:8080/"
        },
        "id": "taIkVOzPbqKH",
        "outputId": "cafa28e2-3a81-45aa-d54d-3a617f101437"
      },
      "execution_count": null,
      "outputs": [
        {
          "output_type": "execute_result",
          "data": {
            "text/plain": [
              "{'Americano', 'Chocolate Chip Cookie', 'Flat White', 'Latte'}"
            ]
          },
          "metadata": {},
          "execution_count": 112
        }
      ]
    },
    {
      "cell_type": "markdown",
      "source": [
        "## Task_10\n"
      ],
      "metadata": {
        "id": "2nTcRWbRlc-6"
      }
    },
    {
      "cell_type": "markdown",
      "source": [
        "В переменной **my_set** множество (set) из чисел. В переменной **to_delete** число, которое нужно удалить из **my_set**, если оно там есть. Если такого числа нет в **my_set** ничего делать не надо."
      ],
      "metadata": {
        "id": "10yZDzGNe3Ce"
      }
    },
    {
      "cell_type": "code",
      "source": [
        "my_set = {0, 10, 100}\n",
        "to_delete = 0\n",
        "my_set.discard(to_delete)\n",
        "print(my_set)# удалили 0"
      ],
      "metadata": {
        "colab": {
          "base_uri": "https://localhost:8080/"
        },
        "id": "rFy5ehDmle6F",
        "outputId": "fe7c0b8d-22eb-4f8e-ef63-7016072205a0"
      },
      "execution_count": null,
      "outputs": [
        {
          "output_type": "stream",
          "name": "stdout",
          "text": [
            "{10, 100}\n"
          ]
        }
      ]
    },
    {
      "cell_type": "code",
      "source": [
        "my_set = {0, 10, 100}\n",
        "to_delete = -2\n",
        "my_set.discard(to_delete)\n",
        "my_set # ничего не сделали"
      ],
      "metadata": {
        "colab": {
          "base_uri": "https://localhost:8080/"
        },
        "id": "vVPMkUbDmSNo",
        "outputId": "957591af-c1bf-4133-93a1-148a188ea741"
      },
      "execution_count": null,
      "outputs": [
        {
          "output_type": "execute_result",
          "data": {
            "text/plain": [
              "{0, 10, 100}"
            ]
          },
          "metadata": {},
          "execution_count": 113
        }
      ]
    },
    {
      "cell_type": "markdown",
      "source": [
        "## Task_11\n"
      ],
      "metadata": {
        "id": "ccjSCau5n-EE"
      }
    },
    {
      "cell_type": "markdown",
      "source": [
        "В **students** хранится множество студентов it-центра МАИ. Студент, имя которого записано в **new_student**, перевелся в МАИ из другого института, его имя нужно добавить в **students**. В переменной **churn_student** — студент, который хочет перевестись из МАИ в другой институт, его имя нужно убрать из **students**."
      ],
      "metadata": {
        "id": "EsjwckoHfrGE"
      }
    },
    {
      "cell_type": "code",
      "source": [
        "students = {'Кравченко Виталий', 'Полякова Ольга', 'Некрасов Игорь', 'Дудочкин Илья', 'Захарова Мария'}\n",
        "new_student = 'Василенко Анна'\n",
        "churn_student = 'Полякова Ольга'\n",
        "# ->\n",
        "students.add(new_student)\n",
        "students.remove(churn_student)\n",
        "students"
      ],
      "metadata": {
        "colab": {
          "base_uri": "https://localhost:8080/"
        },
        "id": "jtV4SoHRmSRf",
        "outputId": "a20ca4e0-bb1d-4889-a440-eaf5cc4fd434"
      },
      "execution_count": null,
      "outputs": [
        {
          "output_type": "execute_result",
          "data": {
            "text/plain": [
              "{'Василенко Анна',\n",
              " 'Дудочкин Илья',\n",
              " 'Захарова Мария',\n",
              " 'Кравченко Виталий',\n",
              " 'Некрасов Игорь'}"
            ]
          },
          "metadata": {},
          "execution_count": 114
        }
      ]
    },
    {
      "cell_type": "markdown",
      "source": [
        "## Task_12\n"
      ],
      "metadata": {
        "id": "mguy_NbRorUj"
      }
    },
    {
      "cell_type": "markdown",
      "source": [
        "В переменной **da_students** хранятся имена студентов курса \"Аналитик данных\", а в переменной **dv_students** — имена студентов курса \"Визуализация данных\". Сохраните в переменную **students** студентов, которые обучаются на обоих курсах.\n",
        "\n",
        "Порядок элементов в **students** не имеет значения."
      ],
      "metadata": {
        "id": "d0ZtfOmSgr4t"
      }
    },
    {
      "cell_type": "code",
      "source": [
        "# студенты курса \"Аналитик данных\"\n",
        "da_students = {'Ivanov Alexander', 'Loginov Vladislav', 'Ershova Anna', 'Korneva Daria'}\n",
        "# студенты курса \"Визуализация данных\"\n",
        "dv_students = {'Ershova Anna', 'Egunov Andrey', 'Ignatov Alexey', 'Loginov Vladislav'}\n",
        "# более короткая запись метода intersection\n",
        "students = da_students & dv_students\n",
        "students"
      ],
      "metadata": {
        "colab": {
          "base_uri": "https://localhost:8080/"
        },
        "id": "lhZbrfA5otWf",
        "outputId": "125c9220-a48c-4704-d408-03052dbab176"
      },
      "execution_count": null,
      "outputs": [
        {
          "output_type": "execute_result",
          "data": {
            "text/plain": [
              "{'Ershova Anna', 'Loginov Vladislav'}"
            ]
          },
          "metadata": {},
          "execution_count": 115
        }
      ]
    },
    {
      "cell_type": "code",
      "source": [
        "# Вариант верного решения\n",
        "\n",
        "students = da_students.intersection(dv_students)\n",
        "print(students)\n",
        "# более короткая запись метода intersection\n",
        "#students = da_students & dv_students\n",
        "\n",
        "# а метод difference можно заменить на знак '-'\n",
        "da_students - dv_students"
      ],
      "metadata": {
        "colab": {
          "base_uri": "https://localhost:8080/"
        },
        "id": "TqZVwi9SpT5U",
        "outputId": "90c309f3-3666-486e-af0e-42839903b846"
      },
      "execution_count": null,
      "outputs": [
        {
          "output_type": "stream",
          "name": "stdout",
          "text": [
            "{'Loginov Vladislav', 'Ershova Anna'}\n"
          ]
        },
        {
          "output_type": "execute_result",
          "data": {
            "text/plain": [
              "{'Ivanov Alexander', 'Korneva Daria'}"
            ]
          },
          "metadata": {},
          "execution_count": 117
        }
      ]
    },
    {
      "cell_type": "markdown",
      "source": [
        "## Task_13\n"
      ],
      "metadata": {
        "id": "1-0L58b5qCfz"
      }
    },
    {
      "cell_type": "markdown",
      "source": [
        "В переменной **a** хранится список целых неотрицательных чисел. Количество чисел четное.\n",
        "Напишите программу, которая будет делить этот список пополам, определять суммы чисел в половинах списка (**sum_left** и **sum_right**). Если **sum_left** равно **sum_right**, то сохраните в переменную **result** значение **True**,  в противном случае — **False**."
      ],
      "metadata": {
        "id": "X0VHLIvNh4kl"
      }
    },
    {
      "cell_type": "code",
      "source": [
        "a = [1, 2, 4, 3]\n",
        "half = len(a) // 2\n",
        "left_half = a[:half]\n",
        "right_half = a[half:]\n",
        "\n",
        "sum_left = sum(left_half)\n",
        "sum_right = sum(right_half)\n",
        "\n",
        "result = sum_left == sum_right\n",
        "\n",
        "print(result)"
      ],
      "metadata": {
        "colab": {
          "base_uri": "https://localhost:8080/"
        },
        "id": "ps-4DDYCqHby",
        "outputId": "d05a06d2-38f4-4b88-9d16-3ab582cc12c5"
      },
      "execution_count": null,
      "outputs": [
        {
          "output_type": "stream",
          "name": "stdout",
          "text": [
            "False\n"
          ]
        }
      ]
    },
    {
      "cell_type": "code",
      "source": [
        "sum_left = sum(a[:(len(a) // 2)])\n",
        "sum_right = sum(a[(len(a) // 2) : ])\n",
        "result = sum_left == sum_right\n",
        "result"
      ],
      "metadata": {
        "colab": {
          "base_uri": "https://localhost:8080/"
        },
        "id": "A5RKNwmCiYku",
        "outputId": "dfb15639-b8ba-4135-e9bd-8dc40054a806"
      },
      "execution_count": null,
      "outputs": [
        {
          "output_type": "execute_result",
          "data": {
            "text/plain": [
              "False"
            ]
          },
          "metadata": {},
          "execution_count": 120
        }
      ]
    },
    {
      "cell_type": "markdown",
      "source": [
        "## Task_14\n"
      ],
      "metadata": {
        "id": "4dCiO4CurYjB"
      }
    },
    {
      "cell_type": "markdown",
      "source": [
        "Даны список целых чисел **a** и число **b**. Удалите из **a** первое и последнее вхождение числа **b**.  "
      ],
      "metadata": {
        "id": "uMZkuakZjKsc"
      }
    },
    {
      "cell_type": "code",
      "source": [
        "a = [1, 2, 2, 1, 3, 2, 3]\n",
        "b = 1\n",
        "a.remove(b)  # Удаляем первое вхождение числа b\n",
        "print(a)\n",
        "a.reverse()  # Разворачиваем список\n",
        "print(a)\n",
        "a.remove(b)  # Удаляем первое вхождение числа b (теперь это будет последнее вхождение)\n",
        "print(a)\n",
        "a.reverse()\n",
        "a"
      ],
      "metadata": {
        "colab": {
          "base_uri": "https://localhost:8080/"
        },
        "id": "ado0JZ4FrbND",
        "outputId": "5d3af385-165f-4437-e087-399b059a0e3a"
      },
      "execution_count": 1,
      "outputs": [
        {
          "output_type": "stream",
          "name": "stdout",
          "text": [
            "[2, 2, 1, 3, 2, 3]\n",
            "[3, 2, 3, 1, 2, 2]\n",
            "[3, 2, 3, 2, 2]\n"
          ]
        },
        {
          "output_type": "execute_result",
          "data": {
            "text/plain": [
              "[2, 2, 3, 2, 3]"
            ]
          },
          "metadata": {},
          "execution_count": 1
        }
      ]
    },
    {
      "cell_type": "code",
      "source": [
        "#a = [1, 2, 2, 1, 3, 2, 3]\n",
        "#b = 2"
      ],
      "metadata": {
        "id": "WCfI1H5TsKOB"
      },
      "execution_count": null,
      "outputs": []
    }
  ]
}