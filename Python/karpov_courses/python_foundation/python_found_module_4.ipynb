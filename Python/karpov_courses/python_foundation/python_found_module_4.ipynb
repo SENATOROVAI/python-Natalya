{
  "nbformat": 4,
  "nbformat_minor": 0,
  "metadata": {
    "colab": {
      "provenance": []
    },
    "kernelspec": {
      "name": "python3",
      "display_name": "Python 3"
    },
    "language_info": {
      "name": "python"
    }
  },
  "cells": [
    {
      "cell_type": "markdown",
      "source": [
        "# **Словари**"
      ],
      "metadata": {
        "id": "xQbI9CK4MFDs"
      }
    },
    {
      "cell_type": "markdown",
      "source": [
        "1. Литералы словаря представляют собой список ключей и значений, заключенных в фигурные скобки. Ключ и значение разделяются двоеточием, а пары ключ-значение разделяются запятой."
      ],
      "metadata": {
        "id": "4uGudN68GMS3"
      }
    },
    {
      "cell_type": "code",
      "source": [
        "course_info = {'course name': 'python_intro',\n",
        "               'teacher': 'Anatoly Karpov',\n",
        "               'n_lessons': 10,\n",
        "               'n_students': 10399,\n",
        "               'school_name': 'KarpovCourses'\n",
        "               }"
      ],
      "metadata": {
        "id": "tJCwC05JMYz_"
      },
      "execution_count": null,
      "outputs": []
    },
    {
      "cell_type": "code",
      "source": [
        "course_info"
      ],
      "metadata": {
        "colab": {
          "base_uri": "https://localhost:8080/"
        },
        "id": "QdB0brAyNpdN",
        "outputId": "0f8b9281-0aa8-46f7-a36a-3681126d7aa7"
      },
      "execution_count": null,
      "outputs": [
        {
          "output_type": "execute_result",
          "data": {
            "text/plain": [
              "{'course name': 'python_intro',\n",
              " 'teacher': 'Anatoly Karpov',\n",
              " 'n_lessons': 10,\n",
              " 'n_students': 10399,\n",
              " 'school_name': 'KarpovCourses'}"
            ]
          },
          "metadata": {},
          "execution_count": 2
        }
      ]
    },
    {
      "cell_type": "code",
      "source": [
        "# course_info[0] - не обращаемся к элементам по индексу"
      ],
      "metadata": {
        "id": "jaqrGMlRN1bV"
      },
      "execution_count": null,
      "outputs": []
    },
    {
      "cell_type": "code",
      "source": [
        "course_info['n_lessons'] # по ключу"
      ],
      "metadata": {
        "colab": {
          "base_uri": "https://localhost:8080/"
        },
        "id": "HK07OuXeOLyQ",
        "outputId": "9846266d-cad6-411e-b284-de1bf7ae7cf3"
      },
      "execution_count": null,
      "outputs": [
        {
          "output_type": "execute_result",
          "data": {
            "text/plain": [
              "10"
            ]
          },
          "metadata": {},
          "execution_count": 21
        }
      ]
    },
    {
      "cell_type": "code",
      "source": [
        "course_info['start_date'] = '2023-06-26' # добавили новую пару ключ-значение"
      ],
      "metadata": {
        "id": "VM3cvGFtO0iY"
      },
      "execution_count": null,
      "outputs": []
    },
    {
      "cell_type": "code",
      "source": [
        "course_info"
      ],
      "metadata": {
        "colab": {
          "base_uri": "https://localhost:8080/"
        },
        "id": "TGhYYGPePqoF",
        "outputId": "c959713d-42f0-4598-d44e-bd6194f780b7"
      },
      "execution_count": null,
      "outputs": [
        {
          "output_type": "execute_result",
          "data": {
            "text/plain": [
              "{'course name': 'python_intro',\n",
              " 'teacher': 'Anatoly Karpov',\n",
              " 'n_lessons': 10,\n",
              " 'n_students': 10399,\n",
              " 'school_name': 'KarpovCourses',\n",
              " 'start_date': '2023-06-26'}"
            ]
          },
          "metadata": {},
          "execution_count": 30
        }
      ]
    },
    {
      "cell_type": "markdown",
      "source": [
        "2. Функция **dict()**"
      ],
      "metadata": {
        "id": "-kwtbWTCG1XX"
      }
    },
    {
      "cell_type": "markdown",
      "source": [
        "Функцию **dict()** можно использовать для создания словарей из других последовательностей или создания пустого словаря. Например:"
      ],
      "metadata": {
        "id": "XmBsnpP8G_8n"
      }
    },
    {
      "cell_type": "code",
      "source": [
        "empty_dict = dict()\n",
        "print(empty_dict) # {}\n",
        "fruit_dict = ([('яблоко', 5), ('банан', 3), ('апельсин', 2)])\n",
        "print(fruit_dict)\n"
      ],
      "metadata": {
        "colab": {
          "base_uri": "https://localhost:8080/"
        },
        "id": "z2F1XYzOHUvF",
        "outputId": "4839012d-b2dd-4b7b-ecb5-139951aa6853"
      },
      "execution_count": null,
      "outputs": [
        {
          "output_type": "stream",
          "name": "stdout",
          "text": [
            "{}\n",
            "[('яблоко', 5), ('банан', 3), ('апельсин', 2)]\n"
          ]
        }
      ]
    },
    {
      "cell_type": "markdown",
      "source": [
        "3. Использование метода **fromkeys()**"
      ],
      "metadata": {
        "id": "6K3AVF9-INm-"
      }
    },
    {
      "cell_type": "markdown",
      "source": [
        "Метод **fromkeys()** позволяет создать словарь с указанными ключами и одним и тем же значением для всех ключей. Например:"
      ],
      "metadata": {
        "id": "dmhcP6FzIZdE"
      }
    },
    {
      "cell_type": "code",
      "source": [
        "keys = ['a', 'b', 'c']\n",
        "values = 0\n",
        "my_dict = dict.fromkeys(keys, values)\n",
        "print(my_dict) # {'a': '0', 'b': 0, 'c': 0}"
      ],
      "metadata": {
        "colab": {
          "base_uri": "https://localhost:8080/"
        },
        "id": "PSK6CJiRJfk8",
        "outputId": "89c4b27d-9138-491e-ee70-5df7c9a84385"
      },
      "execution_count": null,
      "outputs": [
        {
          "output_type": "stream",
          "name": "stdout",
          "text": [
            "{'a': 0, 'b': 0, 'c': 0}\n"
          ]
        }
      ]
    },
    {
      "cell_type": "markdown",
      "source": [
        "### **Методы словарей**"
      ],
      "metadata": {
        "id": "Gw_UxpH1QW-W"
      }
    },
    {
      "cell_type": "code",
      "source": [
        "# course_info.keys()# возвращает нам все ключи\n",
        "my_keys = list(course_info.keys()) # теперь это позволяет нам исползовать\n",
        "#все известные способы работы со списками\n",
        "print(my_keys)\n",
        "# будем часто перетекать из разных типов данных, из разных способов создания\n",
        "# переменных друг в друга"
      ],
      "metadata": {
        "colab": {
          "base_uri": "https://localhost:8080/"
        },
        "id": "nnwUBrWvQU03",
        "outputId": "e941e08d-9cd1-4312-9cd7-73a2820bf6c3"
      },
      "execution_count": null,
      "outputs": [
        {
          "output_type": "stream",
          "name": "stdout",
          "text": [
            "['course name', 'teacher', 'n_lessons', 'n_students', 'school_name', 'start_date']\n"
          ]
        }
      ]
    },
    {
      "cell_type": "code",
      "source": [
        "my_keys[0]"
      ],
      "metadata": {
        "colab": {
          "base_uri": "https://localhost:8080/",
          "height": 35
        },
        "id": "_wNzAukPSWvk",
        "outputId": "de594a08-b3d3-41a7-9120-db6169aeb387"
      },
      "execution_count": null,
      "outputs": [
        {
          "output_type": "execute_result",
          "data": {
            "text/plain": [
              "'course name'"
            ],
            "application/vnd.google.colaboratory.intrinsic+json": {
              "type": "string"
            }
          },
          "metadata": {},
          "execution_count": 25
        }
      ]
    },
    {
      "cell_type": "code",
      "source": [
        "# course_info.values()\n",
        "# но для работы лучше список\n",
        "my_values = list(course_info.values())\n",
        "my_values"
      ],
      "metadata": {
        "colab": {
          "base_uri": "https://localhost:8080/"
        },
        "id": "2EzcVFN6SgOZ",
        "outputId": "60892ded-e889-41e0-cf78-ed7db7538aed"
      },
      "execution_count": null,
      "outputs": [
        {
          "output_type": "execute_result",
          "data": {
            "text/plain": [
              "['python_intro', 'Anatoly Karpov', 10, 10399, 'KarpovCourses']"
            ]
          },
          "metadata": {},
          "execution_count": 13
        }
      ]
    },
    {
      "cell_type": "code",
      "source": [
        "# course_info.items() # достаем все пары ключей и значений\n",
        "my_items = list(course_info.items())\n",
        "my_items"
      ],
      "metadata": {
        "colab": {
          "base_uri": "https://localhost:8080/"
        },
        "id": "cAVFxX5GTWNo",
        "outputId": "a4629c34-9969-4d92-9009-864fe3e77467"
      },
      "execution_count": null,
      "outputs": [
        {
          "output_type": "execute_result",
          "data": {
            "text/plain": [
              "[('course name', 'python_intro'),\n",
              " ('teacher', 'Anatoly Karpov'),\n",
              " ('n_lessons', 10),\n",
              " ('n_students', 10399),\n",
              " ('school_name', 'KarpovCourses'),\n",
              " ('start_date', '2023-06-26')]"
            ]
          },
          "metadata": {},
          "execution_count": 26
        }
      ]
    },
    {
      "cell_type": "code",
      "source": [
        "my_items[1]"
      ],
      "metadata": {
        "colab": {
          "base_uri": "https://localhost:8080/"
        },
        "id": "fhIt6462UYRf",
        "outputId": "7c69c896-8ed0-4fa1-f568-dba18362fdcf"
      },
      "execution_count": null,
      "outputs": [
        {
          "output_type": "execute_result",
          "data": {
            "text/plain": [
              "('teacher', 'Anatoly Karpov')"
            ]
          },
          "metadata": {},
          "execution_count": 32
        }
      ]
    },
    {
      "cell_type": "code",
      "source": [
        "# иногда бывает задача, когда удобно перейти из одного формата данных в другой"
      ],
      "metadata": {
        "id": "wUqvtTODUiqy"
      },
      "execution_count": null,
      "outputs": []
    },
    {
      "cell_type": "code",
      "source": [
        "# метод, позволяющий доставать сами значения по ключу"
      ],
      "metadata": {
        "id": "O38LPU4VU_JD"
      },
      "execution_count": null,
      "outputs": []
    },
    {
      "cell_type": "code",
      "source": [
        "course_info['course name']"
      ],
      "metadata": {
        "colab": {
          "base_uri": "https://localhost:8080/",
          "height": 35
        },
        "id": "48d2BfSJVJ1j",
        "outputId": "6e9ed0e7-ae0a-468e-8523-4b8cfd8e70b3"
      },
      "execution_count": null,
      "outputs": [
        {
          "output_type": "execute_result",
          "data": {
            "text/plain": [
              "'python_intro'"
            ],
            "application/vnd.google.colaboratory.intrinsic+json": {
              "type": "string"
            }
          },
          "metadata": {},
          "execution_count": 35
        }
      ]
    },
    {
      "cell_type": "code",
      "source": [
        "course_info.get('name')"
      ],
      "metadata": {
        "id": "v9VEZUpZXPzv"
      },
      "execution_count": null,
      "outputs": []
    },
    {
      "cell_type": "code",
      "source": [
        "# в списках  мб тоже списки"
      ],
      "metadata": {
        "id": "5kW-7-TBZIsj"
      },
      "execution_count": null,
      "outputs": []
    },
    {
      "cell_type": "markdown",
      "source": [
        "#  Task_1 (example)\n"
      ],
      "metadata": {
        "id": "hpTuWfkJfu7X"
      }
    },
    {
      "cell_type": "markdown",
      "source": [
        "Очень часто нам приходится работать сразу с двумя наборами данных, например, с двумя списками или множествами. Оператор **zip()** в Python объединяет элементы из нескольких последовательностей. Давайте рассмотрим пример:"
      ],
      "metadata": {
        "id": "0aQ4Jzi0FRY2"
      }
    },
    {
      "cell_type": "code",
      "source": [
        "x = [1, 2, 3]\n",
        "y = ['a', 'b', 'c']\n",
        "\n",
        "# Используем оператор zip() для объединения элементов из двух списков\n",
        "result = zip(x, y)\n",
        "\n",
        "# Преобразуем результат в список\n",
        "result_list = list(result)\n",
        "\n",
        "print(result_list) # [(1, 'a'), (2, 'b'), (3, 'c')]"
      ],
      "metadata": {
        "colab": {
          "base_uri": "https://localhost:8080/"
        },
        "id": "mmRz_lKLf5rW",
        "outputId": "870a25a6-33ce-4e73-b428-f133b07c4286"
      },
      "execution_count": null,
      "outputs": [
        {
          "output_type": "stream",
          "name": "stdout",
          "text": [
            "[(1, 'a'), (2, 'b'), (3, 'c')]\n"
          ]
        }
      ]
    },
    {
      "cell_type": "markdown",
      "source": [
        "В этом примере мы создаем два списка x и y, содержащих числа и буквы соответственно. Затем мы используем оператор **zip()** для объединения элементов из этих двух списков. Результатом является более сложный тип данных, но мы без труда можем перейти к уже знакомому нам формату при помощи функции **list()**.\n",
        "\n",
        "Сейчас важно запомнить, что при помощи связки **list(zip(x, y))** мы можем быстро и эффективно объяединять несколько списков.\n",
        "\n",
        "Важно отметить, что результат **zip()** будет иметь длину, равную длине самой короткой из исходных последовательностей. Если длины последовательностей отличаются, то лишние элементы будут проигнорированы. Оператор **zip()** может использоваться в таких ситуациях, как итерация по нескольким последовательностям одновременно или совмещение элементов из нескольких списках."
      ],
      "metadata": {
        "id": "caqrZzCcgIp3"
      }
    },
    {
      "cell_type": "code",
      "source": [
        "# Task_2:\n",
        "\n",
        "# Дан словарь dict_input. Поменяйте ключи и значения местами.\n",
        "# Результат сохраните в result.\n",
        "\n",
        "# Пример:\n",
        "\n",
        "# dict_input = {\"1\": 11, \"2\": 22, \"3\": 33}\n",
        "# result = {11: \"1\", 22:\"2\", 33:\"3\"}"
      ],
      "metadata": {
        "id": "854TIwsvgWMy"
      },
      "execution_count": null,
      "outputs": []
    },
    {
      "cell_type": "code",
      "source": [
        "dict_input = {'cost_price': 225.89, 'sell_price': 550.0, 'eclairs': 100}\n",
        "# {'1': 5.99, '2': 55.85, '3': 35}\n",
        "# {'key': 12.45, 'window': 13, 'wall': 67}\n",
        "#{}\n",
        "result = {value: key for key, value in dict_input.items()}\n",
        "\n",
        "print(result)"
      ],
      "metadata": {
        "colab": {
          "base_uri": "https://localhost:8080/"
        },
        "id": "__VrpgWAgvL5",
        "outputId": "cacf0123-ad3e-426a-8366-420cc2141c4c"
      },
      "execution_count": null,
      "outputs": [
        {
          "output_type": "stream",
          "name": "stdout",
          "text": [
            "{225.89: 'cost_price', 550.0: 'sell_price', 100: 'eclairs'}\n"
          ]
        }
      ]
    },
    {
      "cell_type": "code",
      "source": [
        "result = dict(zip(dict_input.values(), dict_input.keys()))\n",
        "print(result)"
      ],
      "metadata": {
        "colab": {
          "base_uri": "https://localhost:8080/"
        },
        "id": "gnoIlYSCh77c",
        "outputId": "c737cfb1-2ca4-4e94-b382-8d57f778e933"
      },
      "execution_count": null,
      "outputs": [
        {
          "output_type": "stream",
          "name": "stdout",
          "text": [
            "{225.89: 'cost_price', 550.0: 'sell_price', 100: 'eclairs'}\n"
          ]
        }
      ]
    },
    {
      "cell_type": "markdown",
      "source": [
        "## Task_3"
      ],
      "metadata": {
        "id": "xQKwnH_NNtzD"
      }
    },
    {
      "cell_type": "markdown",
      "source": [
        "Катя — владелец небольшого кондитерского производства, на котором изготавливаются эклеры.\n",
        "У нас  есть словарь data, в котором содержится информация о себестоимости единицы товара **cost_price**, продажную цену **sell_price** и количество товара **eclairs**.\n",
        "Нужно посчитать, какую прибыль Катя получает после продажи своей продукции. Результат сохраните в переменную **result**, округлив сумму до целого числа."
      ],
      "metadata": {
        "id": "Ls2AiZFWN1vK"
      }
    },
    {
      "cell_type": "code",
      "source": [
        "data = {\n",
        "    \"cost_price\": 225.89,\n",
        "      \"sell_price\": 550.00,\n",
        "        \"eclairs\": 100\n",
        "}\n",
        "cost_price = data[\"cost_price\"]\n",
        "sell_price = data[\"sell_price\"]\n",
        "eclairs = data[\"eclairs\"]\n",
        "\n",
        "profit = (sell_price - cost_price) * eclairs\n",
        "result = round(profit)\n",
        "\n",
        "print(result)\n"
      ],
      "metadata": {
        "id": "uTaQD3dkOGy1",
        "colab": {
          "base_uri": "https://localhost:8080/"
        },
        "outputId": "53c7b346-b933-4107-8f2a-f6cc310de4ba"
      },
      "execution_count": null,
      "outputs": [
        {
          "output_type": "stream",
          "name": "stdout",
          "text": [
            "32411\n"
          ]
        }
      ]
    },
    {
      "cell_type": "code",
      "source": [
        "result = round((data[\"eclairs\"]) * (data[\"sell_price\"] - data[\"cost_price\"]))\n",
        "result"
      ],
      "metadata": {
        "id": "QxMITnATOT3N",
        "colab": {
          "base_uri": "https://localhost:8080/"
        },
        "outputId": "4ff6cb45-b720-48d3-916f-b3a40cdef53a"
      },
      "execution_count": null,
      "outputs": [
        {
          "output_type": "execute_result",
          "data": {
            "text/plain": [
              "32411"
            ]
          },
          "metadata": {},
          "execution_count": 8
        }
      ]
    },
    {
      "cell_type": "markdown",
      "source": [
        "## Task_4"
      ],
      "metadata": {
        "id": "BOOsXD7KPJil"
      }
    },
    {
      "cell_type": "markdown",
      "source": [
        "Есть словарь **student**, в котором хранятся имя студента и список его оценок. В **result**  сохраните словарь с именем студента и самой высокой его оценкой."
      ],
      "metadata": {
        "id": "3btV3UMEPOVs"
      }
    },
    {
      "cell_type": "code",
      "source": [
        "student = {\"name\": \"Igor\", \"notes\": [4, 5, 4]}\n",
        "name = student[\"name\"]\n",
        "max_note = max(student[\"notes\"])\n",
        "\n",
        "result = {\"name\": name, \"max_note\": max_note}\n",
        "\n",
        "print(result)"
      ],
      "metadata": {
        "id": "60KbHqdAPUKK",
        "outputId": "e909a76e-5158-41d9-a89b-332502e86e41",
        "colab": {
          "base_uri": "https://localhost:8080/"
        }
      },
      "execution_count": null,
      "outputs": [
        {
          "output_type": "stream",
          "name": "stdout",
          "text": [
            "{'name': 'Igor', 'max_note': 5}\n"
          ]
        }
      ]
    },
    {
      "cell_type": "code",
      "source": [
        "result = {\"name\": student[\"name\"], \"max_note\": max(student[\"notes\"])}\n",
        "result"
      ],
      "metadata": {
        "id": "fHaQggomPglY",
        "outputId": "a16687dc-1341-4c16-c244-b5f795329500",
        "colab": {
          "base_uri": "https://localhost:8080/"
        }
      },
      "execution_count": null,
      "outputs": [
        {
          "output_type": "execute_result",
          "data": {
            "text/plain": [
              "{'name': 'Igor', 'max_note': 5}"
            ]
          },
          "metadata": {},
          "execution_count": 11
        }
      ]
    },
    {
      "cell_type": "markdown",
      "source": [
        "## Task_5"
      ],
      "metadata": {
        "id": "rH9tFjteTIRw"
      }
    },
    {
      "cell_type": "markdown",
      "source": [
        "Антон учится в karpov.courses. В словаре **anton_courses** хранится информация о завершенных им курсах и количестве набранных баллов. Данные в словаре хранятся в формате ключ — название курса, значение — количество баллов в числовом формате.\n",
        "Антон завершил обучение на курсе **HardML** и набрал 120 баллов. Добавьте в словарь **anton_courses** эту информацию.\n",
        "В переменную **courses** сохраните список пройденных курсов.\n",
        "В переменную **StartML** сохраните количество баллов, набранное Антоном на одноименном курсе, эта информация есть в словаре."
      ],
      "metadata": {
        "id": "F5ru61bJTKwT"
      }
    },
    {
      "cell_type": "code",
      "source": [
        "anton_courses = {'SimulatorAnalyst': 56,\n",
        "                 'StartML': 87,\n",
        "                 'DataAnalyst': 140}\n",
        "anton_courses['HardML'] = 120\n",
        "courses = list(anton_courses.keys())\n",
        "StartML = anton_courses['StartML']\n",
        "print(anton_courses)\n",
        "print(courses)\n",
        "print(StartML)"
      ],
      "metadata": {
        "id": "iHnwqZbCTQTI",
        "colab": {
          "base_uri": "https://localhost:8080/"
        },
        "outputId": "3bee6aca-7601-4c06-a83e-098ba52f5331"
      },
      "execution_count": null,
      "outputs": [
        {
          "output_type": "stream",
          "name": "stdout",
          "text": [
            "{'SimulatorAnalyst': 56, 'StartML': 87, 'DataAnalyst': 140, 'HardML': 120}\n",
            "['SimulatorAnalyst', 'StartML', 'DataAnalyst', 'HardML']\n",
            "87\n"
          ]
        }
      ]
    },
    {
      "cell_type": "markdown",
      "source": [
        "## Task_6"
      ],
      "metadata": {
        "id": "PWZGTKY8Wl6R"
      }
    },
    {
      "cell_type": "markdown",
      "source": [
        "У нас есть магазин одежды LARA. В словаре **shop_stock** хранится информация о товарах, имеющихся в наличии на складе магазина. Информация указана в формате ключ — артикул товара, значение — количество единиц.\n",
        "В магазин поставили новую партию товаров, в словаре **shop_new_goods** записана информация о поставленых товарах и их количестве.\n",
        "Создайте словарь **result**, который будет содержать информацию и о товарах на складе, и о товарах из новой поставки. Известно, что если на складе оставалась хотя бы одна единица какого-то типа товара, то товара этого типа не было в поставке."
      ],
      "metadata": {
        "id": "QAqZKsZQWoAB"
      }
    },
    {
      "cell_type": "code",
      "source": [
        "shop_stock = {\"2358241350-50\": 1, \"2358000350-30\": 24, \"2358241350-00\": 3}\n",
        "shop_new_goods = {\"2358241350-60\": 10}\n",
        "result = shop_stock.copy()\n",
        "result.update(shop_new_goods)\n",
        "print(result)"
      ],
      "metadata": {
        "id": "i51n3h5BWv2W",
        "colab": {
          "base_uri": "https://localhost:8080/"
        },
        "outputId": "6d9614d2-36bf-4b1d-906a-1c461efd8fdc"
      },
      "execution_count": null,
      "outputs": [
        {
          "output_type": "stream",
          "name": "stdout",
          "text": [
            "{'2358241350-50': 1, '2358000350-30': 24, '2358241350-00': 3, '2358241350-60': 10}\n"
          ]
        }
      ]
    },
    {
      "cell_type": "markdown",
      "source": [
        "## Task_7"
      ],
      "metadata": {
        "id": "H8CN8fhqXZqN"
      }
    },
    {
      "cell_type": "markdown",
      "source": [
        "Магазин ВкуссЧилл хранит информацию о имеющихся в наличии фруктах и овощах в словаре **input_dict** в формате ключ — название фрукта или овоща, значение — количество килограмм в наличии. Посчитайте, сколько всего килограммов фруктов и овощей имеется в магазине. Результат сохраните в переменную **result**.  "
      ],
      "metadata": {
        "id": "O2ohBnGTXcUd"
      }
    },
    {
      "cell_type": "code",
      "source": [
        "input_dict = {\"морковь\": 10.44, \"капуста\": 5.06, \"клубника\": 3}\n",
        "result = sum(input_dict.values())\n",
        "print(result)"
      ],
      "metadata": {
        "id": "f7TJHXLUXinV"
      },
      "execution_count": null,
      "outputs": []
    },
    {
      "cell_type": "markdown",
      "source": [
        "## Task_8"
      ],
      "metadata": {
        "id": "2dd5XErmX7sN"
      }
    },
    {
      "cell_type": "markdown",
      "source": [
        "Имеется словарь **courses**, содержащий информацию о стоимости обучения в karpov.courses в формате:\n",
        "ключ — название курса\n",
        "значение — стоимость обучения\n",
        "\n",
        "Найдите цену самого дорогого курса. Результат сохраните в  **result**."
      ],
      "metadata": {
        "id": "qX6F2VaPX921"
      }
    },
    {
      "cell_type": "code",
      "source": [
        "courses = {\"Python\": 80000, \"SQL\": 300000}\n",
        "result = max(courses.values())\n",
        "print(result)"
      ],
      "metadata": {
        "id": "ReUf6vhBYIHE",
        "colab": {
          "base_uri": "https://localhost:8080/"
        },
        "outputId": "5256790d-dbfc-485c-93ea-16f865aa0933"
      },
      "execution_count": null,
      "outputs": [
        {
          "output_type": "stream",
          "name": "stdout",
          "text": [
            "300000\n"
          ]
        }
      ]
    },
    {
      "cell_type": "markdown",
      "source": [
        "## Task_9"
      ],
      "metadata": {
        "id": "xfE1vKj-Yhfk"
      }
    },
    {
      "cell_type": "markdown",
      "source": [
        "В базе данных МАИ информация о студентах и кафедрах, к которым они прикреплены, хранится в словаре **kaf_sudents** в формате:\n",
        "ключ — ФИ студента\n",
        "значение — код кафедры.\n",
        "\n",
        "После второго курса по итогам последних двух сессий был составлен рейтинг студентов, на основе которого произошло перераспределение студентов по кафедрам. Часть студентов продолжила обучение на своей кафедре, а некоторые студенты перешли с одной кафедры на другую. Информация о студентах, перешедших на новую кафедру, хранится в словаре **new_kaf_students**.\n",
        "\n",
        "Обновите информацию в словаре **kaf_sudents**, добабвив в словарь данные из **new_kaf_students**."
      ],
      "metadata": {
        "id": "sIK4ISVvY3jS"
      }
    },
    {
      "cell_type": "code",
      "source": [
        "kaf_sudents  = {'Карпов Анатолий Дмитриевич': 100}\n",
        "new_kaf_students =  {'Иванчей Иван Иванович': 200}\n",
        "kaf_sudents.update(new_kaf_students)\n",
        "print(kaf_sudents)"
      ],
      "metadata": {
        "colab": {
          "base_uri": "https://localhost:8080/"
        },
        "id": "CWE0vV03YwlJ",
        "outputId": "2eb090b9-8da0-4c83-aac6-ebaa0427cd23"
      },
      "execution_count": null,
      "outputs": [
        {
          "output_type": "stream",
          "name": "stdout",
          "text": [
            "{'Карпов Анатолий Дмитриевич': 100, 'Иванчей Иван Иванович': 200}\n"
          ]
        }
      ]
    },
    {
      "cell_type": "markdown",
      "source": [
        "## Немного о ключах"
      ],
      "metadata": {
        "id": "ctW4mU22ZVc1"
      }
    },
    {
      "cell_type": "markdown",
      "source": [
        "Помните, мы с вами говорили про **frozenset**? Одна из его полезных особенностей — **frozenset** можно использовать в качестве ключа словаря. Предположим, мы хотим в качестве ключа, хранить сразу пару значений — имя пользователя и его возраст."
      ],
      "metadata": {
        "id": "npAWzKafZXNv"
      }
    },
    {
      "cell_type": "code",
      "source": [
        "students_courses = {}\n",
        "name_age = frozenset(['Anatoly', 32])\n",
        "students_courses.update({name_age: ['Python', 'C++']})\n",
        "print(students_courses) # => {frozenset({32, 'Anatoly'}): ['Python', 'C++']}"
      ],
      "metadata": {
        "id": "7zG7klFBZfvw"
      },
      "execution_count": null,
      "outputs": []
    },
    {
      "cell_type": "markdown",
      "source": [
        "Это один из примеров практического применения **frozenset**, если мы хотим создать словарь, где сам ключ — это массив из нескольких элементов, то **frozenset** сможет нам помочь. Список или обычный set использовать в качестве ключа для словаря не получится."
      ],
      "metadata": {
        "id": "MVMFBFkQZi3e"
      }
    }
  ]
}