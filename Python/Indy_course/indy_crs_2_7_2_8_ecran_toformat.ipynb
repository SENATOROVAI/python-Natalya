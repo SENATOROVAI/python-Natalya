{
  "nbformat": 4,
  "nbformat_minor": 0,
  "metadata": {
    "colab": {
      "provenance": []
    },
    "kernelspec": {
      "name": "python3",
      "display_name": "Python 3"
    },
    "language_info": {
      "name": "python"
    }
  },
  "cells": [
    {
      "cell_type": "markdown",
      "source": [
        "## Экранированные, служебные символы в Python"
      ],
      "metadata": {
        "id": "rZG2DcZb5P61"
      }
    },
    {
      "cell_type": "code",
      "execution_count": null,
      "metadata": {
        "id": "lhAaxB_a02SX"
      },
      "outputs": [],
      "source": [
        "# Task1\n",
        "# Создайте этот прекрасный рисунок\n",
        "# Старайтесь для переноса строк использовать экранированный символ \"\\n\"\n"
      ]
    },
    {
      "cell_type": "code",
      "source": [
        "print(\"/\\\\_/\\\\\")\n",
        "print(\">^,^<\")\n",
        "print(\" / \\\\\")\n",
        "print(\"(|_|)_/\")\n"
      ],
      "metadata": {
        "colab": {
          "base_uri": "https://localhost:8080/"
        },
        "id": "tRWfsKXtwyRA",
        "outputId": "d96cb107-7723-445b-f434-cc4a1f8d18a6"
      },
      "execution_count": 1,
      "outputs": [
        {
          "output_type": "stream",
          "name": "stdout",
          "text": [
            "/\\_/\\\n",
            ">^,^<\n",
            " / \\\n",
            "(|_|)_/\n"
          ]
        }
      ]
    },
    {
      "cell_type": "code",
      "source": [
        "# Кот которого перевозили в разобранном состоянии\n",
        "print('/\\\\_/\\\\  \\n>^,^<  \\n / \\\\  \\n(|_|)_/')"
      ],
      "metadata": {
        "colab": {
          "base_uri": "https://localhost:8080/"
        },
        "id": "mO02ApabxDIB",
        "outputId": "828778c8-d6d7-4b1f-9342-04216f57e0a9"
      },
      "execution_count": 7,
      "outputs": [
        {
          "output_type": "stream",
          "name": "stdout",
          "text": [
            "/\\_/\\  \n",
            ">^,^<  \n",
            " / \\  \n",
            "(|_|)_/\n"
          ]
        }
      ]
    },
    {
      "cell_type": "code",
      "source": [
        "print('  /~~~\\\\\\n //^ ^\\\\\\\\\\n(/(_*_)\\\\)\\n_/\\'\\'*\\'\\'\\\\_\\n(/_)^(_\\\\)')"
      ],
      "metadata": {
        "colab": {
          "base_uri": "https://localhost:8080/"
        },
        "id": "zBzox5fB7QED",
        "outputId": "98e9f2e2-1893-4ee1-b046-cc046d48da43"
      },
      "execution_count": 6,
      "outputs": [
        {
          "output_type": "stream",
          "name": "stdout",
          "text": [
            "  /~~~\\\n",
            " //^ ^\\\\\n",
            "(/(_*_)\\)\n",
            "_/''*''\\_\n",
            "(/_)^(_\\)\n"
          ]
        }
      ]
    },
    {
      "cell_type": "code",
      "source": [
        "print(r'''\n",
        "  /~~~\\\n",
        " //^ ^\\\\\n",
        "(/(_*_)\\)\n",
        "_/''*''\\_\n",
        "(/_)^(_\\)''')\n"
      ],
      "metadata": {
        "colab": {
          "base_uri": "https://localhost:8080/"
        },
        "id": "IIzg23um8iWD",
        "outputId": "117f38ed-63cd-4608-a1c9-b4b1dd44086d"
      },
      "execution_count": 8,
      "outputs": [
        {
          "output_type": "stream",
          "name": "stdout",
          "text": [
            "\n",
            "  /~~~\\\n",
            " //^ ^\\\\\n",
            "(/(_*_)\\)\n",
            "_/''*''\\_\n",
            "(/_)^(_\\)\n"
          ]
        }
      ]
    },
    {
      "cell_type": "code",
      "source": [
        "r'''\n",
        "  /~~~\\\n",
        " //^ ^\\\\\n",
        "(/(_*_)\\)\n",
        "_/''*''\\_\n",
        "(/_)^(_\\)'''\n",
        "print(__doc__)"
      ],
      "metadata": {
        "colab": {
          "base_uri": "https://localhost:8080/"
        },
        "id": "U-Ymh_BR83RC",
        "outputId": "bddadb80-f9e8-4e50-aa7d-96b32008a292"
      },
      "execution_count": 9,
      "outputs": [
        {
          "output_type": "stream",
          "name": "stdout",
          "text": [
            "\n",
            "  /~~~\\\n",
            " //^ ^\\\\\n",
            "(/(_*_)\\)\n",
            "_/''*''\\_\n",
            "(/_)^(_\\)\n"
          ]
        }
      ]
    },
    {
      "cell_type": "markdown",
      "source": [
        "# Форматирование строк Python. Метод format\n"
      ],
      "metadata": {
        "id": "khvRFcTG-M9S"
      }
    },
    {
      "cell_type": "code",
      "source": [
        "name = 'Семён'\n",
        "mid_name = 'Семёнов'\n",
        "balance = 32.56\n",
        "\n",
        "text = \"\"\"Дорогой Семён Семёныч,\n",
        "баланс Вашего лицевого счёта составляет 32.56 руб.\"\"\"\n",
        "\n",
        "print(text)"
      ],
      "metadata": {
        "colab": {
          "base_uri": "https://localhost:8080/"
        },
        "id": "NVrDwCNb-Vi6",
        "outputId": "dad63763-2071-44a9-87f5-386387322673"
      },
      "execution_count": 10,
      "outputs": [
        {
          "output_type": "stream",
          "name": "stdout",
          "text": [
            "Дорогой Семён Семёныч, \n",
            "баланс Вашего лицевого счёта составляет 32.56 руб.\n"
          ]
        }
      ]
    },
    {
      "cell_type": "code",
      "source": [
        "text = \"\"\"Дорогой \"\"\" + 'Семён' + \" \" + 'Семёныч' + \"\"\",\n",
        "баланс Вашего лицевого счёта составляет \"\"\" + '32.56' + \"\"\" руб.\"\"\"\n",
        "print(text)"
      ],
      "metadata": {
        "colab": {
          "base_uri": "https://localhost:8080/"
        },
        "id": "FALo2BRS-fEy",
        "outputId": "53cd7d3d-56c8-4874-dd49-7ae1da556ae9"
      },
      "execution_count": 13,
      "outputs": [
        {
          "output_type": "stream",
          "name": "stdout",
          "text": [
            "Дорогой Семён Семёныч, \n",
            "баланс Вашего лицевого счёта составляет 32.56 руб.\n"
          ]
        }
      ]
    },
    {
      "cell_type": "code",
      "source": [
        "text = \"\"\"Дорогой \"\"\" + name + \" \" + mid_name + \"\"\",\n",
        "баланс Вашего лицевого счёта составляет \"\"\" + balance + \"\"\" руб.\"\"\"\n",
        "\n",
        "print(text)\n",
        "# Вот здесь мы получим ошибку, в которой говорится о том, что строки не могут\n",
        "# быть сложены с вещественными числами.\n",
        "\n",
        "# это произошло потому что переменная balance является типом float."
      ],
      "metadata": {
        "colab": {
          "base_uri": "https://localhost:8080/",
          "height": 228
        },
        "id": "7f9RkbtF-una",
        "outputId": "bb4bb846-59d5-4f44-b350-17eccab30623"
      },
      "execution_count": 14,
      "outputs": [
        {
          "output_type": "error",
          "ename": "TypeError",
          "evalue": "ignored",
          "traceback": [
            "\u001b[0;31m---------------------------------------------------------------------------\u001b[0m",
            "\u001b[0;31mTypeError\u001b[0m                                 Traceback (most recent call last)",
            "\u001b[0;32m<ipython-input-14-9c094028e793>\u001b[0m in \u001b[0;36m<cell line: 1>\u001b[0;34m()\u001b[0m\n\u001b[0;32m----> 1\u001b[0;31m text = \"\"\"Дорогой \"\"\" + name + \" \" + mid_name + \"\"\", \n\u001b[0m\u001b[1;32m      2\u001b[0m баланс Вашего лицевого счёта составляет \"\"\" + balance + \"\"\" руб.\"\"\"\n\u001b[1;32m      3\u001b[0m \u001b[0;34m\u001b[0m\u001b[0m\n\u001b[1;32m      4\u001b[0m \u001b[0mprint\u001b[0m\u001b[0;34m(\u001b[0m\u001b[0mtext\u001b[0m\u001b[0;34m)\u001b[0m\u001b[0;34m\u001b[0m\u001b[0;34m\u001b[0m\u001b[0m\n",
            "\u001b[0;31mTypeError\u001b[0m: can only concatenate str (not \"float\") to str"
          ]
        }
      ]
    },
    {
      "cell_type": "code",
      "source": [
        "text = \"\"\"Дорогой \"\"\" + name + \" \" + mid_name + \"\"\",\n",
        "баланс Вашего лицевого счёта составляет \"\"\" + str(balance) + \"\"\" руб.\"\"\"\n",
        "\n",
        "print(text)"
      ],
      "metadata": {
        "colab": {
          "base_uri": "https://localhost:8080/"
        },
        "id": "Dm7gIOoQ_HJy",
        "outputId": "9ba816a8-7063-430a-f972-7144deb8fdb5"
      },
      "execution_count": 15,
      "outputs": [
        {
          "output_type": "stream",
          "name": "stdout",
          "text": [
            "Дорогой Семён Семёнов, \n",
            "баланс Вашего лицевого счёта составляет 32.56 руб.\n"
          ]
        }
      ]
    },
    {
      "cell_type": "markdown",
      "source": [
        "### метод format"
      ],
      "metadata": {
        "id": "YMjGE3-i_RVJ"
      }
    },
    {
      "cell_type": "markdown",
      "source": [
        "Вызываем после нашей строки и передаём ему наши три переменные, в том порядке, в котором они появляются в нашей строке. Также в самой строке в фигурных скобках указываем порядковые номера переменных, которые находятся в скобках."
      ],
      "metadata": {
        "id": "_1MbXwer_5TR"
      }
    },
    {
      "cell_type": "code",
      "source": [
        "name = 'Семён'\n",
        "mid_name = 'Семёнов'\n",
        "balance = 32.56\n",
        "\n",
        "text = \"\"\"Дорогой {0} {1},\n",
        "баланс Вашего лицевого счёта составляет {2} руб.\"\"\".format(name, mid_name, balance)\n",
        "\n",
        "print(text)"
      ],
      "metadata": {
        "colab": {
          "base_uri": "https://localhost:8080/"
        },
        "id": "Cp8INeVi_bqJ",
        "outputId": "019a1f58-db9c-48e2-8ab3-f38d52292213"
      },
      "execution_count": 19,
      "outputs": [
        {
          "output_type": "stream",
          "name": "stdout",
          "text": [
            "Дорогой Семён Семёнов, \n",
            "баланс Вашего лицевого счёта составляет 32.56 руб.\n"
          ]
        }
      ]
    },
    {
      "cell_type": "code",
      "source": [
        "name = 'Семён'\n",
        "mid_name = 'Семёнов'\n",
        "balance = 32.56\n",
        "\n",
        "text = \"\"\"Дорогой {0} {1},\n",
        "баланс Вашего лицевого счёта составляет {2} руб.\"\"\".format(mid_name, name, balance)\n",
        "\n",
        "print(text)"
      ],
      "metadata": {
        "colab": {
          "base_uri": "https://localhost:8080/"
        },
        "id": "hp1m43yx_ntx",
        "outputId": "2f3b7ffb-fc23-485e-cac7-75da18730bdc"
      },
      "execution_count": 17,
      "outputs": [
        {
          "output_type": "stream",
          "name": "stdout",
          "text": [
            "Дорогой Семёнов Семён, \n",
            "баланс Вашего лицевого счёта составляет 32.56 руб.\n"
          ]
        }
      ]
    },
    {
      "cell_type": "code",
      "source": [
        "text = \"\"\"Дорогой {0} {1},\n",
        "баланс Вашего лицевого счёта составляет {1} руб.\"\"\".format(mid_name, name, balance)\n",
        "# Данное использование формата называется позиционное.\n",
        "# mid_name имеет индекс [0] и далее соответственно.\n",
        "print(text)"
      ],
      "metadata": {
        "colab": {
          "base_uri": "https://localhost:8080/"
        },
        "id": "uIgz9h0qDqhv",
        "outputId": "8afa0704-c9b2-417d-e277-88e1a33a381b"
      },
      "execution_count": 25,
      "outputs": [
        {
          "output_type": "stream",
          "name": "stdout",
          "text": [
            "Дорогой Семёнов Семён, \n",
            "баланс Вашего лицевого счёта составляет Семён руб.\n"
          ]
        }
      ]
    },
    {
      "cell_type": "markdown",
      "source": [
        "Второй вариант использования формата - это именованное использование переменных. Вместо индексов проставляются имена переменных.\n",
        "Имя шаблона = имени переменной."
      ],
      "metadata": {
        "id": "PAYiOeJFCOnX"
      }
    },
    {
      "cell_type": "code",
      "source": [
        "name = 'Семён'\n",
        "mid_name = 'Семёнов'\n",
        "balance = 32.56\n",
        "\n",
        "text = \"\"\"Дорогой {name} {mid_name},\n",
        "баланс Вашего лицевого счёта составляет {balance} руб.\"\"\".format(mid_name=mid_name, name=name, balance=balance)\n",
        "\n",
        "print(text)"
      ],
      "metadata": {
        "colab": {
          "base_uri": "https://localhost:8080/"
        },
        "id": "txVFewLBCT4f",
        "outputId": "464362eb-baf9-4b06-c4a2-75a313690739"
      },
      "execution_count": 20,
      "outputs": [
        {
          "output_type": "stream",
          "name": "stdout",
          "text": [
            "Дорогой Семён Семёнов, \n",
            "баланс Вашего лицевого счёта составляет 32.56 руб.\n"
          ]
        }
      ]
    },
    {
      "cell_type": "markdown",
      "source": [
        "Сопоставление будет происходить полностью по именам и если вы хотите использовать какую-то переменную в нашей шаблонной строке несколько раз, то вам всего лишь нужно указать в самом шаблоне переменные которые вы хотите использовать."
      ],
      "metadata": {
        "id": "9kBEd-vDCoN_"
      }
    },
    {
      "cell_type": "code",
      "source": [
        "name = 'Семён'\n",
        "mid_name = 'Семёнов'\n",
        "balance = 32.56\n",
        "\n",
        "text = \"\"\"Дорогой {name} {mid_name},\n",
        "баланс Вашего лицевого счёта составляет {balance} руб. {name}\"\"\".format(mid_name=mid_name, name=name, balance=balance)\n",
        "\n",
        "print(text)"
      ],
      "metadata": {
        "colab": {
          "base_uri": "https://localhost:8080/"
        },
        "id": "2yrKSN57CpJA",
        "outputId": "0bd803de-67d9-441b-ef8f-365b3d4ff4a8"
      },
      "execution_count": 21,
      "outputs": [
        {
          "output_type": "stream",
          "name": "stdout",
          "text": [
            "Дорогой Семён Семёнов, \n",
            "баланс Вашего лицевого счёта составляет 32.56 руб. Семён\n"
          ]
        }
      ]
    },
    {
      "cell_type": "markdown",
      "source": [
        "Также хочу обратить Ваше внимание что имена внутри шаблона вы выбираете сами. Вы спокойно могли их сократить до переменных n, m и b, что соответствует первой букве каждого из этих значений."
      ],
      "metadata": {
        "id": "_oICSzPICxB5"
      }
    },
    {
      "cell_type": "code",
      "source": [
        "name = 'Семён'\n",
        "mid_name = 'Семёнов'\n",
        "balance = 32.56\n",
        "\n",
        "text = \"\"\"Дорогой {n} {m},\n",
        "баланс Вашего лицевого счёта составляет {b} руб.\"\"\".format(m=mid_name, n=name, b=balance)\n",
        "\n",
        "print(text)"
      ],
      "metadata": {
        "colab": {
          "base_uri": "https://localhost:8080/"
        },
        "id": "z_MWN2-CC0Qa",
        "outputId": "ee29c26e-3417-429e-b7f6-1376eabb81fa"
      },
      "execution_count": 22,
      "outputs": [
        {
          "output_type": "stream",
          "name": "stdout",
          "text": [
            "Дорогой Семён Семёнов, \n",
            "баланс Вашего лицевого счёта составляет 32.56 руб.\n"
          ]
        }
      ]
    },
    {
      "cell_type": "markdown",
      "source": [
        "Данный способ форматирования гораздо популярнее и удобнее, чем конкатенация, но всё же использование функции format уступает новому способу о котором у нас пойдёт речь в следующем занятии. Он называется F-строки, и появился в Python совсем недавно."
      ],
      "metadata": {
        "id": "Z3JbyDsmDJO_"
      }
    },
    {
      "cell_type": "code",
      "source": [
        "word = input()\n",
        "print(\"Что Вы сказали? {w}? Какое интересное слово\".format(w = word))\n",
        "# Конвульсия\n",
        "# выхухоль"
      ],
      "metadata": {
        "colab": {
          "base_uri": "https://localhost:8080/"
        },
        "id": "BTl8GD6WGizV",
        "outputId": "a0c0570c-c37d-43f3-fe4a-c38a43832229"
      },
      "execution_count": 27,
      "outputs": [
        {
          "output_type": "stream",
          "name": "stdout",
          "text": [
            "Конвульсия\n",
            "Что Вы сказали? Конвульсия? Какое интересное слово\n"
          ]
        }
      ]
    },
    {
      "cell_type": "markdown",
      "source": [
        "## Task_1\n"
      ],
      "metadata": {
        "id": "S6t-tkDUIggd"
      }
    },
    {
      "cell_type": "code",
      "source": [
        "print('Что Вы сказали? {}? Какое интересное слово'.format(input()))\n",
        "# print('Что Вы сказали? {0}? Какое интересное слово'.format(input()))\n",
        "# - можно и без нуля"
      ],
      "metadata": {
        "colab": {
          "base_uri": "https://localhost:8080/"
        },
        "id": "S0cbRIccG1Jn",
        "outputId": "e95731ea-0ceb-40b3-82ca-fbba3840f436"
      },
      "execution_count": 28,
      "outputs": [
        {
          "output_type": "stream",
          "name": "stdout",
          "text": [
            "Конвульсия\n",
            "Что Вы сказали? Конвульсия? Какое интересное слово\n"
          ]
        }
      ]
    },
    {
      "cell_type": "code",
      "source": [
        "print(f'Что Вы сказали? {input()}? Какое интересное слово')"
      ],
      "metadata": {
        "id": "NY6E5_AOHNQo"
      },
      "execution_count": null,
      "outputs": []
    },
    {
      "cell_type": "markdown",
      "source": [
        "## Task_2"
      ],
      "metadata": {
        "id": "ZdCKBPs1Iej0"
      }
    },
    {
      "cell_type": "markdown",
      "source": [
        "Sample Input 1:\n",
        "\n",
        "\n",
        "Петя\n",
        "\n",
        "Иванов\n",
        "\n",
        "Sample Output 1:\n",
        "\n",
        "\n",
        "Здравствуйте, Иванов Петя!"
      ],
      "metadata": {
        "id": "wXg-GpIRI06F"
      }
    },
    {
      "cell_type": "code",
      "source": [
        "name = input()\n",
        "surname = input()\n",
        "print(f\"Здравствуйте, {surname} {name}!\")"
      ],
      "metadata": {
        "colab": {
          "base_uri": "https://localhost:8080/"
        },
        "id": "GCv1yv4yI4Vd",
        "outputId": "7d45bc31-136d-44b6-a187-2fef7715504e"
      },
      "execution_count": 29,
      "outputs": [
        {
          "output_type": "stream",
          "name": "stdout",
          "text": [
            "Петя\n",
            "Иванов\n",
            "Здравствуйте, Иванов Петя!\n"
          ]
        }
      ]
    },
    {
      "cell_type": "code",
      "source": [
        "print(\"Здравствуйте, {1} {0}!\".format(input(), input()))"
      ],
      "metadata": {
        "colab": {
          "base_uri": "https://localhost:8080/"
        },
        "id": "6TCmDG4hJJkE",
        "outputId": "2530deca-0db5-4e2c-ac06-328fd2c85341"
      },
      "execution_count": 30,
      "outputs": [
        {
          "output_type": "stream",
          "name": "stdout",
          "text": [
            "Петя\n",
            "Иванов\n",
            "Здравствуйте, Иванов Петя!\n"
          ]
        }
      ]
    },
    {
      "cell_type": "code",
      "source": [
        "print('Здравствуйте, {secondName} {firstName}!'.format(firstName=input(), secondName=input()))"
      ],
      "metadata": {
        "colab": {
          "base_uri": "https://localhost:8080/"
        },
        "id": "qJWa0K2jJVbE",
        "outputId": "39b1e9d5-eaa9-4c17-938e-5a4f2b76ea46"
      },
      "execution_count": 31,
      "outputs": [
        {
          "output_type": "stream",
          "name": "stdout",
          "text": [
            "Петя\n",
            "Иванов\n",
            "Здравствуйте, Иванов Петя!\n"
          ]
        }
      ]
    },
    {
      "cell_type": "markdown",
      "source": [
        "## Task_3"
      ],
      "metadata": {
        "id": "BRkDa_aeJkX9"
      }
    },
    {
      "cell_type": "markdown",
      "source": [
        "Напишите программу, которая считывает целое число, и затем сообщает какие числа будут следующим и предыдущим в определенном формате. Пробелы, знаки препинания, заглавные и строчные буквы важны!"
      ],
      "metadata": {
        "id": "zqhgWoGCJpOG"
      }
    },
    {
      "cell_type": "markdown",
      "source": [
        "Sample Input:\n",
        "\n",
        "99\n",
        "\n",
        "Sample Output:\n",
        "\n",
        "Для числа 99 предыдущим будет число 98.\n",
        "\n",
        "Для числа 99 следующим будет число 100."
      ],
      "metadata": {
        "id": "4BF6TY8nJ0N8"
      }
    },
    {
      "cell_type": "code",
      "source": [
        "num = int(input())\n",
        "num1 = num - 1\n",
        "num2 = num + 1\n",
        "print(f\"Для числа {num} предыдущим будет число {num1}.\")\n",
        "print(f\"Для числа {num} следующим будет число {num2}.\")"
      ],
      "metadata": {
        "colab": {
          "base_uri": "https://localhost:8080/"
        },
        "id": "Nkbn7C7VJ1-O",
        "outputId": "ab1770fa-61d8-4877-944e-0067ca30e200"
      },
      "execution_count": 32,
      "outputs": [
        {
          "output_type": "stream",
          "name": "stdout",
          "text": [
            "99\n",
            "Для числа 99 предыдущим будет число 98.\n",
            "Для числа 99 следующим будет число 100.\n"
          ]
        }
      ]
    },
    {
      "cell_type": "code",
      "source": [
        "a=int(input())\n",
        "print('Для числа {0} предыдущим будет число {1}.'.format(a,a-1))\n",
        "print('Для числа {0} следующим будет число {1}.'.format(a,a+1))"
      ],
      "metadata": {
        "id": "szNH6OU4Lib9"
      },
      "execution_count": null,
      "outputs": []
    },
    {
      "cell_type": "code",
      "source": [
        "num = int(input())\n",
        "num1 = num - 1\n",
        "num2 = num + 1\n",
        "print('Для числа {0} предыдущим будет число {1}.\\nДля числа {0} следующим будет число {2}.'.format(num, num1, num2))"
      ],
      "metadata": {
        "colab": {
          "base_uri": "https://localhost:8080/"
        },
        "id": "jGGGu1LoLsU8",
        "outputId": "b061d60c-11fd-4c4e-c1e7-342ecd98aec5"
      },
      "execution_count": 33,
      "outputs": [
        {
          "output_type": "stream",
          "name": "stdout",
          "text": [
            "99\n",
            "Для числа 99 предыдущим будет число 98.\n",
            "Для числа 99 следующим будет число 100.\n"
          ]
        }
      ]
    }
  ]
}