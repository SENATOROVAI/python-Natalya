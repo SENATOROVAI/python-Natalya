{
  "cells": [
    {
      "cell_type": "markdown",
      "metadata": {
        "colab_type": "text",
        "id": "view-in-github"
      },
      "source": [
        "<a href=\"https://colab.research.google.com/github/ProNatalya/python/blob/main/codeforces_1_10.ipynb\" target=\"_parent\"><img src=\"https://colab.research.google.com/assets/colab-badge.svg\" alt=\"Open In Colab\"/></a>"
      ]
    },
    {
      "cell_type": "markdown",
      "metadata": {
        "id": "UZALayq3b-1E"
      },
      "source": [
        "# 4A. Арбуз (1)\n",
        "## https://codeforces.com/problemset/problem/4/A"
      ]
    },
    {
      "cell_type": "code",
      "execution_count": null,
      "metadata": {
        "colab": {
          "base_uri": "https://localhost:8080/"
        },
        "id": "xSvd6TqFcH0H",
        "outputId": "fa28a628-7ac0-4d8f-a197-d8f36c60f640"
      },
      "outputs": [
        {
          "name": "stdout",
          "output_type": "stream",
          "text": [
            "54\n",
            "yes\n"
          ]
        }
      ],
      "source": [
        "w = int(input())\n",
        "if w % 2 == 0 and w > 2: # % - оператор остатка от деления. Он возвращает остаток от деления левого операнда на правый операнд\n",
        "    # == - оператор равенства, который сравнивает два операнда и возвращает True, если равны, и False, если они не равны.\n",
        "    print(\"yes\")\n",
        "else:\n",
        "    print(\"no\") "
      ]
    },
    {
      "cell_type": "markdown",
      "metadata": {
        "id": "g1A3EMZmc9Ig"
      },
      "source": [
        "# 231А. Команда\n",
        "https://codeforces.com/problemset/problem/231/A"
      ]
    },
    {
      "cell_type": "code",
      "execution_count": null,
      "metadata": {
        "colab": {
          "base_uri": "https://localhost:8080/"
        },
        "id": "XC7ziPfOdNRL",
        "outputId": "83f0aa5a-8ac3-4f32-e524-448695ac793b"
      },
      "outputs": [
        {
          "name": "stdout",
          "output_type": "stream",
          "text": [
            "3\n",
            "1 1 0\n",
            "1 1 1\n",
            "0 1 1\n",
            "3\n"
          ]
        }
      ],
      "source": [
        "n = int(input())\n",
        "count = 0\n",
        "for _ in range(n):\n",
        "    x,p,z = map(int, input().split(' '))\n",
        "    sum_all = x+p+z\n",
        "    if sum_all >= 2:\n",
        "        count += 1\n",
        "    else:\n",
        "      continue\n",
        "print(count)"
      ]
    },
    {
      "cell_type": "markdown",
      "metadata": {
        "id": "OH3NCo8daSjY"
      },
      "source": [
        "# 50A. Укладка  доминошками (2)\n",
        "https://codeforces.com/contest/50/problem/A"
      ]
    },
    {
      "cell_type": "code",
      "execution_count": 1,
      "metadata": {
        "colab": {
          "base_uri": "https://localhost:8080/"
        },
        "id": "2K3gzwPZa0qa",
        "outputId": "d49052ee-2c9e-4a06-ecc6-085cc7eac398"
      },
      "outputs": [
        {
          "name": "stdout",
          "output_type": "stream",
          "text": [
            "5\n"
          ]
        }
      ],
      "source": [
        "n, m = map(int, input().split())\n",
        "# В данном примере кода map применяет int к каждому строковому элементу во входных данных.\n",
        "# split создает пробелы между вводимыми данными.\n",
        "print(n * m // 2)"
      ]
    },
    {
      "cell_type": "markdown",
      "metadata": {
        "id": "-2MeyGNAbmUp"
      },
      "source": [
        "# 71А Слишком длинные слова\n",
        "https://codeforces.com/problemset/problem/71/A"
      ]
    },
    {
      "cell_type": "code",
      "execution_count": null,
      "metadata": {
        "colab": {
          "base_uri": "https://localhost:8080/"
        },
        "id": "yq9GMOpsbwGV",
        "outputId": "901e4e3e-d9a0-4455-aa5b-b2f88fc8ef43"
      },
      "outputs": [
        {
          "name": "stdout",
          "output_type": "stream",
          "text": [
            "4\n",
            "word\n",
            "dfhjiyrfhjjbnnvb\n",
            "dfhjjnnnnjghj\n",
            "xxvvfghjjnnbb\n",
            "word\n",
            "d14b\n",
            "d11j\n",
            "x11b\n"
          ]
        }
      ],
      "source": [
        "lght = int(input(\"\"))\n",
        "words = []\n",
        "if lght >= 1 and lght <= 100:\n",
        "  for i in range(lght):\n",
        "    words.append(str(input(\"\")))\n",
        "  for j in words:\n",
        "    if len(j.lower()) > 10:\n",
        "      print(j[0].lower() + str(len(j.lower()) - 2) + j[-1].lower())\n",
        "    else:\n",
        "      print(j.lower())"
      ]
    },
    {
      "cell_type": "markdown",
      "metadata": {
        "id": "EgmcwnBD2knv"
      },
      "source": [
        "# Задача 158A - Следующий раунд\n",
        "https://codeforces.com/problemset/problem/158/A"
      ]
    },
    {
      "cell_type": "code",
      "execution_count": null,
      "metadata": {
        "colab": {
          "base_uri": "https://localhost:8080/"
        },
        "id": "8zPfUds02wx_",
        "outputId": "6fe1f4bc-5789-4cdf-e10f-5fa54efbe3bc"
      },
      "outputs": [
        {
          "name": "stdout",
          "output_type": "stream",
          "text": [
            "8 5 \n",
            "10 9 8 7 7 7 5 5\n",
            "6\n"
          ]
        }
      ],
      "source": [
        "n, k = map(int, input().split())\n",
        "score = list(map(int, input().split()))\n",
        "necessary_score = score[k - 1]\n",
        "count = 0\n",
        "for i in score:\n",
        "  if(i >= necessary_score and i > 0):\n",
        "    count += 1\n",
        "print(count)"
      ]
    },
    {
      "cell_type": "markdown",
      "metadata": {
        "id": "I2azuJRwB7zY"
      },
      "source": [
        "# 282A. Bit++\n",
        "https://codeforces.com/problemset/problem/282/A"
      ]
    },
    {
      "cell_type": "code",
      "execution_count": null,
      "metadata": {
        "colab": {
          "base_uri": "https://localhost:8080/"
        },
        "id": "nTiI8XOwCLxs",
        "outputId": "3e40053c-50b7-4eb3-ed1f-2a5ed80286dc"
      },
      "outputs": [
        {
          "name": "stdout",
          "output_type": "stream",
          "text": [
            "1\n",
            "++X\n",
            "1\n"
          ]
        }
      ],
      "source": [
        "n = int(input())\n",
        "x = 0\n",
        "for _ in range(0, n):\n",
        "  s = input()\n",
        "  if \"++\" in s:\n",
        "    x += 1\n",
        "  else:\n",
        "    x -= 1\n",
        "print(x)"
      ]
    },
    {
      "cell_type": "markdown",
      "metadata": {
        "id": "wl6sOYZ0NRnM"
      },
      "source": [
        "# 263A. Красивая матрица\n",
        "https://codeforces.com/problemset/problem/263/A"
      ]
    },
    {
      "cell_type": "code",
      "execution_count": null,
      "metadata": {
        "colab": {
          "base_uri": "https://localhost:8080/"
        },
        "id": "BP50EJFENhET",
        "outputId": "f8a78bf1-aa2f-4a24-b286-b53a89c09bf8"
      },
      "outputs": [
        {
          "name": "stdout",
          "output_type": "stream",
          "text": [
            "0 0 0 0 0\n",
            "0 0 0 0 1\n",
            "0 0 0 0 0\n",
            "0 0 0 0 0\n",
            "0 0 0 0 0\n",
            "3\n"
          ]
        }
      ],
      "source": [
        "array = []\n",
        "x = 0\n",
        "y = 0\n",
        "for i in range(5):\n",
        "  matrix = input().split()\n",
        "  array.append(matrix)\n",
        "\n",
        "  for j in range(5):\n",
        "    if array[i][j] == \"1\":\n",
        "        x = i - 2\n",
        "        y = j - 2\n",
        "        result = abs(x) + abs(y)\n",
        "print(result)"
      ]
    },
    {
      "cell_type": "markdown",
      "metadata": {
        "id": "pR_EG71vjJhi"
      },
      "source": [
        "# 546A. Солдат и бананы (3)\n",
        "https://codeforces.com/problemset/problem/546/A"
      ]
    },
    {
      "cell_type": "code",
      "execution_count": null,
      "metadata": {
        "colab": {
          "base_uri": "https://localhost:8080/"
        },
        "id": "PtnplRChghXj",
        "outputId": "f8f1c8c4-d0ea-470d-84f3-a3321887ac5e"
      },
      "outputs": [
        {
          "name": "stdout",
          "output_type": "stream",
          "text": [
            "3 17 4\n",
            "13\n"
          ]
        }
      ],
      "source": [
        "k, n, w = map(int, input().split())\n",
        "result = (k * ((w * (w + 1)) / 2)) - n\n",
        "if result < 0:\n",
        "  print(\"0\")\n",
        "else:\n",
        "  print(int(result))"
      ]
    },
    {
      "cell_type": "markdown",
      "metadata": {
        "id": "ROJxDK1VoFRR"
      },
      "source": [
        "# 617A. Слоник (4)\n",
        "https://codeforces.com/problemset/problem/617/A"
      ]
    },
    {
      "cell_type": "code",
      "execution_count": null,
      "metadata": {
        "colab": {
          "base_uri": "https://localhost:8080/"
        },
        "id": "Qa7B0FkjoMqu",
        "outputId": "d5c0b52e-111c-4ebb-c309-243f98604fee"
      },
      "outputs": [
        {
          "name": "stdout",
          "output_type": "stream",
          "text": [
            "5\n",
            "1\n"
          ]
        }
      ],
      "source": [
        "x = int(input())\n",
        "print((x + 4) // 5)"
      ]
    },
    {
      "cell_type": "code",
      "execution_count": null,
      "metadata": {
        "colab": {
          "base_uri": "https://localhost:8080/"
        },
        "id": "eivKr29BqDoL",
        "outputId": "ea3bf79a-4b88-4a42-e71f-3b58e5227615"
      },
      "outputs": [
        {
          "name": "stdout",
          "output_type": "stream",
          "text": [
            "5\n",
            "1\n"
          ]
        }
      ],
      "source": [
        "x = int(input())\n",
        "count = 0\n",
        "if x % 5 == 0:\n",
        "     count = x // 5\n",
        "else:\n",
        "     count = x // 5 + 1\n",
        "print(count)"
      ]
    },
    {
      "cell_type": "markdown",
      "metadata": {
        "id": "viQ7_eH2whOY"
      },
      "source": [
        "# 486А. Подсчет функции(5)\n",
        "https://codeforces.com/problemset/problem/486/A?locale=ru"
      ]
    },
    {
      "cell_type": "code",
      "execution_count": null,
      "metadata": {
        "colab": {
          "base_uri": "https://localhost:8080/"
        },
        "id": "WXzh3yJlxQAe",
        "outputId": "5182a60d-5aeb-44ba-ef61-08d050d392a3"
      },
      "outputs": [
        {
          "name": "stdout",
          "output_type": "stream",
          "text": [
            "4\n",
            "2\n"
          ]
        }
      ],
      "source": [
        "n = int(input())\n",
        "if n%2 == 0:\n",
        "  print(n//2)\n",
        "else:\n",
        "  print(-((n+1)//2))"
      ]
    },
    {
      "cell_type": "markdown",
      "metadata": {
        "id": "sfL8JYkaZc9v"
      },
      "source": [
        "# 200В. Напитки(6)\n",
        "https://codeforces.com/problemset/problem/200/B"
      ]
    },
    {
      "cell_type": "code",
      "execution_count": null,
      "metadata": {
        "id": "InI-0FdSjG4h"
      },
      "outputs": [],
      "source": [
        "n = int(input())\n",
        "proportion = list(map(int, input().split())) # split создает пробелы между вводимыми данными.\n",
        "print(n * m // 2)\n",
        "juice = 0\n",
        "mix = len(proportion) * 100\n",
        "for i in range(len(proportion)):\n",
        "    juice += proportion[i]\n",
        "print(100 /mix*juice)"
      ]
    },
    {
      "cell_type": "code",
      "execution_count": null,
      "metadata": {
        "colab": {
          "base_uri": "https://localhost:8080/"
        },
        "id": "1-9zrZYqZrWe",
        "outputId": "0fa72e51-a187-42ab-b047-19d1324009b7"
      },
      "outputs": [
        {
          "name": "stdout",
          "output_type": "stream",
          "text": [
            "3\n",
            "50 50 100\n",
            "66.66666666666666\n"
          ]
        }
      ],
      "source": [
        "# в кодфорс это не проходит\n",
        "\n",
        "n = int(input()) # количество  апельсиновых напитков\n",
        "proportion = list(map(int, input().split())) # обьемная доля апел.сока в  i-м напитке\n",
        "juice = 0\n",
        "for i in range(len(proportion)):\n",
        "  juice += proportion[i]\n",
        "print(1 / n*juice)"
      ]
    },
    {
      "cell_type": "markdown",
      "metadata": {
        "id": "Aqs6351Qjjqs"
      },
      "source": [
        "# 1328A. Задача о делимости(7)\n",
        "https://codeforces.com/problemset/problem/1328/A"
      ]
    },
    {
      "cell_type": "code",
      "execution_count": null,
      "metadata": {
        "colab": {
          "base_uri": "https://localhost:8080/"
        },
        "id": "UkvXHPY6kL0c",
        "outputId": "75b792b9-e71d-4b11-fb46-352459da8712"
      },
      "outputs": [
        {
          "name": "stdout",
          "output_type": "stream",
          "text": [
            "5\n",
            "10 4\n",
            "2\n",
            "13 9 \n",
            "5\n",
            "100 13\n",
            "4\n",
            "123 456\n",
            "333\n",
            "92 46\n",
            "0\n"
          ]
        }
      ],
      "source": [
        "def solution(a, b):\n",
        "    if a % b != 0:\n",
        "        return b - a % b\n",
        "    else:\n",
        "        return 0\n",
        "\n",
        "t = int(input())\n",
        "for _ in range(t):\n",
        "    a, b = map(int, input().split())\n",
        "    answer = solution(a, b)\n",
        "    print(answer)"
      ]
    },
    {
      "cell_type": "markdown",
      "metadata": {
        "id": "jl0pvViWgH22"
      },
      "source": [
        "# 148A. Средство от бессонницы(8)\n",
        "https://codeforces.com/problemset/problem/148/A"
      ]
    },
    {
      "cell_type": "code",
      "execution_count": null,
      "metadata": {
        "colab": {
          "base_uri": "https://localhost:8080/"
        },
        "id": "i4VqJluOhmfd",
        "outputId": "e120555e-5d74-4abf-9acb-26e21e678800"
      },
      "outputs": [
        {
          "name": "stdout",
          "output_type": "stream",
          "text": [
            "1 \n",
            "2\n",
            "3\n",
            "4\n",
            "12\n",
            "12\n"
          ]
        }
      ],
      "source": [
        "k=int(input())\n",
        "l=int(input())\n",
        "m=int(input())\n",
        "n=int(input())\n",
        "d=int(input())\n",
        "count=0\n",
        "for i in range(1,d+1):\n",
        "    if i % k==0 or i % l==0 or i % m==0 or i % n==0:\n",
        "         count+=1\n",
        "print(count)\n",
        "\n",
        "\n"
      ]
    },
    {
      "cell_type": "markdown",
      "metadata": {
        "id": "ds7eRrLhlgX5"
      },
      "source": [
        "# 1335A. Конфеты и две сестры(9)\n",
        "https://codeforces.com/problemset/problem/1335/A"
      ]
    },
    {
      "cell_type": "code",
      "execution_count": null,
      "metadata": {
        "colab": {
          "base_uri": "https://localhost:8080/"
        },
        "id": "kEVqe1_ilpvw",
        "outputId": "67db92aa-3824-4828-f076-b8e89721f3af"
      },
      "outputs": [
        {
          "name": "stdout",
          "output_type": "stream",
          "text": [
            "6\n",
            "7\n",
            "3\n",
            "1\n",
            "0\n",
            "2\n",
            "0\n",
            "3\n",
            "1\n",
            "2000000000\n",
            "999999999\n",
            "673243547\n",
            "336621773\n"
          ]
        }
      ],
      "source": [
        "x = int(input())\n",
        "for i in range(x):\n",
        "    n = int(input())\n",
        "    print((n - 1)//2)"
      ]
    },
    {
      "cell_type": "markdown",
      "metadata": {
        "id": "r5G0SH3f9sJi"
      },
      "source": [
        "# 750A. Новый год и спешка(10)\n",
        "https://codeforces.com/problemset/problem/750/A"
      ]
    },
    {
      "cell_type": "code",
      "execution_count": null,
      "metadata": {
        "colab": {
          "base_uri": "https://localhost:8080/"
        },
        "id": "ezakCVpM95Q6",
        "outputId": "36b6279f-cf44-49b3-a527-e82dcd062ef1"
      },
      "outputs": [
        {
          "name": "stdout",
          "output_type": "stream",
          "text": [
            "3 222\n",
            "2\n"
          ]
        }
      ],
      "source": [
        "n, k = map(int, input().split())\n",
        "while n * (n + 1)//2 * 5 > 240 - k:\n",
        "    n -= 1\n",
        "print(n)"
      ]
    }
  ],
  "metadata": {
    "colab": {
      "authorship_tag": "ABX9TyO52A23y9+c5R9LEKza9qIP",
      "gpuType": "T4",
      "include_colab_link": true,
      "provenance": []
    },
    "kernelspec": {
      "display_name": "Python 3",
      "name": "python3"
    },
    "language_info": {
      "codemirror_mode": {
        "name": "ipython",
        "version": 3
      },
      "file_extension": ".py",
      "mimetype": "text/x-python",
      "name": "python",
      "nbconvert_exporter": "python",
      "pygments_lexer": "ipython3",
      "version": "3.11.5"
    }
  },
  "nbformat": 4,
  "nbformat_minor": 0
}
