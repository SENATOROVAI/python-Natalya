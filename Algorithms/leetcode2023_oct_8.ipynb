{
 "cells": [
  {
   "cell_type": "markdown",
   "metadata": {
    "colab_type": "text",
    "id": "view-in-github"
   },
   "source": [
    "<a href=\"https://colab.research.google.com/github/ProNatalya/python/blob/main/leetcode_1_10.ipynb\" target=\"_parent\"><img src=\"https://colab.research.google.com/assets/colab-badge.svg\" alt=\"Open In Colab\"/></a>"
   ]
  },
  {
   "cell_type": "markdown",
   "metadata": {
    "id": "W26bK80XrG_c"
   },
   "source": [
    "# 1512. Number of Good Pairs\n",
    "## https://leetcode.com/problems/number-of-good-pairs/description/"
   ]
  },
  {
   "cell_type": "code",
   "execution_count": 28,
   "metadata": {
    "colab": {
     "base_uri": "https://localhost:8080/"
    },
    "id": "hVWacpk0q1tU",
    "outputId": "c7adc033-ede3-4e8f-c957-1830764b6b20"
   },
   "outputs": [
    {
     "name": "stdout",
     "output_type": "stream",
     "text": [
      "6\n",
      "4\n"
     ]
    }
   ],
   "source": [
    "class Solution:\n",
    "    def numIdenticalPairs(self, nums: list[int]) -> int:\n",
    "        count = 0\n",
    "        for i in range(len(nums)):\n",
    "            for j in range(i + 1, len(nums)):\n",
    "                if nums[i] == nums[j]:\n",
    "                    count += 1\n",
    "        return count\n",
    "\n",
    "\n",
    "c = Solution()\n",
    "c.numIdenticalPairs([1, 1, 1, 1])\n",
    "print(c.numIdenticalPairs([1, 1, 1, 1]))\n",
    "v = Solution()\n",
    "print(v.numIdenticalPairs([1, 2, 3, 1, 1, 3]))"
   ]
  },
  {
   "cell_type": "markdown",
   "metadata": {
    "id": "MG0I7n2uBiQ-"
   },
   "source": [
    "# 2469. Convert the Temperature\n",
    "## https://leetcode.com/problems/convert-the-temperature/submissions/"
   ]
  },
  {
   "cell_type": "code",
   "execution_count": 32,
   "metadata": {
    "colab": {
     "base_uri": "https://localhost:8080/"
    },
    "id": "xyYnnN46B47N",
    "outputId": "e417cd2c-a82a-4717-c4b8-c127f03a9cf8"
   },
   "outputs": [
    {
     "name": "stdout",
     "output_type": "stream",
     "text": [
      "[309.65, 97.7]\n",
      "[395.26, 251.798]\n"
     ]
    }
   ],
   "source": [
    "class Solution:\n",
    "    def convertTemperature(self, celsius: float) -> list[float]:\n",
    "        kelvin = celsius + 273.15\n",
    "        fahrenheit = celsius * 1.80 + 32.00\n",
    "        list = [kelvin, fahrenheit]\n",
    "        return list\n",
    "\n",
    "\n",
    "d = Solution()\n",
    "print(d.convertTemperature(36.5))\n",
    "dd = Solution()\n",
    "print(dd.convertTemperature(122.11))"
   ]
  },
  {
   "cell_type": "markdown",
   "metadata": {
    "id": "zarvGqOYFZHO"
   },
   "source": [
    "# 2769. Find the Maximum Achievable Number\n",
    "## https://leetcode.com/problems/find-the-maximum-achievable-number/description/"
   ]
  },
  {
   "cell_type": "code",
   "execution_count": 34,
   "metadata": {
    "colab": {
     "base_uri": "https://localhost:8080/"
    },
    "id": "SLMHbolnE3ra",
    "outputId": "d4aa4255-ccf3-4304-8b16-1b75d039ac9d"
   },
   "outputs": [
    {
     "name": "stdout",
     "output_type": "stream",
     "text": [
      "6\n",
      "7\n"
     ]
    }
   ],
   "source": [
    "class Solution:\n",
    "    def theMaximumAchievableX(self, num: int, t: int) -> int:\n",
    "        return num + 2 * t\n",
    "\n",
    "\n",
    "a = Solution()\n",
    "print(a.theMaximumAchievableX(4, 1))\n",
    "aa = Solution()\n",
    "print(aa.theMaximumAchievableX(3, 2))"
   ]
  },
  {
   "cell_type": "markdown",
   "metadata": {
    "id": "2HJuagY9HyI-"
   },
   "source": [
    "# 2413. Smallest Even Multiple\n",
    "## https://leetcode.com/problems/smallest-even-multiple/description/"
   ]
  },
  {
   "cell_type": "code",
   "execution_count": 36,
   "metadata": {
    "colab": {
     "base_uri": "https://localhost:8080/"
    },
    "id": "ldrbYYROHpth",
    "outputId": "d27f4e19-98c6-4e5a-b2a8-e6f9b1c7135a"
   },
   "outputs": [
    {
     "name": "stdout",
     "output_type": "stream",
     "text": [
      "10\n",
      "6\n"
     ]
    }
   ],
   "source": [
    "class Solution:\n",
    "    def smallestEvenMultiple(self, n: int):\n",
    "        if n % 2 == 0:\n",
    "            return n\n",
    "        else:\n",
    "            return 2 * n\n",
    "\n",
    "\n",
    "b = Solution()\n",
    "print(b.smallestEvenMultiple(5))\n",
    "bb = Solution()\n",
    "print(bb.smallestEvenMultiple(6))"
   ]
  },
  {
   "cell_type": "markdown",
   "metadata": {
    "id": "Wwn-kuz8MKge"
   },
   "source": [
    "# 2235. Add Two Integers\n",
    "## https://leetcode.com/problems/add-two-integers/description/"
   ]
  },
  {
   "cell_type": "code",
   "execution_count": 38,
   "metadata": {
    "colab": {
     "base_uri": "https://localhost:8080/"
    },
    "id": "3QTq_Md0MDfQ",
    "outputId": "4a4b0cfe-4cdc-48e7-847c-bea6a2141422"
   },
   "outputs": [
    {
     "name": "stdout",
     "output_type": "stream",
     "text": [
      "17\n",
      "-6\n"
     ]
    }
   ],
   "source": [
    "class Solution:\n",
    "    def sum(self, num1: int, num2: int) -> int:\n",
    "        return num1 + num2\n",
    "\n",
    "\n",
    "e = Solution()\n",
    "print(e.sum(12, 5))\n",
    "ee = Solution()\n",
    "print(ee.sum(-10, 4))"
   ]
  },
  {
   "cell_type": "markdown",
   "metadata": {
    "id": "NsQPz_Ons_Q9"
   },
   "source": [
    "# 342. Power of four\n",
    "## https://leetcode.com/problems/power-of-four/"
   ]
  },
  {
   "cell_type": "code",
   "execution_count": 40,
   "metadata": {
    "colab": {
     "base_uri": "https://localhost:8080/"
    },
    "id": "CxNVcBuGtNWm",
    "outputId": "99e1dc98-ee5c-43ec-9498-1ea3a8fe835b"
   },
   "outputs": [
    {
     "name": "stdout",
     "output_type": "stream",
     "text": [
      "True\n",
      "False\n"
     ]
    }
   ],
   "source": [
    "class Solution:\n",
    "    def isPowerOfFour(self, n: int) -> bool:\n",
    "        if n <= 0:\n",
    "            return False\n",
    "        while n > 1:\n",
    "            if n % 4 != 0:\n",
    "                return False\n",
    "            n //= 4\n",
    "        return True\n",
    "\n",
    "\n",
    "f = Solution()\n",
    "print(f.isPowerOfFour(16))\n",
    "ff = Solution()\n",
    "print(ff.isPowerOfFour(5))"
   ]
  },
  {
   "cell_type": "code",
   "execution_count": 43,
   "metadata": {
    "colab": {
     "base_uri": "https://localhost:8080/"
    },
    "id": "SesnMCR6wJR-",
    "outputId": "16ec8bcd-f98a-420d-92af-2a357c0babfd"
   },
   "outputs": [
    {
     "name": "stdout",
     "output_type": "stream",
     "text": [
      "True\n"
     ]
    }
   ],
   "source": [
    "import math\n",
    "\n",
    "\n",
    "class Solution:\n",
    "    def isPowerOfFour(self, n: int) -> bool:\n",
    "        if n <= 0:\n",
    "            return False\n",
    "        return math.log(n, 4).is_integer()\n",
    "\n",
    "\n",
    "g = Solution()\n",
    "print(g.isPowerOfFour(16))"
   ]
  },
  {
   "cell_type": "markdown",
   "metadata": {
    "id": "ZC07mdm56PXt"
   },
   "source": [
    "# 9.Palindrome Number\n",
    "## https://leetcode.com/problems/palindrome-number/"
   ]
  },
  {
   "cell_type": "code",
   "execution_count": 46,
   "metadata": {
    "colab": {
     "base_uri": "https://localhost:8080/"
    },
    "id": "5DLWoPpl6vN-",
    "outputId": "c676c9fa-0357-4809-9059-db3c3910e206"
   },
   "outputs": [
    {
     "name": "stdout",
     "output_type": "stream",
     "text": [
      "True\n",
      "False\n",
      "False\n"
     ]
    }
   ],
   "source": [
    "class Solution:\n",
    "    def isPalindrome(self, x: int) -> bool:\n",
    "        x_str: str = str(\n",
    "            x\n",
    "        )  # не забывай указывать тип данных переменных и проверять через MyPy\n",
    "        x_str_reverse = x_str[::-1]\n",
    "        if x < 0:\n",
    "            return False\n",
    "        if x_str == x_str_reverse:\n",
    "            return True\n",
    "        if x_str != x_str_reverse:\n",
    "            return False\n",
    "\n",
    "\n",
    "h = Solution()\n",
    "print(h.isPalindrome(121))\n",
    "hh = Solution()\n",
    "print(hh.isPalindrome(-131))\n",
    "hhh = Solution()\n",
    "print(hh.isPalindrome(10))"
   ]
  },
  {
   "cell_type": "code",
   "execution_count": 47,
   "metadata": {
    "colab": {
     "base_uri": "https://localhost:8080/"
    },
    "id": "wVhx6lYP8YWj",
    "outputId": "7f27b5c7-6c4e-4104-c086-a7f49b9b3d68"
   },
   "outputs": [
    {
     "name": "stdout",
     "output_type": "stream",
     "text": [
      "False\n"
     ]
    }
   ],
   "source": [
    "def isPalindrome(self, x: int) -> bool:\n",
    "    if x < 0:\n",
    "        return False\n",
    "    return str(x) == str(x)[::-1]\n",
    "\n",
    "\n",
    "gg = Solution()\n",
    "print(gg.isPalindrome(10))"
   ]
  },
  {
   "cell_type": "markdown",
   "metadata": {
    "id": "mY4629M7F12o"
   },
   "source": [
    "# 2652. Sum Multiples\n",
    "## https://leetcode.com/problems/sum-multiples/description/"
   ]
  },
  {
   "cell_type": "code",
   "execution_count": 49,
   "metadata": {
    "colab": {
     "base_uri": "https://localhost:8080/"
    },
    "id": "6DPVQ3CiGR_u",
    "outputId": "f6984f6f-9a55-4641-c5df-6d07e32b21e6"
   },
   "outputs": [
    {
     "name": "stdout",
     "output_type": "stream",
     "text": [
      "21\n",
      "40\n"
     ]
    }
   ],
   "source": [
    "class Solution:\n",
    "    def sumOfMultiples(self, n: int) -> int:\n",
    "        count = 0\n",
    "        for i in range(1, n + 1):\n",
    "            if i % 3 == 0 or i % 5 == 0 or i % 7 == 0:\n",
    "                count += i\n",
    "        return count\n",
    "\n",
    "\n",
    "m = Solution()\n",
    "print(m.sumOfMultiples(7))\n",
    "mm = Solution()\n",
    "print(m.sumOfMultiples(10))"
   ]
  },
  {
   "cell_type": "code",
   "execution_count": 51,
   "metadata": {
    "colab": {
     "base_uri": "https://localhost:8080/"
    },
    "id": "AI8K6816Hb9Z",
    "outputId": "577c0323-9f28-4972-bfb0-4b23a9fb1f90"
   },
   "outputs": [
    {
     "name": "stdout",
     "output_type": "stream",
     "text": [
      "30\n"
     ]
    }
   ],
   "source": [
    "class Solution:\n",
    "    def sumOfMultiples(self, n: int) -> int:\n",
    "        result = []\n",
    "        for num in range(1, n + 1):\n",
    "            if num % 3 == 0 or num % 5 == 0 or num % 7 == 0:\n",
    "                result.append(num)\n",
    "        return sum(result)\n",
    "\n",
    "\n",
    "mmm = Solution()\n",
    "print(mmm.sumOfMultiples(9))"
   ]
  }
 ],
 "metadata": {
  "colab": {
   "authorship_tag": "ABX9TyN/qvjPJFWAPUqsUZyC/RY1",
   "include_colab_link": true,
   "provenance": []
  },
  "kernelspec": {
   "display_name": "Python 3",
   "name": "python3"
  },
  "language_info": {
   "name": "python"
  }
 },
 "nbformat": 4,
 "nbformat_minor": 0
}
