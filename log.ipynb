{
  "cells": [
    {
      "cell_type": "markdown",
      "metadata": {
        "colab_type": "text",
        "id": "view-in-github"
      },
      "source": [
        "<a href=\"https://colab.research.google.com/github/ProNatalya/python/blob/main/log.ipynb\" target=\"_parent\"><img src=\"https://colab.research.google.com/assets/colab-badge.svg\" alt=\"Open In Colab\"/></a>"
      ]
    },
    {
      "cell_type": "markdown",
      "metadata": {
        "id": "VQvuubza87ho"
      },
      "source": [
        " 2023_07_19_lesson2\n",
        "\n",
        "1. Математические операторы (МО):\n",
        "   +, -, /, = ;\n",
        "2. Дополнительные МО:\n",
        "   // - деление с отбрасыванием остатка;\n",
        "   % - деление по модулю, остаток от деления;\n",
        "   ** - возведение в степень;  \n",
        "3. Примеры вычислений с МО и доп МО.\n",
        "4. Булевые операторы:\n",
        "   True;\n",
        "   False.\n",
        "5. Логические операторы:\n",
        "   and - конъюнкция;\n",
        "   or - дизъюнкция;\n",
        "   not - инверсия.\n",
        "6. Команда !python 'имя файла'\n",
        "   Запускает содержимое файла в  colab online.\n",
        "6. Таблица истинности логических   операций (and, or, not)\n",
        "7. Преобразование типов\n",
        "   (True + True; 0 == False)\n"
      ]
    },
    {
      "cell_type": "markdown",
      "metadata": {
        "id": "OCl7vGz7lFiV"
      },
      "source": [
        " 2023_07_24_Lesson 3\n",
        "\n",
        "Data Science, ML - 8 -12 месяцев\n",
        "1. Python beginner - 2 мес\n",
        "2. Дата Аналитика (анализ данных) - 4 месяца\n",
        "3. Парсинг  (сбор данных) - 5-6 месяцев\n",
        "\n",
        "Числа - это числа.\n",
        "Цифры - это числовые символы.\n",
        "Множество натуральных чисел:\n",
        "N = {I, II, III ...}\n",
        "Способы создания множеств:\n",
        "1) перечисление\n",
        "2) описание (определяем свойства их элементов)\n",
        "\n",
        "Диаграмма Венна\n",
        "__________________\n",
        "Виды дробей\n",
        "__________________________\n",
        "Дроби, правила вычислений.\n",
        "____________________________\n",
        "Правила округления.\n",
        "_____________________________\n",
        "Разряды в математике ( классы и разряды - см.pic3_lesson3)\n",
        "_____________________________\n",
        "Q ∪ I = R\n",
        "Объединение множеств"
      ]
    },
    {
      "cell_type": "markdown",
      "metadata": {
        "id": "nxvR1FrzrwKy"
      },
      "source": [
        "2023_08_07_Lesson4\n",
        "\n",
        "Определили план развития на ближайшее время:\n",
        "пройти курс питона степик\n",
        "kaggle питон\n",
        "karpov python\n",
        "free code camp (школьная математика)\n",
        "2 часа день - математика и 1 час python\n",
        "khan academy (математика)\n",
        "math pro экспресс курс по математике (учебник)\n",
        "марафон по математике\n",
        "Настроили vs code для python\n",
        "создали виртуальное окружение (python -m venv venv)\n",
        "активировали виртуальное окружение (venv\\sc+tab\\a+tab)"
      ]
    },
    {
      "cell_type": "markdown",
      "metadata": {
        "id": "2ouWNhSTrzgI"
      },
      "source": [
        "2023_08_14_Lesson5\n",
        "1. Section P.1. from College Algebra Robert Blitzer\n",
        "  - algebraic expressions\n",
        "  - exponential notation (возведение в степень)\n",
        "  - mathematical model\n",
        "2. woodhunt.ru useful vocabulary\n",
        "3. Таблица истинности - знать"
      ]
    },
    {
      "cell_type": "markdown",
      "metadata": {
        "id": "1srF-SpyWiEj"
      },
      "source": [
        "2023_08_21_Lesson6\n",
        "Discrete mathematics for CS, Chapter1\n",
        "Sets. Ways of creating."
      ]
    },
    {
      "cell_type": "markdown",
      "metadata": {
        "id": "mWBIwJ3w9gW9"
      },
      "source": [
        "2023_08_28_Lesson7\n",
        "Проходили списки в python.\n",
        "- list\n",
        "- list.append()\n",
        "- dir(list)\n",
        "- type(list)"
      ]
    },
    {
      "cell_type": "markdown",
      "metadata": {
        "id": "IiWC4ivZzppc"
      },
      "source": [
        "2023_09_04_Lesson8  Проходили list, class, def, key arguments"
      ]
    },
    {
      "cell_type": "markdown",
      "metadata": {
        "id": "W9jx2PvAUSu4"
      },
      "source": [
        "## 2023_09_11_Lesson9\n",
        "### Был первый урок по Numpy.\n",
        "Введение в векторную алгебру.\n",
        "Определения векторов.\n",
        "Радиус вектор.\n",
        "Matplotlib.\n"
      ]
    },
    {
      "cell_type": "markdown",
      "metadata": {
        "id": "U_c2OOtCPuWT"
      },
      "source": [
        "## 2023_09_13_Бонус урок.\n",
        "### Определили, что возможно стать ML engineer."
      ]
    },
    {
      "cell_type": "markdown",
      "metadata": {
        "id": "0xCdvOAaWC0r"
      },
      "source": [
        "## 2023_09_18_Lesson10\n",
        "### Открытие двери в мир алгоритмов.\n",
        "### Big-O Notation\n",
        "### Binary Search\n",
        "#### https://www.geeksforgeeks.org/python-program-for-binary-search/"
      ]
    },
    {
      "cell_type": "markdown",
      "metadata": {
        "id": "izABg-A4cf41"
      },
      "source": [
        "## 2023_09_25_Lesson11\n",
        "### Продолжаем изучать Numpy"
      ]
    },
    {
      "cell_type": "markdown",
      "metadata": {
        "id": "IxO4fDKmsauV"
      },
      "source": [
        "## 2023_10_02_Lesson12\n",
        "* Numpy\n",
        "* List\n",
        "* Tuple"
      ]
    },
    {
      "cell_type": "markdown",
      "metadata": {
        "id": "QWn_SHGepfaL"
      },
      "source": [
        "## 2023_10_09_Lesson13\n",
        "* Numpy\n",
        "* column vector, row vector\n",
        "* plt.plot - метод, создает график"
      ]
    },
    {
      "cell_type": "markdown",
      "metadata": {
        "id": "IP_L-BCrqqBx"
      },
      "source": [
        "## 2023_10_16_Lesson14\n",
        "* плагин mypy - type checker\n",
        "* аннотация типов\n",
        "* строгая типизация\n"
      ]
    },
    {
      "cell_type": "markdown",
      "metadata": {
        "id": "_KzzQ-0JzBks"
      },
      "source": [
        "## 2023_10_23_Lesson15\n",
        "* экспресс опрос про вектора\n",
        "* скалярное произведение векторов\n",
        "* векторное произведение векторов\n",
        "* адамарово произведение\n",
        "* как эти формулы обрабатываются в numpy\n"
      ]
    },
    {
      "cell_type": "markdown",
      "metadata": {
        "id": "1ZvkPnF_-W4r"
      },
      "source": [
        "## 2023_10_30_Lesson16\n",
        "* Урок мотивации двигаться дальше"
      ]
    },
    {
      "cell_type": "markdown",
      "metadata": {
        "id": "KKuJ116R-uEa"
      },
      "source": [
        "## 2023_11_06_Lesson17\n",
        "* Математическая логика(таблица истинности), повторение\n",
        "* Диаграмма Венна\n",
        "* Data analyst: необходимо знать векторную алгебру. На ней основаны Numpy, Pandas.\n",
        "* Для участия в Kaggle:математический анализ, статистика.\n",
        "* Также доя Data analyst важны знания Python(Numpy, Pandas) и SQL ()\n",
        "* Визуализация (Tableau, Power BI)\n",
        "* ods чаты\n",
        "* методичка Алгоритмы классического машинного обучения ИТМО"
      ]
    },
    {
      "cell_type": "markdown",
      "metadata": {
        "id": "dC8fpQqOGkSn"
      },
      "source": [
        "## 2023_11_13_ Lesson18\n",
        "* proglib.academy (план изучения математики для DS) - 2 секции за неделю\n",
        "* dwnload Ml - education файл и сделать\n",
        "* тема отображения пройти\n",
        "* SQL\n",
        "* кванторы - математика (таблица)\n",
        "* linal, photo_linal"
      ]
    },
    {
      "cell_type": "markdown",
      "metadata": {},
      "source": [
        "## 2023_11_18_Lesson19\n",
        "* Стартовали Математический анализ\n",
        "* Предел\n",
        "* Как решать пределы\n",
        "* Примеры простейших пределов\n",
        "* Линейность предела\n",
        "* Типовые пределы с неопределенностью вида infinity/infinity. Алгоритм решения."
      ]
    },
    {
      "cell_type": "markdown",
      "metadata": {},
      "source": [
        "## 2023_12_02_Lesson20\n",
        "* Проверка усвоения предыдущего урока\n",
        "* Решение новых примеров"
      ]
    },
    {
      "cell_type": "markdown",
      "metadata": {},
      "source": [
        "## 2023_12_16_Lesson21\n",
        "* Пределы\n",
        "* Пределы с неопределенностью вида 0/0\n",
        "* Решение примеров"
      ]
    }
  ],
  "metadata": {
    "colab": {
      "authorship_tag": "ABX9TyPXDbIJoo0z77wau4jxwi3e",
      "include_colab_link": true,
      "provenance": []
    },
    "kernelspec": {
      "display_name": "Python 3",
      "name": "python3"
    },
    "language_info": {
      "name": "python",
      "version": "3.11.5"
    }
  },
  "nbformat": 4,
  "nbformat_minor": 0
}
